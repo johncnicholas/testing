{
 "cells": [
  {
   "cell_type": "markdown",
   "metadata": {},
   "source": [
    "# This notebook takes the Whatever we define as the \"Base Layer\" Data & Produces a list of Seed Points combined within a specific buffer (300ft currently) that have not passed the Evaluation Criteria"
   ]
  },
  {
   "cell_type": "code",
   "execution_count": 1,
   "metadata": {},
   "outputs": [],
   "source": [
    "##Pandas and NumPy\n",
    "import pandas as pd\n",
    "pd.set_option(\"display.max_columns\", None)\n",
    "pd.set_option(\"display.max_rows\", 8)\n",
    "import numpy as np\n",
    "\n",
    "##GeoSpatial imports\n",
    "import geopandas as gpd\n",
    "from geopy.distance import geodesic\n",
    "import descartes as dc\n",
    "import keplergl\n",
    "from keplergl import KeplerGl\n",
    "\n",
    "##for gemoetry to be compatible with geopandas\n",
    "from shapely.wkt import load\n",
    "\n",
    "\n",
    "## Swifter for applies\n",
    "import swifter\n",
    "\n",
    "## For distance calc test using columns\n",
    "from math import sin, cos, sqrt, atan2, radians,pi\n",
    "import gc\n",
    "import datetime\n",
    "\n",
    "##For map projections\n",
    "import pyproj\n",
    "from pyproj import Proj, transform, CRS\n",
    "\n",
    "## manually setting proj directory bc I installed two. Data directory is finnicky. I just switch until it works :/\n",
    "old = 'c:\\\\users\\\\rbijn006\\\\appdata\\\\local\\\\programs\\\\python\\\\python38\\\\lib\\\\site-packages\\\\pyproj\\\\proj_dir\\\\share\\\\proj'\n",
    "new = 'c:\\\\users\\\\rbijn006\\\\appdata\\\\local\\\\programs\\\\python\\\\python38\\\\lib\\\\site-packages\\\\osgeo\\\\data\\\\proj'\n",
    "\n",
    "pyproj.datadir.set_data_dir(new)\n"
   ]
  },
  {
   "cell_type": "code",
   "execution_count": 2,
   "metadata": {},
   "outputs": [
    {
     "data": {
      "text/plain": [
       "'c:\\\\users\\\\rbijn006\\\\appdata\\\\local\\\\programs\\\\python\\\\python38\\\\lib\\\\site-packages\\\\osgeo\\\\data\\\\proj'"
      ]
     },
     "execution_count": 2,
     "metadata": {},
     "output_type": "execute_result"
    }
   ],
   "source": [
    "pyproj.datadir.get_data_dir()"
   ]
  },
  {
   "cell_type": "code",
   "execution_count": 3,
   "metadata": {},
   "outputs": [],
   "source": [
    "pyproj.datadir.set_data_dir(old)"
   ]
  },
  {
   "cell_type": "code",
   "execution_count": 4,
   "metadata": {},
   "outputs": [],
   "source": [
    "## Filepaths to data, I ONLY NEED RT\n",
    "\n",
    "r = \"data/RT_OpenStores.csv\"\n",
    "#c=  \"data/CXY_ALL_1_11_21.csv\""
   ]
  },
  {
   "cell_type": "code",
   "execution_count": 5,
   "metadata": {},
   "outputs": [],
   "source": [
    "## Read in cxy for purpose of seeing if it will help distingusih dt from non-dt\n",
    "#cxy = pd.read_csv(c)\n",
    "\n",
    "## Possibly some unstructured info I could use to narrow down dt vs not dt, but nothing clear.\n",
    "#cxy[\"OtherFields\"].unique()\n",
    "#cxy[\"AdditionalAttributes\"].unique()\n"
   ]
  },
  {
   "cell_type": "code",
   "execution_count": 6,
   "metadata": {},
   "outputs": [
    {
     "name": "stderr",
     "output_type": "stream",
     "text": [
      "c:\\users\\rbijn006\\appdata\\local\\programs\\python\\python38\\lib\\site-packages\\IPython\\core\\interactiveshell.py:3145: DtypeWarning: Columns (38,42,75) have mixed types.Specify dtype option on import or set low_memory=False.\n",
      "  has_raised = await self.run_ast_nodes(code_ast.body, cell_name,\n"
     ]
    }
   ],
   "source": [
    "## Read in restaurant trends data\n",
    "rt = pd.read_csv(r)"
   ]
  },
  {
   "cell_type": "code",
   "execution_count": 7,
   "metadata": {},
   "outputs": [
    {
     "name": "stdout",
     "output_type": "stream",
     "text": [
      "['QSR' 'FSR']\n",
      "0.9855522395609398\n"
     ]
    }
   ],
   "source": [
    "## Isolate the QSR segment of the rt data, which is 98% of the data\n",
    "print(rt[\"SEGMENT\"].unique())\n",
    "print(len(rt[(rt[\"SEGMENT\"]==\"QSR\")])/len(rt))\n",
    "\n",
    "rt = rt[(rt[\"SEGMENT\"]==\"QSR\")]"
   ]
  },
  {
   "cell_type": "code",
   "execution_count": 8,
   "metadata": {},
   "outputs": [],
   "source": [
    "## Next, exclude Popeyes \n",
    "rt = rt[~(rt[\"CHAIN\"]==\"Popeyes\")]"
   ]
  },
  {
   "cell_type": "code",
   "execution_count": 9,
   "metadata": {},
   "outputs": [],
   "source": [
    "## Then isolate drive-thru only locations\n",
    "#pd.set_option(\"display.max_rows\", None)\n",
    "#rt.groupby(\"SERVICE_CODE\").count()"
   ]
  },
  {
   "cell_type": "markdown",
   "metadata": {},
   "source": [
    "### What I see here is many sites have a NA service code. I could go crazy trying to reconcile which sites are DT and which arent. Since I am just trying to get a solid base down, I will isolate bt DT for now, then come back to this later."
   ]
  },
  {
   "cell_type": "code",
   "execution_count": 10,
   "metadata": {},
   "outputs": [],
   "source": [
    "## Filtering for service code indicating that we have a drive_thru, resetting index as well\n",
    "\n",
    "\n",
    "\n",
    "#rt_dt = rt[(rt[\"SERVICE_CODE\"] ==\"DT\")].reset_index(drop=True)\n",
    "\n",
    "\n",
    "## Filtering only for military base b/c would be bad if MB kicked out a civillian point in the optimization\n",
    "rt_dt = rt[~(rt[\"LOCATION_DESCRIPTION\"]=='Military Base')]"
   ]
  },
  {
   "cell_type": "code",
   "execution_count": 11,
   "metadata": {},
   "outputs": [],
   "source": [
    "## There are no NA values for County or State at this point\n",
    "#rt[(rt[\"COUNTY\"].isna())]\n",
    "#rt[(rt[\"GEOSTATE\"].isna())]"
   ]
  },
  {
   "cell_type": "code",
   "execution_count": 12,
   "metadata": {},
   "outputs": [],
   "source": [
    "## Creating a location table\n",
    "rt_dt_tbl = rt_dt[[\"STORE_NO\",\"CHAIN\", \"LATITUDE\",\"LONGITUDE\"]]"
   ]
  },
  {
   "cell_type": "code",
   "execution_count": 13,
   "metadata": {},
   "outputs": [
    {
     "data": {
      "text/html": [
       "<div>\n",
       "<style scoped>\n",
       "    .dataframe tbody tr th:only-of-type {\n",
       "        vertical-align: middle;\n",
       "    }\n",
       "\n",
       "    .dataframe tbody tr th {\n",
       "        vertical-align: top;\n",
       "    }\n",
       "\n",
       "    .dataframe thead th {\n",
       "        text-align: right;\n",
       "    }\n",
       "</style>\n",
       "<table border=\"1\" class=\"dataframe\">\n",
       "  <thead>\n",
       "    <tr style=\"text-align: right;\">\n",
       "      <th></th>\n",
       "      <th>STORE_NO</th>\n",
       "      <th>CHAIN</th>\n",
       "      <th>LATITUDE</th>\n",
       "      <th>LONGITUDE</th>\n",
       "    </tr>\n",
       "  </thead>\n",
       "  <tbody>\n",
       "    <tr>\n",
       "      <th>0</th>\n",
       "      <td>467925</td>\n",
       "      <td>1000 Degrees</td>\n",
       "      <td>40.687198</td>\n",
       "      <td>-74.312737</td>\n",
       "    </tr>\n",
       "    <tr>\n",
       "      <th>1</th>\n",
       "      <td>468071</td>\n",
       "      <td>800 Degrees Pizza</td>\n",
       "      <td>41.411226</td>\n",
       "      <td>-81.838519</td>\n",
       "    </tr>\n",
       "    <tr>\n",
       "      <th>2</th>\n",
       "      <td>468006</td>\n",
       "      <td>A &amp; W</td>\n",
       "      <td>44.111902</td>\n",
       "      <td>-88.657309</td>\n",
       "    </tr>\n",
       "    <tr>\n",
       "      <th>3</th>\n",
       "      <td>467999</td>\n",
       "      <td>A &amp; W</td>\n",
       "      <td>46.402699</td>\n",
       "      <td>-105.822015</td>\n",
       "    </tr>\n",
       "    <tr>\n",
       "      <th>...</th>\n",
       "      <td>...</td>\n",
       "      <td>...</td>\n",
       "      <td>...</td>\n",
       "      <td>...</td>\n",
       "    </tr>\n",
       "    <tr>\n",
       "      <th>158152</th>\n",
       "      <td>467836</td>\n",
       "      <td>Subway</td>\n",
       "      <td>42.017352</td>\n",
       "      <td>-71.020925</td>\n",
       "    </tr>\n",
       "    <tr>\n",
       "      <th>158153</th>\n",
       "      <td>467837</td>\n",
       "      <td>Mountain Mike's Pizza</td>\n",
       "      <td>38.469999</td>\n",
       "      <td>-122.729952</td>\n",
       "    </tr>\n",
       "    <tr>\n",
       "      <th>158154</th>\n",
       "      <td>467838</td>\n",
       "      <td>Captain D's</td>\n",
       "      <td>38.190631</td>\n",
       "      <td>-84.823982</td>\n",
       "    </tr>\n",
       "    <tr>\n",
       "      <th>158155</th>\n",
       "      <td>467839</td>\n",
       "      <td>Long John Silver's</td>\n",
       "      <td>38.845196</td>\n",
       "      <td>-76.884308</td>\n",
       "    </tr>\n",
       "  </tbody>\n",
       "</table>\n",
       "<p>153067 rows × 4 columns</p>\n",
       "</div>"
      ],
      "text/plain": [
       "        STORE_NO                  CHAIN   LATITUDE   LONGITUDE\n",
       "0         467925           1000 Degrees  40.687198  -74.312737\n",
       "1         468071      800 Degrees Pizza  41.411226  -81.838519\n",
       "2         468006                  A & W  44.111902  -88.657309\n",
       "3         467999                  A & W  46.402699 -105.822015\n",
       "...          ...                    ...        ...         ...\n",
       "158152    467836                 Subway  42.017352  -71.020925\n",
       "158153    467837  Mountain Mike's Pizza  38.469999 -122.729952\n",
       "158154    467838            Captain D's  38.190631  -84.823982\n",
       "158155    467839     Long John Silver's  38.845196  -76.884308\n",
       "\n",
       "[153067 rows x 4 columns]"
      ]
     },
     "execution_count": 13,
     "metadata": {},
     "output_type": "execute_result"
    }
   ],
   "source": [
    "rt_dt_tbl"
   ]
  },
  {
   "cell_type": "markdown",
   "metadata": {},
   "source": [
    "# Now doing a distance test between geodesic & columnwise calcs\n",
    "## Results: columnwise is instant with error not exceeding 0.15 mi at 60 mi distance, geodesic ~13 seconds no error"
   ]
  },
  {
   "cell_type": "code",
   "execution_count": 12,
   "metadata": {},
   "outputs": [
    {
     "name": "stderr",
     "output_type": "stream",
     "text": [
      "<ipython-input-12-51ec6c3464ff>:3: SettingWithCopyWarning: \n",
      "A value is trying to be set on a copy of a slice from a DataFrame.\n",
      "Try using .loc[row_indexer,col_indexer] = value instead\n",
      "\n",
      "See the caveats in the documentation: https://pandas.pydata.org/pandas-docs/stable/user_guide/indexing.html#returning-a-view-versus-a-copy\n",
      "  rt_dt_tbl[\"dist_from_test_pt_geo\"] = rt_dt_tbl.apply(lambda row: geodesic((row.LATITUDE,row.LONGITUDE),test_pt).feet, axis=1)\n"
     ]
    }
   ],
   "source": [
    "test_pt = (44.111902,-88.657309)\n",
    "\n",
    "rt_dt_tbl[\"dist_from_test_pt_geo\"] = rt_dt_tbl.apply(lambda row: geodesic((row.LATITUDE,row.LONGITUDE),test_pt).feet, axis=1)"
   ]
  },
  {
   "cell_type": "code",
   "execution_count": 13,
   "metadata": {},
   "outputs": [],
   "source": [
    "#rt_dt_tbl"
   ]
  },
  {
   "cell_type": "code",
   "execution_count": 14,
   "metadata": {},
   "outputs": [
    {
     "name": "stderr",
     "output_type": "stream",
     "text": [
      "<ipython-input-14-66588f31a471>:1: SettingWithCopyWarning: \n",
      "A value is trying to be set on a copy of a slice from a DataFrame.\n",
      "Try using .loc[row_indexer,col_indexer] = value instead\n",
      "\n",
      "See the caveats in the documentation: https://pandas.pydata.org/pandas-docs/stable/user_guide/indexing.html#returning-a-view-versus-a-copy\n",
      "  rt_dt_tbl[\"point_lat\"] = 44.111902\n",
      "<ipython-input-14-66588f31a471>:2: SettingWithCopyWarning: \n",
      "A value is trying to be set on a copy of a slice from a DataFrame.\n",
      "Try using .loc[row_indexer,col_indexer] = value instead\n",
      "\n",
      "See the caveats in the documentation: https://pandas.pydata.org/pandas-docs/stable/user_guide/indexing.html#returning-a-view-versus-a-copy\n",
      "  rt_dt_tbl[\"point_lon\"] = -88.657309\n"
     ]
    }
   ],
   "source": [
    "rt_dt_tbl[\"point_lat\"] = 44.111902\n",
    "rt_dt_tbl[\"point_lon\"] = -88.657309"
   ]
  },
  {
   "cell_type": "code",
   "execution_count": 15,
   "metadata": {},
   "outputs": [],
   "source": [
    "#rt_dt_tbl"
   ]
  },
  {
   "cell_type": "code",
   "execution_count": 16,
   "metadata": {},
   "outputs": [
    {
     "name": "stderr",
     "output_type": "stream",
     "text": [
      "<ipython-input-16-026bd3f23b0b>:2: SettingWithCopyWarning: \n",
      "A value is trying to be set on a copy of a slice from a DataFrame.\n",
      "Try using .loc[row_indexer,col_indexer] = value instead\n",
      "\n",
      "See the caveats in the documentation: https://pandas.pydata.org/pandas-docs/stable/user_guide/indexing.html#returning-a-view-versus-a-copy\n",
      "  rt_dt_tbl['lat1']=(rt_dt_tbl['LATITUDE'])*pi/180\n",
      "<ipython-input-16-026bd3f23b0b>:3: SettingWithCopyWarning: \n",
      "A value is trying to be set on a copy of a slice from a DataFrame.\n",
      "Try using .loc[row_indexer,col_indexer] = value instead\n",
      "\n",
      "See the caveats in the documentation: https://pandas.pydata.org/pandas-docs/stable/user_guide/indexing.html#returning-a-view-versus-a-copy\n",
      "  rt_dt_tbl['lat2']=(rt_dt_tbl['point_lat'])*pi/180\n",
      "<ipython-input-16-026bd3f23b0b>:4: SettingWithCopyWarning: \n",
      "A value is trying to be set on a copy of a slice from a DataFrame.\n",
      "Try using .loc[row_indexer,col_indexer] = value instead\n",
      "\n",
      "See the caveats in the documentation: https://pandas.pydata.org/pandas-docs/stable/user_guide/indexing.html#returning-a-view-versus-a-copy\n",
      "  rt_dt_tbl['lon1']=(rt_dt_tbl['LONGITUDE'])*pi/180\n",
      "<ipython-input-16-026bd3f23b0b>:5: SettingWithCopyWarning: \n",
      "A value is trying to be set on a copy of a slice from a DataFrame.\n",
      "Try using .loc[row_indexer,col_indexer] = value instead\n",
      "\n",
      "See the caveats in the documentation: https://pandas.pydata.org/pandas-docs/stable/user_guide/indexing.html#returning-a-view-versus-a-copy\n",
      "  rt_dt_tbl['lon2']=(rt_dt_tbl['point_lon'])*pi/180\n",
      "<ipython-input-16-026bd3f23b0b>:6: SettingWithCopyWarning: \n",
      "A value is trying to be set on a copy of a slice from a DataFrame.\n",
      "Try using .loc[row_indexer,col_indexer] = value instead\n",
      "\n",
      "See the caveats in the documentation: https://pandas.pydata.org/pandas-docs/stable/user_guide/indexing.html#returning-a-view-versus-a-copy\n",
      "  rt_dt_tbl['x'] = (rt_dt_tbl['lon2'] - rt_dt_tbl['lon1']) * np.cos( 0.5*(rt_dt_tbl['lat2']+rt_dt_tbl['lat1']) )\n",
      "<ipython-input-16-026bd3f23b0b>:7: SettingWithCopyWarning: \n",
      "A value is trying to be set on a copy of a slice from a DataFrame.\n",
      "Try using .loc[row_indexer,col_indexer] = value instead\n",
      "\n",
      "See the caveats in the documentation: https://pandas.pydata.org/pandas-docs/stable/user_guide/indexing.html#returning-a-view-versus-a-copy\n",
      "  rt_dt_tbl['y'] = rt_dt_tbl['lat2'] - rt_dt_tbl['lat1']\n",
      "<ipython-input-16-026bd3f23b0b>:8: SettingWithCopyWarning: \n",
      "A value is trying to be set on a copy of a slice from a DataFrame.\n",
      "Try using .loc[row_indexer,col_indexer] = value instead\n",
      "\n",
      "See the caveats in the documentation: https://pandas.pydata.org/pandas-docs/stable/user_guide/indexing.html#returning-a-view-versus-a-copy\n",
      "  rt_dt_tbl['dist_cols']=21000000 * np.sqrt( rt_dt_tbl['x']*rt_dt_tbl['x'] + rt_dt_tbl['y']*rt_dt_tbl['y'] )\n"
     ]
    },
    {
     "data": {
      "text/html": [
       "<div>\n",
       "<style scoped>\n",
       "    .dataframe tbody tr th:only-of-type {\n",
       "        vertical-align: middle;\n",
       "    }\n",
       "\n",
       "    .dataframe tbody tr th {\n",
       "        vertical-align: top;\n",
       "    }\n",
       "\n",
       "    .dataframe thead th {\n",
       "        text-align: right;\n",
       "    }\n",
       "</style>\n",
       "<table border=\"1\" class=\"dataframe\">\n",
       "  <thead>\n",
       "    <tr style=\"text-align: right;\">\n",
       "      <th></th>\n",
       "      <th>STORE_NO</th>\n",
       "      <th>CHAIN</th>\n",
       "      <th>LATITUDE</th>\n",
       "      <th>LONGITUDE</th>\n",
       "      <th>dist_from_test_pt_geo</th>\n",
       "      <th>point_lat</th>\n",
       "      <th>point_lon</th>\n",
       "      <th>dist_cols</th>\n",
       "    </tr>\n",
       "  </thead>\n",
       "  <tbody>\n",
       "    <tr>\n",
       "      <th>0</th>\n",
       "      <td>468006</td>\n",
       "      <td>A &amp; W</td>\n",
       "      <td>44.111902</td>\n",
       "      <td>-88.657309</td>\n",
       "      <td>0.000000e+00</td>\n",
       "      <td>44.111902</td>\n",
       "      <td>-88.657309</td>\n",
       "      <td>0.000000e+00</td>\n",
       "    </tr>\n",
       "    <tr>\n",
       "      <th>1</th>\n",
       "      <td>467999</td>\n",
       "      <td>A &amp; W</td>\n",
       "      <td>46.402699</td>\n",
       "      <td>-105.822015</td>\n",
       "      <td>4.489138e+06</td>\n",
       "      <td>44.111902</td>\n",
       "      <td>-88.657309</td>\n",
       "      <td>4.507414e+06</td>\n",
       "    </tr>\n",
       "    <tr>\n",
       "      <th>2</th>\n",
       "      <td>468134</td>\n",
       "      <td>Amigo's</td>\n",
       "      <td>41.232437</td>\n",
       "      <td>-96.119234</td>\n",
       "      <td>2.263405e+06</td>\n",
       "      <td>44.111902</td>\n",
       "      <td>-88.657309</td>\n",
       "      <td>2.270975e+06</td>\n",
       "    </tr>\n",
       "    <tr>\n",
       "      <th>3</th>\n",
       "      <td>468374</td>\n",
       "      <td>Arby's</td>\n",
       "      <td>40.738581</td>\n",
       "      <td>-80.316655</td>\n",
       "      <td>2.563912e+06</td>\n",
       "      <td>44.111902</td>\n",
       "      <td>-88.657309</td>\n",
       "      <td>2.573072e+06</td>\n",
       "    </tr>\n",
       "    <tr>\n",
       "      <th>...</th>\n",
       "      <td>...</td>\n",
       "      <td>...</td>\n",
       "      <td>...</td>\n",
       "      <td>...</td>\n",
       "      <td>...</td>\n",
       "      <td>...</td>\n",
       "      <td>...</td>\n",
       "      <td>...</td>\n",
       "    </tr>\n",
       "    <tr>\n",
       "      <th>63174</th>\n",
       "      <td>467749</td>\n",
       "      <td>Dunkin' Donuts</td>\n",
       "      <td>36.312855</td>\n",
       "      <td>-119.313629</td>\n",
       "      <td>8.960300e+06</td>\n",
       "      <td>44.111902</td>\n",
       "      <td>-88.657309</td>\n",
       "      <td>9.044155e+06</td>\n",
       "    </tr>\n",
       "    <tr>\n",
       "      <th>63175</th>\n",
       "      <td>467751</td>\n",
       "      <td>Dunkin' Donuts</td>\n",
       "      <td>36.840402</td>\n",
       "      <td>-76.094753</td>\n",
       "      <td>4.377209e+06</td>\n",
       "      <td>44.111902</td>\n",
       "      <td>-88.657309</td>\n",
       "      <td>4.401170e+06</td>\n",
       "    </tr>\n",
       "    <tr>\n",
       "      <th>63176</th>\n",
       "      <td>467752</td>\n",
       "      <td>Dunkin' Donuts</td>\n",
       "      <td>38.419521</td>\n",
       "      <td>-78.869827</td>\n",
       "      <td>3.393368e+06</td>\n",
       "      <td>44.111902</td>\n",
       "      <td>-88.657309</td>\n",
       "      <td>3.409346e+06</td>\n",
       "    </tr>\n",
       "    <tr>\n",
       "      <th>63177</th>\n",
       "      <td>467839</td>\n",
       "      <td>Long John Silver's</td>\n",
       "      <td>38.845196</td>\n",
       "      <td>-76.884308</td>\n",
       "      <td>3.748355e+06</td>\n",
       "      <td>44.111902</td>\n",
       "      <td>-88.657309</td>\n",
       "      <td>3.765299e+06</td>\n",
       "    </tr>\n",
       "  </tbody>\n",
       "</table>\n",
       "<p>63178 rows × 8 columns</p>\n",
       "</div>"
      ],
      "text/plain": [
       "       STORE_NO               CHAIN   LATITUDE   LONGITUDE  \\\n",
       "0        468006               A & W  44.111902  -88.657309   \n",
       "1        467999               A & W  46.402699 -105.822015   \n",
       "2        468134             Amigo's  41.232437  -96.119234   \n",
       "3        468374              Arby's  40.738581  -80.316655   \n",
       "...         ...                 ...        ...         ...   \n",
       "63174    467749      Dunkin' Donuts  36.312855 -119.313629   \n",
       "63175    467751      Dunkin' Donuts  36.840402  -76.094753   \n",
       "63176    467752      Dunkin' Donuts  38.419521  -78.869827   \n",
       "63177    467839  Long John Silver's  38.845196  -76.884308   \n",
       "\n",
       "       dist_from_test_pt_geo  point_lat  point_lon     dist_cols  \n",
       "0               0.000000e+00  44.111902 -88.657309  0.000000e+00  \n",
       "1               4.489138e+06  44.111902 -88.657309  4.507414e+06  \n",
       "2               2.263405e+06  44.111902 -88.657309  2.270975e+06  \n",
       "3               2.563912e+06  44.111902 -88.657309  2.573072e+06  \n",
       "...                      ...        ...        ...           ...  \n",
       "63174           8.960300e+06  44.111902 -88.657309  9.044155e+06  \n",
       "63175           4.377209e+06  44.111902 -88.657309  4.401170e+06  \n",
       "63176           3.393368e+06  44.111902 -88.657309  3.409346e+06  \n",
       "63177           3.748355e+06  44.111902 -88.657309  3.765299e+06  \n",
       "\n",
       "[63178 rows x 8 columns]"
      ]
     },
     "execution_count": 16,
     "metadata": {},
     "output_type": "execute_result"
    }
   ],
   "source": [
    "## Runs instantly comapred to apply which takes ~13s. Output is in miles, using Earth's radius in miles (3959)\n",
    "rt_dt_tbl['lat1']=(rt_dt_tbl['LATITUDE'])*pi/180\n",
    "rt_dt_tbl['lat2']=(rt_dt_tbl['point_lat'])*pi/180\n",
    "rt_dt_tbl['lon1']=(rt_dt_tbl['LONGITUDE'])*pi/180\n",
    "rt_dt_tbl['lon2']=(rt_dt_tbl['point_lon'])*pi/180\n",
    "rt_dt_tbl['x'] = (rt_dt_tbl['lon2'] - rt_dt_tbl['lon1']) * np.cos( 0.5*(rt_dt_tbl['lat2']+rt_dt_tbl['lat1']) )\n",
    "rt_dt_tbl['y'] = rt_dt_tbl['lat2'] - rt_dt_tbl['lat1']\n",
    "rt_dt_tbl['dist_cols']=21000000 * np.sqrt( rt_dt_tbl['x']*rt_dt_tbl['x'] + rt_dt_tbl['y']*rt_dt_tbl['y'] )\n",
    "rt_dt_tbl.drop(columns=['lat1', 'lat2','lon1','lon2','x','y'],axis=1)"
   ]
  },
  {
   "cell_type": "code",
   "execution_count": 21,
   "metadata": {},
   "outputs": [
    {
     "name": "stderr",
     "output_type": "stream",
     "text": [
      "<ipython-input-21-d5078ba82b50>:2: SettingWithCopyWarning: \n",
      "A value is trying to be set on a copy of a slice from a DataFrame.\n",
      "Try using .loc[row_indexer,col_indexer] = value instead\n",
      "\n",
      "See the caveats in the documentation: https://pandas.pydata.org/pandas-docs/stable/user_guide/indexing.html#returning-a-view-versus-a-copy\n",
      "  tst[\"abs%_off\"] = abs(tst['dist_from_test_pt_geo'] - tst['dist_cols'])/tst['dist_from_test_pt_geo']\n"
     ]
    }
   ],
   "source": [
    "tst = rt_dt_tbl.iloc[1:,:]\n",
    "tst[\"abs%_off\"] = abs(tst['dist_from_test_pt_geo'] - tst['dist_cols'])/tst['dist_from_test_pt_geo']"
   ]
  },
  {
   "cell_type": "code",
   "execution_count": 24,
   "metadata": {},
   "outputs": [
    {
     "data": {
      "text/plain": [
       "<AxesSubplot:ylabel='Frequency'>"
      ]
     },
     "execution_count": 24,
     "metadata": {},
     "output_type": "execute_result"
    },
    {
     "data": {
      "image/png": "[encoded data removed]",
      "text/plain": [
       "<Figure size 432x288 with 1 Axes>"
      ]
     },
     "metadata": {
      "needs_background": "light"
     },
     "output_type": "display_data"
    }
   ],
   "source": [
    "## Around 2,800 miles away from the test point we see errors of about 4.3%, or 118 miles off. Substantial, but we will never\n",
    "## be analyzing stores that far away. Let's look at <60 miles away, as 50 is our furthest var\n",
    "#tst[tst[\"abs%_off\"]>0.04]\n",
    "\n",
    "#tst[(tst[\"dist_from_test_pt_geo\"]<60)&(tst[\"dist_from_test_pt_geo\"]>50)]\n",
    "tst[\"abs%_off\"].plot.hist()\n",
    "## Majority of errors below a tenth of a mile, do not exceed .15 miles at a 60mile max distance. acceptable to me."
   ]
  },
  {
   "cell_type": "code",
   "execution_count": 25,
   "metadata": {},
   "outputs": [],
   "source": [
    "## Now, write is as a function so multiple test points can be passed\n",
    "\n",
    "##############\n",
    "## Function is auto set to calculate in miles, column names being the same as first 4 are required\n",
    "## Specify dist=21,000,000 for the calculation to come out in feet (Earth's radius in feet)\n",
    "##############\n",
    "\n",
    "def distcalc(df, dist=3959):\n",
    "    df['lat1']=(df['LATITUDE'])*pi/180\n",
    "    df['lat2']=(df['point_lat'])*pi/180\n",
    "    df['lon1']=(df['LONGITUDE'])*pi/180\n",
    "    df['lon2']=(df['point_lon'])*pi/180\n",
    "    \n",
    "    df['x'] = (df['lon2'] - df['lon1']) * np.cos( 0.5*(df['lat2']+df['lat1']) )\n",
    "    df['y'] = df['lat2'] - df['lat1']\n",
    "    df['dist_to_pt']=dist * np.sqrt( df['x']*df['x'] + df['y']*df['y'] )\n",
    "    df = df.drop(columns=['lat1', 'lat2','lon1','lon2','x','y'],axis=1)\n",
    "    return df"
   ]
  },
  {
   "cell_type": "code",
   "execution_count": 26,
   "metadata": {},
   "outputs": [
    {
     "name": "stderr",
     "output_type": "stream",
     "text": [
      "<ipython-input-25-30b53ab586a6>:9: SettingWithCopyWarning: \n",
      "A value is trying to be set on a copy of a slice from a DataFrame.\n",
      "Try using .loc[row_indexer,col_indexer] = value instead\n",
      "\n",
      "See the caveats in the documentation: https://pandas.pydata.org/pandas-docs/stable/user_guide/indexing.html#returning-a-view-versus-a-copy\n",
      "  df['lat1']=(df['LATITUDE'])*pi/180\n",
      "<ipython-input-25-30b53ab586a6>:10: SettingWithCopyWarning: \n",
      "A value is trying to be set on a copy of a slice from a DataFrame.\n",
      "Try using .loc[row_indexer,col_indexer] = value instead\n",
      "\n",
      "See the caveats in the documentation: https://pandas.pydata.org/pandas-docs/stable/user_guide/indexing.html#returning-a-view-versus-a-copy\n",
      "  df['lat2']=(df['point_lat'])*pi/180\n",
      "<ipython-input-25-30b53ab586a6>:11: SettingWithCopyWarning: \n",
      "A value is trying to be set on a copy of a slice from a DataFrame.\n",
      "Try using .loc[row_indexer,col_indexer] = value instead\n",
      "\n",
      "See the caveats in the documentation: https://pandas.pydata.org/pandas-docs/stable/user_guide/indexing.html#returning-a-view-versus-a-copy\n",
      "  df['lon1']=(df['LONGITUDE'])*pi/180\n",
      "<ipython-input-25-30b53ab586a6>:12: SettingWithCopyWarning: \n",
      "A value is trying to be set on a copy of a slice from a DataFrame.\n",
      "Try using .loc[row_indexer,col_indexer] = value instead\n",
      "\n",
      "See the caveats in the documentation: https://pandas.pydata.org/pandas-docs/stable/user_guide/indexing.html#returning-a-view-versus-a-copy\n",
      "  df['lon2']=(df['point_lon'])*pi/180\n",
      "<ipython-input-25-30b53ab586a6>:14: SettingWithCopyWarning: \n",
      "A value is trying to be set on a copy of a slice from a DataFrame.\n",
      "Try using .loc[row_indexer,col_indexer] = value instead\n",
      "\n",
      "See the caveats in the documentation: https://pandas.pydata.org/pandas-docs/stable/user_guide/indexing.html#returning-a-view-versus-a-copy\n",
      "  df['x'] = (df['lon2'] - df['lon1']) * np.cos( 0.5*(df['lat2']+df['lat1']) )\n",
      "<ipython-input-25-30b53ab586a6>:15: SettingWithCopyWarning: \n",
      "A value is trying to be set on a copy of a slice from a DataFrame.\n",
      "Try using .loc[row_indexer,col_indexer] = value instead\n",
      "\n",
      "See the caveats in the documentation: https://pandas.pydata.org/pandas-docs/stable/user_guide/indexing.html#returning-a-view-versus-a-copy\n",
      "  df['y'] = df['lat2'] - df['lat1']\n",
      "<ipython-input-25-30b53ab586a6>:16: SettingWithCopyWarning: \n",
      "A value is trying to be set on a copy of a slice from a DataFrame.\n",
      "Try using .loc[row_indexer,col_indexer] = value instead\n",
      "\n",
      "See the caveats in the documentation: https://pandas.pydata.org/pandas-docs/stable/user_guide/indexing.html#returning-a-view-versus-a-copy\n",
      "  df['dist_to_pt']=dist * np.sqrt( df['x']*df['x'] + df['y']*df['y'] )\n"
     ]
    },
    {
     "data": {
      "text/html": [
       "<div>\n",
       "<style scoped>\n",
       "    .dataframe tbody tr th:only-of-type {\n",
       "        vertical-align: middle;\n",
       "    }\n",
       "\n",
       "    .dataframe tbody tr th {\n",
       "        vertical-align: top;\n",
       "    }\n",
       "\n",
       "    .dataframe thead th {\n",
       "        text-align: right;\n",
       "    }\n",
       "</style>\n",
       "<table border=\"1\" class=\"dataframe\">\n",
       "  <thead>\n",
       "    <tr style=\"text-align: right;\">\n",
       "      <th></th>\n",
       "      <th>STORE_NO</th>\n",
       "      <th>CHAIN</th>\n",
       "      <th>LATITUDE</th>\n",
       "      <th>LONGITUDE</th>\n",
       "      <th>dist_from_test_pt_geo</th>\n",
       "      <th>point_lat</th>\n",
       "      <th>point_lon</th>\n",
       "      <th>dist_cols</th>\n",
       "      <th>dist_to_pt</th>\n",
       "    </tr>\n",
       "  </thead>\n",
       "  <tbody>\n",
       "    <tr>\n",
       "      <th>0</th>\n",
       "      <td>468006</td>\n",
       "      <td>A &amp; W</td>\n",
       "      <td>44.111902</td>\n",
       "      <td>-88.657309</td>\n",
       "      <td>0.000000e+00</td>\n",
       "      <td>44.111902</td>\n",
       "      <td>-88.657309</td>\n",
       "      <td>0.000000e+00</td>\n",
       "      <td>0.000000</td>\n",
       "    </tr>\n",
       "    <tr>\n",
       "      <th>1</th>\n",
       "      <td>467999</td>\n",
       "      <td>A &amp; W</td>\n",
       "      <td>46.402699</td>\n",
       "      <td>-105.822015</td>\n",
       "      <td>4.489138e+06</td>\n",
       "      <td>44.111902</td>\n",
       "      <td>-88.657309</td>\n",
       "      <td>4.507414e+06</td>\n",
       "      <td>849.754900</td>\n",
       "    </tr>\n",
       "    <tr>\n",
       "      <th>2</th>\n",
       "      <td>468134</td>\n",
       "      <td>Amigo's</td>\n",
       "      <td>41.232437</td>\n",
       "      <td>-96.119234</td>\n",
       "      <td>2.263405e+06</td>\n",
       "      <td>44.111902</td>\n",
       "      <td>-88.657309</td>\n",
       "      <td>2.270975e+06</td>\n",
       "      <td>428.132952</td>\n",
       "    </tr>\n",
       "    <tr>\n",
       "      <th>3</th>\n",
       "      <td>468374</td>\n",
       "      <td>Arby's</td>\n",
       "      <td>40.738581</td>\n",
       "      <td>-80.316655</td>\n",
       "      <td>2.563912e+06</td>\n",
       "      <td>44.111902</td>\n",
       "      <td>-88.657309</td>\n",
       "      <td>2.573072e+06</td>\n",
       "      <td>485.085337</td>\n",
       "    </tr>\n",
       "    <tr>\n",
       "      <th>...</th>\n",
       "      <td>...</td>\n",
       "      <td>...</td>\n",
       "      <td>...</td>\n",
       "      <td>...</td>\n",
       "      <td>...</td>\n",
       "      <td>...</td>\n",
       "      <td>...</td>\n",
       "      <td>...</td>\n",
       "      <td>...</td>\n",
       "    </tr>\n",
       "    <tr>\n",
       "      <th>63174</th>\n",
       "      <td>467749</td>\n",
       "      <td>Dunkin' Donuts</td>\n",
       "      <td>36.312855</td>\n",
       "      <td>-119.313629</td>\n",
       "      <td>8.960300e+06</td>\n",
       "      <td>44.111902</td>\n",
       "      <td>-88.657309</td>\n",
       "      <td>9.044155e+06</td>\n",
       "      <td>1705.038561</td>\n",
       "    </tr>\n",
       "    <tr>\n",
       "      <th>63175</th>\n",
       "      <td>467751</td>\n",
       "      <td>Dunkin' Donuts</td>\n",
       "      <td>36.840402</td>\n",
       "      <td>-76.094753</td>\n",
       "      <td>4.377209e+06</td>\n",
       "      <td>44.111902</td>\n",
       "      <td>-88.657309</td>\n",
       "      <td>4.401170e+06</td>\n",
       "      <td>829.725247</td>\n",
       "    </tr>\n",
       "    <tr>\n",
       "      <th>63176</th>\n",
       "      <td>467752</td>\n",
       "      <td>Dunkin' Donuts</td>\n",
       "      <td>38.419521</td>\n",
       "      <td>-78.869827</td>\n",
       "      <td>3.393368e+06</td>\n",
       "      <td>44.111902</td>\n",
       "      <td>-88.657309</td>\n",
       "      <td>3.409346e+06</td>\n",
       "      <td>642.742840</td>\n",
       "    </tr>\n",
       "    <tr>\n",
       "      <th>63177</th>\n",
       "      <td>467839</td>\n",
       "      <td>Long John Silver's</td>\n",
       "      <td>38.845196</td>\n",
       "      <td>-76.884308</td>\n",
       "      <td>3.748355e+06</td>\n",
       "      <td>44.111902</td>\n",
       "      <td>-88.657309</td>\n",
       "      <td>3.765299e+06</td>\n",
       "      <td>709.848585</td>\n",
       "    </tr>\n",
       "  </tbody>\n",
       "</table>\n",
       "<p>63178 rows × 9 columns</p>\n",
       "</div>"
      ],
      "text/plain": [
       "       STORE_NO               CHAIN   LATITUDE   LONGITUDE  \\\n",
       "0        468006               A & W  44.111902  -88.657309   \n",
       "1        467999               A & W  46.402699 -105.822015   \n",
       "2        468134             Amigo's  41.232437  -96.119234   \n",
       "3        468374              Arby's  40.738581  -80.316655   \n",
       "...         ...                 ...        ...         ...   \n",
       "63174    467749      Dunkin' Donuts  36.312855 -119.313629   \n",
       "63175    467751      Dunkin' Donuts  36.840402  -76.094753   \n",
       "63176    467752      Dunkin' Donuts  38.419521  -78.869827   \n",
       "63177    467839  Long John Silver's  38.845196  -76.884308   \n",
       "\n",
       "       dist_from_test_pt_geo  point_lat  point_lon     dist_cols   dist_to_pt  \n",
       "0               0.000000e+00  44.111902 -88.657309  0.000000e+00     0.000000  \n",
       "1               4.489138e+06  44.111902 -88.657309  4.507414e+06   849.754900  \n",
       "2               2.263405e+06  44.111902 -88.657309  2.270975e+06   428.132952  \n",
       "3               2.563912e+06  44.111902 -88.657309  2.573072e+06   485.085337  \n",
       "...                      ...        ...        ...           ...          ...  \n",
       "63174           8.960300e+06  44.111902 -88.657309  9.044155e+06  1705.038561  \n",
       "63175           4.377209e+06  44.111902 -88.657309  4.401170e+06   829.725247  \n",
       "63176           3.393368e+06  44.111902 -88.657309  3.409346e+06   642.742840  \n",
       "63177           3.748355e+06  44.111902 -88.657309  3.765299e+06   709.848585  \n",
       "\n",
       "[63178 rows x 9 columns]"
      ]
     },
     "execution_count": 26,
     "metadata": {},
     "output_type": "execute_result"
    }
   ],
   "source": [
    "rt_dt_tbl.pipe(distcalc)"
   ]
  },
  {
   "cell_type": "markdown",
   "metadata": {},
   "source": [
    "# END DISTANCE TEST. "
   ]
  },
  {
   "cell_type": "markdown",
   "metadata": {},
   "source": [
    "# BEGIN TESTING HOW TO GET CONSISTENT 300FT RADII WITH MAPS"
   ]
  },
  {
   "cell_type": "code",
   "execution_count": 14,
   "metadata": {},
   "outputs": [],
   "source": [
    "##Reducing to only necessary information, keeping store # so we can link back\n",
    "rt_dt_tbl = rt_dt[[\"STORE_NO\",\"CHAIN\",\"GEOSTATE\",\"COUNTY\", \"LATITUDE\",\"LONGITUDE\"]]"
   ]
  },
  {
   "cell_type": "code",
   "execution_count": 15,
   "metadata": {},
   "outputs": [],
   "source": [
    "#Convert to GeoPandas: WORLD LAT LONG \"EPSG:4326\". \n",
    "rt_dt_tbl = gpd.GeoDataFrame(rt_dt_tbl,crs = \"EPSG:4326\" ,geometry=gpd.points_from_xy(rt_dt_tbl.LONGITUDE, rt_dt_tbl.LATITUDE))"
   ]
  },
  {
   "cell_type": "code",
   "execution_count": 16,
   "metadata": {},
   "outputs": [],
   "source": [
    "## THIS IS FOR SETTING THE CRS OF THE TABLE, IT CHANGES NOTHING\n",
    "#rt_dt_tbl = rt_dt_tbl.set_crs(\"EPSG:4326\", allow_override=True)\n"
   ]
  },
  {
   "cell_type": "code",
   "execution_count": 17,
   "metadata": {},
   "outputs": [
    {
     "data": {
      "text/plain": [
       "<Geographic 2D CRS: EPSG:4326>\n",
       "Name: WGS 84\n",
       "Axis Info [ellipsoidal]:\n",
       "- Lat[north]: Geodetic latitude (degree)\n",
       "- Lon[east]: Geodetic longitude (degree)\n",
       "Area of Use:\n",
       "- name: World.\n",
       "- bounds: (-180.0, -90.0, 180.0, 90.0)\n",
       "Datum: World Geodetic System 1984\n",
       "- Ellipsoid: WGS 84\n",
       "- Prime Meridian: Greenwich"
      ]
     },
     "execution_count": 17,
     "metadata": {},
     "output_type": "execute_result"
    }
   ],
   "source": [
    "## based on my crs I am working in degrees\n",
    "## Checking my projection is correct\n",
    "rt_dt_tbl.crs"
   ]
  },
  {
   "cell_type": "markdown",
   "metadata": {},
   "source": [
    "### Quick sanity check making sure all points are in the USA, maybe thats why the projections are bouncing"
   ]
  },
  {
   "cell_type": "code",
   "execution_count": 18,
   "metadata": {},
   "outputs": [],
   "source": [
    "usa = gpd.read_file(gpd.datasets.get_path('naturalearth_lowres'))\n",
    "usa = usa[(usa[\"name\"]=='United States of America')]"
   ]
  },
  {
   "cell_type": "code",
   "execution_count": 19,
   "metadata": {},
   "outputs": [],
   "source": [
    "## writing column to check if in USA\n",
    "rt_dt_tbl[\"inusa\"] = rt_dt_tbl.apply(lambda row: usa.contains(row[\"geometry\"]), axis=1)"
   ]
  },
  {
   "cell_type": "code",
   "execution_count": 20,
   "metadata": {},
   "outputs": [
    {
     "data": {
      "text/html": [
       "<div>\n",
       "<style scoped>\n",
       "    .dataframe tbody tr th:only-of-type {\n",
       "        vertical-align: middle;\n",
       "    }\n",
       "\n",
       "    .dataframe tbody tr th {\n",
       "        vertical-align: top;\n",
       "    }\n",
       "\n",
       "    .dataframe thead th {\n",
       "        text-align: right;\n",
       "    }\n",
       "</style>\n",
       "<table border=\"1\" class=\"dataframe\">\n",
       "  <thead>\n",
       "    <tr style=\"text-align: right;\">\n",
       "      <th></th>\n",
       "      <th>STORE_NO</th>\n",
       "      <th>CHAIN</th>\n",
       "      <th>GEOSTATE</th>\n",
       "      <th>COUNTY</th>\n",
       "      <th>LATITUDE</th>\n",
       "      <th>LONGITUDE</th>\n",
       "      <th>geometry</th>\n",
       "      <th>inusa</th>\n",
       "    </tr>\n",
       "  </thead>\n",
       "  <tbody>\n",
       "    <tr>\n",
       "      <th>37</th>\n",
       "      <td>468382</td>\n",
       "      <td>Arby's</td>\n",
       "      <td>WA</td>\n",
       "      <td>KITSAP</td>\n",
       "      <td>47.533585</td>\n",
       "      <td>-122.624488</td>\n",
       "      <td>POINT (-122.62449 47.53359)</td>\n",
       "      <td>False</td>\n",
       "    </tr>\n",
       "    <tr>\n",
       "      <th>468</th>\n",
       "      <td>469761</td>\n",
       "      <td>Dunkin'</td>\n",
       "      <td>MA</td>\n",
       "      <td>PLYMOUTH</td>\n",
       "      <td>41.913379</td>\n",
       "      <td>-70.553118</td>\n",
       "      <td>POINT (-70.55312 41.91338)</td>\n",
       "      <td>False</td>\n",
       "    </tr>\n",
       "    <tr>\n",
       "      <th>811</th>\n",
       "      <td>468553</td>\n",
       "      <td>Jersey Mike's Submarines</td>\n",
       "      <td>WA</td>\n",
       "      <td>KITSAP</td>\n",
       "      <td>47.735416</td>\n",
       "      <td>-122.637550</td>\n",
       "      <td>POINT (-122.63755 47.73542)</td>\n",
       "      <td>False</td>\n",
       "    </tr>\n",
       "    <tr>\n",
       "      <th>1516</th>\n",
       "      <td>50122</td>\n",
       "      <td>Arby's</td>\n",
       "      <td>WA</td>\n",
       "      <td>PIERCE</td>\n",
       "      <td>47.222175</td>\n",
       "      <td>-122.472249</td>\n",
       "      <td>POINT (-122.47225 47.22218)</td>\n",
       "      <td>False</td>\n",
       "    </tr>\n",
       "    <tr>\n",
       "      <th>...</th>\n",
       "      <td>...</td>\n",
       "      <td>...</td>\n",
       "      <td>...</td>\n",
       "      <td>...</td>\n",
       "      <td>...</td>\n",
       "      <td>...</td>\n",
       "      <td>...</td>\n",
       "      <td>...</td>\n",
       "    </tr>\n",
       "    <tr>\n",
       "      <th>157837</th>\n",
       "      <td>467396</td>\n",
       "      <td>Burger King-NT</td>\n",
       "      <td>NY</td>\n",
       "      <td>KINGS</td>\n",
       "      <td>40.590256</td>\n",
       "      <td>-73.975044</td>\n",
       "      <td>POINT (-73.97504 40.59026)</td>\n",
       "      <td>False</td>\n",
       "    </tr>\n",
       "    <tr>\n",
       "      <th>157859</th>\n",
       "      <td>467418</td>\n",
       "      <td>Taco Bell-TR</td>\n",
       "      <td>NY</td>\n",
       "      <td>QUEENS</td>\n",
       "      <td>40.605562</td>\n",
       "      <td>-73.755453</td>\n",
       "      <td>POINT (-73.75545 40.60556)</td>\n",
       "      <td>False</td>\n",
       "    </tr>\n",
       "    <tr>\n",
       "      <th>157935</th>\n",
       "      <td>467498</td>\n",
       "      <td>Pizza Hut-TR</td>\n",
       "      <td>GA</td>\n",
       "      <td>GLYNN</td>\n",
       "      <td>31.159153</td>\n",
       "      <td>-81.391207</td>\n",
       "      <td>POINT (-81.39121 31.15915)</td>\n",
       "      <td>False</td>\n",
       "    </tr>\n",
       "    <tr>\n",
       "      <th>158031</th>\n",
       "      <td>467601</td>\n",
       "      <td>Dunkin' Donuts</td>\n",
       "      <td>FL</td>\n",
       "      <td>PALM BEACH</td>\n",
       "      <td>26.608197</td>\n",
       "      <td>-80.057925</td>\n",
       "      <td>POINT (-80.05792 26.60820)</td>\n",
       "      <td>False</td>\n",
       "    </tr>\n",
       "  </tbody>\n",
       "</table>\n",
       "<p>1287 rows × 8 columns</p>\n",
       "</div>"
      ],
      "text/plain": [
       "        STORE_NO                     CHAIN GEOSTATE      COUNTY   LATITUDE  \\\n",
       "37        468382                    Arby's       WA      KITSAP  47.533585   \n",
       "468       469761                   Dunkin'       MA    PLYMOUTH  41.913379   \n",
       "811       468553  Jersey Mike's Submarines       WA      KITSAP  47.735416   \n",
       "1516       50122                    Arby's       WA      PIERCE  47.222175   \n",
       "...          ...                       ...      ...         ...        ...   \n",
       "157837    467396            Burger King-NT       NY       KINGS  40.590256   \n",
       "157859    467418              Taco Bell-TR       NY      QUEENS  40.605562   \n",
       "157935    467498              Pizza Hut-TR       GA       GLYNN  31.159153   \n",
       "158031    467601            Dunkin' Donuts       FL  PALM BEACH  26.608197   \n",
       "\n",
       "         LONGITUDE                     geometry  inusa  \n",
       "37     -122.624488  POINT (-122.62449 47.53359)  False  \n",
       "468     -70.553118   POINT (-70.55312 41.91338)  False  \n",
       "811    -122.637550  POINT (-122.63755 47.73542)  False  \n",
       "1516   -122.472249  POINT (-122.47225 47.22218)  False  \n",
       "...            ...                          ...    ...  \n",
       "157837  -73.975044   POINT (-73.97504 40.59026)  False  \n",
       "157859  -73.755453   POINT (-73.75545 40.60556)  False  \n",
       "157935  -81.391207   POINT (-81.39121 31.15915)  False  \n",
       "158031  -80.057925   POINT (-80.05792 26.60820)  False  \n",
       "\n",
       "[1287 rows x 8 columns]"
      ]
     },
     "execution_count": 20,
     "metadata": {},
     "output_type": "execute_result"
    }
   ],
   "source": [
    "rt_dt_tbl[~(rt_dt_tbl[\"inusa\"])]"
   ]
  },
  {
   "cell_type": "code",
   "execution_count": 21,
   "metadata": {},
   "outputs": [
    {
     "data": {
      "text/html": [
       "<div>\n",
       "<style scoped>\n",
       "    .dataframe tbody tr th:only-of-type {\n",
       "        vertical-align: middle;\n",
       "    }\n",
       "\n",
       "    .dataframe tbody tr th {\n",
       "        vertical-align: top;\n",
       "    }\n",
       "\n",
       "    .dataframe thead th {\n",
       "        text-align: right;\n",
       "    }\n",
       "</style>\n",
       "<table border=\"1\" class=\"dataframe\">\n",
       "  <thead>\n",
       "    <tr style=\"text-align: right;\">\n",
       "      <th></th>\n",
       "      <th>STORE_NO</th>\n",
       "      <th>CHAIN</th>\n",
       "      <th>COUNTY</th>\n",
       "      <th>LATITUDE</th>\n",
       "      <th>LONGITUDE</th>\n",
       "      <th>geometry</th>\n",
       "      <th>inusa</th>\n",
       "    </tr>\n",
       "    <tr>\n",
       "      <th>GEOSTATE</th>\n",
       "      <th></th>\n",
       "      <th></th>\n",
       "      <th></th>\n",
       "      <th></th>\n",
       "      <th></th>\n",
       "      <th></th>\n",
       "      <th></th>\n",
       "    </tr>\n",
       "  </thead>\n",
       "  <tbody>\n",
       "    <tr>\n",
       "      <th>AK</th>\n",
       "      <td>11</td>\n",
       "      <td>11</td>\n",
       "      <td>11</td>\n",
       "      <td>11</td>\n",
       "      <td>11</td>\n",
       "      <td>11</td>\n",
       "      <td>11</td>\n",
       "    </tr>\n",
       "    <tr>\n",
       "      <th>AL</th>\n",
       "      <td>13</td>\n",
       "      <td>13</td>\n",
       "      <td>13</td>\n",
       "      <td>13</td>\n",
       "      <td>13</td>\n",
       "      <td>13</td>\n",
       "      <td>13</td>\n",
       "    </tr>\n",
       "    <tr>\n",
       "      <th>AZ</th>\n",
       "      <td>13</td>\n",
       "      <td>13</td>\n",
       "      <td>13</td>\n",
       "      <td>13</td>\n",
       "      <td>13</td>\n",
       "      <td>13</td>\n",
       "      <td>13</td>\n",
       "    </tr>\n",
       "    <tr>\n",
       "      <th>CA</th>\n",
       "      <td>87</td>\n",
       "      <td>87</td>\n",
       "      <td>87</td>\n",
       "      <td>87</td>\n",
       "      <td>87</td>\n",
       "      <td>87</td>\n",
       "      <td>87</td>\n",
       "    </tr>\n",
       "    <tr>\n",
       "      <th>...</th>\n",
       "      <td>...</td>\n",
       "      <td>...</td>\n",
       "      <td>...</td>\n",
       "      <td>...</td>\n",
       "      <td>...</td>\n",
       "      <td>...</td>\n",
       "      <td>...</td>\n",
       "    </tr>\n",
       "    <tr>\n",
       "      <th>SC</th>\n",
       "      <td>4</td>\n",
       "      <td>4</td>\n",
       "      <td>4</td>\n",
       "      <td>4</td>\n",
       "      <td>4</td>\n",
       "      <td>4</td>\n",
       "      <td>4</td>\n",
       "    </tr>\n",
       "    <tr>\n",
       "      <th>TX</th>\n",
       "      <td>84</td>\n",
       "      <td>84</td>\n",
       "      <td>84</td>\n",
       "      <td>84</td>\n",
       "      <td>84</td>\n",
       "      <td>84</td>\n",
       "      <td>84</td>\n",
       "    </tr>\n",
       "    <tr>\n",
       "      <th>VA</th>\n",
       "      <td>3</td>\n",
       "      <td>3</td>\n",
       "      <td>3</td>\n",
       "      <td>3</td>\n",
       "      <td>3</td>\n",
       "      <td>3</td>\n",
       "      <td>3</td>\n",
       "    </tr>\n",
       "    <tr>\n",
       "      <th>WA</th>\n",
       "      <td>259</td>\n",
       "      <td>259</td>\n",
       "      <td>259</td>\n",
       "      <td>259</td>\n",
       "      <td>259</td>\n",
       "      <td>259</td>\n",
       "      <td>259</td>\n",
       "    </tr>\n",
       "  </tbody>\n",
       "</table>\n",
       "<p>23 rows × 7 columns</p>\n",
       "</div>"
      ],
      "text/plain": [
       "          STORE_NO  CHAIN  COUNTY  LATITUDE  LONGITUDE  geometry  inusa\n",
       "GEOSTATE                                                               \n",
       "AK              11     11      11        11         11        11     11\n",
       "AL              13     13      13        13         13        13     13\n",
       "AZ              13     13      13        13         13        13     13\n",
       "CA              87     87      87        87         87        87     87\n",
       "...            ...    ...     ...       ...        ...       ...    ...\n",
       "SC               4      4       4         4          4         4      4\n",
       "TX              84     84      84        84         84        84     84\n",
       "VA               3      3       3         3          3         3      3\n",
       "WA             259    259     259       259        259       259    259\n",
       "\n",
       "[23 rows x 7 columns]"
      ]
     },
     "execution_count": 21,
     "metadata": {},
     "output_type": "execute_result"
    }
   ],
   "source": [
    "## I KNEW IT!!! These 395 rows are not in the USA and are the reason that the USA map projections have been bouncing.\n",
    "## Filter out these 395 rows and try again\n",
    "\n",
    "rt_dt_tbl[~(rt_dt_tbl[\"inusa\"])].groupby(\"GEOSTATE\").count()"
   ]
  },
  {
   "cell_type": "markdown",
   "metadata": {},
   "source": [
    "### END SANITY CHECK, FILTER BELOW"
   ]
  },
  {
   "cell_type": "code",
   "execution_count": 22,
   "metadata": {},
   "outputs": [],
   "source": [
    "rt_dt_tbl = rt_dt_tbl[(rt_dt_tbl[\"STORE_NO\"].isin(rt_dt_tbl[(rt_dt_tbl[\"inusa\"])][\"STORE_NO\"]))].drop(\"inusa\", axis=1)"
   ]
  },
  {
   "cell_type": "code",
   "execution_count": 23,
   "metadata": {},
   "outputs": [],
   "source": [
    "import copy\n",
    "temp = copy.deepcopy(rt_dt_tbl)"
   ]
  },
  {
   "cell_type": "code",
   "execution_count": 24,
   "metadata": {},
   "outputs": [
    {
     "data": {
      "text/html": [
       "<div>\n",
       "<style scoped>\n",
       "    .dataframe tbody tr th:only-of-type {\n",
       "        vertical-align: middle;\n",
       "    }\n",
       "\n",
       "    .dataframe tbody tr th {\n",
       "        vertical-align: top;\n",
       "    }\n",
       "\n",
       "    .dataframe thead th {\n",
       "        text-align: right;\n",
       "    }\n",
       "</style>\n",
       "<table border=\"1\" class=\"dataframe\">\n",
       "  <thead>\n",
       "    <tr style=\"text-align: right;\">\n",
       "      <th></th>\n",
       "      <th>STORE_NO</th>\n",
       "      <th>CHAIN</th>\n",
       "      <th>GEOSTATE</th>\n",
       "      <th>COUNTY</th>\n",
       "      <th>LATITUDE</th>\n",
       "      <th>LONGITUDE</th>\n",
       "      <th>geometry</th>\n",
       "    </tr>\n",
       "  </thead>\n",
       "  <tbody>\n",
       "    <tr>\n",
       "      <th>0</th>\n",
       "      <td>467925</td>\n",
       "      <td>1000 Degrees</td>\n",
       "      <td>NJ</td>\n",
       "      <td>UNION</td>\n",
       "      <td>40.687198</td>\n",
       "      <td>-74.312737</td>\n",
       "      <td>POINT (-74.31274 40.68720)</td>\n",
       "    </tr>\n",
       "    <tr>\n",
       "      <th>1</th>\n",
       "      <td>468071</td>\n",
       "      <td>800 Degrees Pizza</td>\n",
       "      <td>OH</td>\n",
       "      <td>CUYAHOGA</td>\n",
       "      <td>41.411226</td>\n",
       "      <td>-81.838519</td>\n",
       "      <td>POINT (-81.83852 41.41123)</td>\n",
       "    </tr>\n",
       "    <tr>\n",
       "      <th>2</th>\n",
       "      <td>468006</td>\n",
       "      <td>A &amp; W</td>\n",
       "      <td>WI</td>\n",
       "      <td>WINNEBAGO</td>\n",
       "      <td>44.111902</td>\n",
       "      <td>-88.657309</td>\n",
       "      <td>POINT (-88.65731 44.11190)</td>\n",
       "    </tr>\n",
       "    <tr>\n",
       "      <th>3</th>\n",
       "      <td>467999</td>\n",
       "      <td>A &amp; W</td>\n",
       "      <td>MT</td>\n",
       "      <td>CUSTER</td>\n",
       "      <td>46.402699</td>\n",
       "      <td>-105.822015</td>\n",
       "      <td>POINT (-105.82201 46.40270)</td>\n",
       "    </tr>\n",
       "    <tr>\n",
       "      <th>...</th>\n",
       "      <td>...</td>\n",
       "      <td>...</td>\n",
       "      <td>...</td>\n",
       "      <td>...</td>\n",
       "      <td>...</td>\n",
       "      <td>...</td>\n",
       "      <td>...</td>\n",
       "    </tr>\n",
       "    <tr>\n",
       "      <th>158152</th>\n",
       "      <td>467836</td>\n",
       "      <td>Subway</td>\n",
       "      <td>MA</td>\n",
       "      <td>PLYMOUTH</td>\n",
       "      <td>42.017352</td>\n",
       "      <td>-71.020925</td>\n",
       "      <td>POINT (-71.02093 42.01735)</td>\n",
       "    </tr>\n",
       "    <tr>\n",
       "      <th>158153</th>\n",
       "      <td>467837</td>\n",
       "      <td>Mountain Mike's Pizza</td>\n",
       "      <td>CA</td>\n",
       "      <td>SONOMA</td>\n",
       "      <td>38.469999</td>\n",
       "      <td>-122.729952</td>\n",
       "      <td>POINT (-122.72995 38.47000)</td>\n",
       "    </tr>\n",
       "    <tr>\n",
       "      <th>158154</th>\n",
       "      <td>467838</td>\n",
       "      <td>Captain D's</td>\n",
       "      <td>KY</td>\n",
       "      <td>FRANKLIN</td>\n",
       "      <td>38.190631</td>\n",
       "      <td>-84.823982</td>\n",
       "      <td>POINT (-84.82398 38.19063)</td>\n",
       "    </tr>\n",
       "    <tr>\n",
       "      <th>158155</th>\n",
       "      <td>467839</td>\n",
       "      <td>Long John Silver's</td>\n",
       "      <td>MD</td>\n",
       "      <td>PRINCE GEORGE'S</td>\n",
       "      <td>38.845196</td>\n",
       "      <td>-76.884308</td>\n",
       "      <td>POINT (-76.88431 38.84520)</td>\n",
       "    </tr>\n",
       "  </tbody>\n",
       "</table>\n",
       "<p>151780 rows × 7 columns</p>\n",
       "</div>"
      ],
      "text/plain": [
       "        STORE_NO                  CHAIN GEOSTATE           COUNTY   LATITUDE  \\\n",
       "0         467925           1000 Degrees       NJ            UNION  40.687198   \n",
       "1         468071      800 Degrees Pizza       OH         CUYAHOGA  41.411226   \n",
       "2         468006                  A & W       WI        WINNEBAGO  44.111902   \n",
       "3         467999                  A & W       MT           CUSTER  46.402699   \n",
       "...          ...                    ...      ...              ...        ...   \n",
       "158152    467836                 Subway       MA         PLYMOUTH  42.017352   \n",
       "158153    467837  Mountain Mike's Pizza       CA           SONOMA  38.469999   \n",
       "158154    467838            Captain D's       KY         FRANKLIN  38.190631   \n",
       "158155    467839     Long John Silver's       MD  PRINCE GEORGE'S  38.845196   \n",
       "\n",
       "         LONGITUDE                     geometry  \n",
       "0       -74.312737   POINT (-74.31274 40.68720)  \n",
       "1       -81.838519   POINT (-81.83852 41.41123)  \n",
       "2       -88.657309   POINT (-88.65731 44.11190)  \n",
       "3      -105.822015  POINT (-105.82201 46.40270)  \n",
       "...            ...                          ...  \n",
       "158152  -71.020925   POINT (-71.02093 42.01735)  \n",
       "158153 -122.729952  POINT (-122.72995 38.47000)  \n",
       "158154  -84.823982   POINT (-84.82398 38.19063)  \n",
       "158155  -76.884308   POINT (-76.88431 38.84520)  \n",
       "\n",
       "[151780 rows x 7 columns]"
      ]
     },
     "execution_count": 24,
     "metadata": {},
     "output_type": "execute_result"
    }
   ],
   "source": [
    "temp"
   ]
  },
  {
   "cell_type": "code",
   "execution_count": 25,
   "metadata": {},
   "outputs": [],
   "source": [
    "rt_dt_tbl = copy.deepcopy(temp)"
   ]
  },
  {
   "cell_type": "code",
   "execution_count": 26,
   "metadata": {},
   "outputs": [
    {
     "data": {
      "text/html": [
       "<div>\n",
       "<style scoped>\n",
       "    .dataframe tbody tr th:only-of-type {\n",
       "        vertical-align: middle;\n",
       "    }\n",
       "\n",
       "    .dataframe tbody tr th {\n",
       "        vertical-align: top;\n",
       "    }\n",
       "\n",
       "    .dataframe thead th {\n",
       "        text-align: right;\n",
       "    }\n",
       "</style>\n",
       "<table border=\"1\" class=\"dataframe\">\n",
       "  <thead>\n",
       "    <tr style=\"text-align: right;\">\n",
       "      <th></th>\n",
       "      <th>STORE_NO</th>\n",
       "      <th>CHAIN</th>\n",
       "      <th>GEOSTATE</th>\n",
       "      <th>COUNTY</th>\n",
       "      <th>LATITUDE</th>\n",
       "      <th>LONGITUDE</th>\n",
       "      <th>geometry</th>\n",
       "    </tr>\n",
       "  </thead>\n",
       "  <tbody>\n",
       "    <tr>\n",
       "      <th>0</th>\n",
       "      <td>467925</td>\n",
       "      <td>1000 Degrees</td>\n",
       "      <td>NJ</td>\n",
       "      <td>UNION</td>\n",
       "      <td>40.687198</td>\n",
       "      <td>-74.312737</td>\n",
       "      <td>POINT (-74.31274 40.68720)</td>\n",
       "    </tr>\n",
       "    <tr>\n",
       "      <th>1</th>\n",
       "      <td>468071</td>\n",
       "      <td>800 Degrees Pizza</td>\n",
       "      <td>OH</td>\n",
       "      <td>CUYAHOGA</td>\n",
       "      <td>41.411226</td>\n",
       "      <td>-81.838519</td>\n",
       "      <td>POINT (-81.83852 41.41123)</td>\n",
       "    </tr>\n",
       "    <tr>\n",
       "      <th>2</th>\n",
       "      <td>468006</td>\n",
       "      <td>A &amp; W</td>\n",
       "      <td>WI</td>\n",
       "      <td>WINNEBAGO</td>\n",
       "      <td>44.111902</td>\n",
       "      <td>-88.657309</td>\n",
       "      <td>POINT (-88.65731 44.11190)</td>\n",
       "    </tr>\n",
       "    <tr>\n",
       "      <th>3</th>\n",
       "      <td>467999</td>\n",
       "      <td>A &amp; W</td>\n",
       "      <td>MT</td>\n",
       "      <td>CUSTER</td>\n",
       "      <td>46.402699</td>\n",
       "      <td>-105.822015</td>\n",
       "      <td>POINT (-105.82201 46.40270)</td>\n",
       "    </tr>\n",
       "    <tr>\n",
       "      <th>...</th>\n",
       "      <td>...</td>\n",
       "      <td>...</td>\n",
       "      <td>...</td>\n",
       "      <td>...</td>\n",
       "      <td>...</td>\n",
       "      <td>...</td>\n",
       "      <td>...</td>\n",
       "    </tr>\n",
       "    <tr>\n",
       "      <th>158152</th>\n",
       "      <td>467836</td>\n",
       "      <td>Subway</td>\n",
       "      <td>MA</td>\n",
       "      <td>PLYMOUTH</td>\n",
       "      <td>42.017352</td>\n",
       "      <td>-71.020925</td>\n",
       "      <td>POINT (-71.02093 42.01735)</td>\n",
       "    </tr>\n",
       "    <tr>\n",
       "      <th>158153</th>\n",
       "      <td>467837</td>\n",
       "      <td>Mountain Mike's Pizza</td>\n",
       "      <td>CA</td>\n",
       "      <td>SONOMA</td>\n",
       "      <td>38.469999</td>\n",
       "      <td>-122.729952</td>\n",
       "      <td>POINT (-122.72995 38.47000)</td>\n",
       "    </tr>\n",
       "    <tr>\n",
       "      <th>158154</th>\n",
       "      <td>467838</td>\n",
       "      <td>Captain D's</td>\n",
       "      <td>KY</td>\n",
       "      <td>FRANKLIN</td>\n",
       "      <td>38.190631</td>\n",
       "      <td>-84.823982</td>\n",
       "      <td>POINT (-84.82398 38.19063)</td>\n",
       "    </tr>\n",
       "    <tr>\n",
       "      <th>158155</th>\n",
       "      <td>467839</td>\n",
       "      <td>Long John Silver's</td>\n",
       "      <td>MD</td>\n",
       "      <td>PRINCE GEORGE'S</td>\n",
       "      <td>38.845196</td>\n",
       "      <td>-76.884308</td>\n",
       "      <td>POINT (-76.88431 38.84520)</td>\n",
       "    </tr>\n",
       "  </tbody>\n",
       "</table>\n",
       "<p>151780 rows × 7 columns</p>\n",
       "</div>"
      ],
      "text/plain": [
       "        STORE_NO                  CHAIN GEOSTATE           COUNTY   LATITUDE  \\\n",
       "0         467925           1000 Degrees       NJ            UNION  40.687198   \n",
       "1         468071      800 Degrees Pizza       OH         CUYAHOGA  41.411226   \n",
       "2         468006                  A & W       WI        WINNEBAGO  44.111902   \n",
       "3         467999                  A & W       MT           CUSTER  46.402699   \n",
       "...          ...                    ...      ...              ...        ...   \n",
       "158152    467836                 Subway       MA         PLYMOUTH  42.017352   \n",
       "158153    467837  Mountain Mike's Pizza       CA           SONOMA  38.469999   \n",
       "158154    467838            Captain D's       KY         FRANKLIN  38.190631   \n",
       "158155    467839     Long John Silver's       MD  PRINCE GEORGE'S  38.845196   \n",
       "\n",
       "         LONGITUDE                     geometry  \n",
       "0       -74.312737   POINT (-74.31274 40.68720)  \n",
       "1       -81.838519   POINT (-81.83852 41.41123)  \n",
       "2       -88.657309   POINT (-88.65731 44.11190)  \n",
       "3      -105.822015  POINT (-105.82201 46.40270)  \n",
       "...            ...                          ...  \n",
       "158152  -71.020925   POINT (-71.02093 42.01735)  \n",
       "158153 -122.729952  POINT (-122.72995 38.47000)  \n",
       "158154  -84.823982   POINT (-84.82398 38.19063)  \n",
       "158155  -76.884308   POINT (-76.88431 38.84520)  \n",
       "\n",
       "[151780 rows x 7 columns]"
      ]
     },
     "execution_count": 26,
     "metadata": {},
     "output_type": "execute_result"
    }
   ],
   "source": [
    "rt_dt_tbl = gpd.GeoDataFrame(rt_dt_tbl,crs = \"EPSG:4326\" ,geometry=gpd.points_from_xy(rt_dt_tbl.LONGITUDE, rt_dt_tbl.LATITUDE))\n",
    "rt_dt_tbl"
   ]
  },
  {
   "cell_type": "code",
   "execution_count": 27,
   "metadata": {},
   "outputs": [],
   "source": [
    "##I am seperating AK & HI bc the lat/long distortion is the worst for those regions. Will combine after\n",
    "\n",
    "## IS IN AK\n",
    "rt_dt_tbl_AK = rt_dt_tbl[(rt_dt_tbl[\"GEOSTATE\"].isin([\"AK\"]))]\n",
    "\n",
    "## IS IN HI\n",
    "rt_dt_tbl_HI = rt_dt_tbl[(rt_dt_tbl[\"GEOSTATE\"].isin([\"HI\"]))]\n",
    "\n",
    "## CONTINENTIAL US\n",
    "rt_dt_tbl = rt_dt_tbl[~(rt_dt_tbl[\"GEOSTATE\"].isin([\"AK\",\"HI\"]))]"
   ]
  },
  {
   "cell_type": "code",
   "execution_count": 28,
   "metadata": {},
   "outputs": [
    {
     "name": "stdout",
     "output_type": "stream",
     "text": [
      " Value should be 62774: Value is 151780\n"
     ]
    }
   ],
   "source": [
    "## should be 62744 when filtered by DT, 152073 when filtered by nothing, 151780 when no MBs.\n",
    "print(f' Value should be 62774: Value is {len(rt_dt_tbl_AK)+len(rt_dt_tbl_HI)+len(rt_dt_tbl)}')"
   ]
  },
  {
   "cell_type": "code",
   "execution_count": 29,
   "metadata": {},
   "outputs": [
    {
     "name": "stdout",
     "output_type": "stream",
     "text": [
      "25.442578 48.994602\n",
      "-124.38806799999999 -67.281587\n"
     ]
    }
   ],
   "source": [
    "## When I select specific regions looking at max/min lat long\n",
    "print(rt_dt_tbl[\"LATITUDE\"].min(),rt_dt_tbl[\"LATITUDE\"].max())\n",
    "print(rt_dt_tbl[\"LONGITUDE\"].min(),rt_dt_tbl[\"LONGITUDE\"].max())"
   ]
  },
  {
   "cell_type": "markdown",
   "metadata": {},
   "source": [
    "## Below is for continential United States"
   ]
  },
  {
   "cell_type": "code",
   "execution_count": 30,
   "metadata": {},
   "outputs": [
    {
     "data": {
      "text/plain": [
       "<Geographic 2D CRS: EPSG:4326>\n",
       "Name: WGS 84\n",
       "Axis Info [ellipsoidal]:\n",
       "- Lat[north]: Geodetic latitude (degree)\n",
       "- Lon[east]: Geodetic longitude (degree)\n",
       "Area of Use:\n",
       "- name: World.\n",
       "- bounds: (-180.0, -90.0, 180.0, 90.0)\n",
       "Datum: World Geodetic System 1984\n",
       "- Ellipsoid: WGS 84\n",
       "- Prime Meridian: Greenwich"
      ]
     },
     "execution_count": 30,
     "metadata": {},
     "output_type": "execute_result"
    }
   ],
   "source": [
    "## verify projection is in world lat/long\n",
    "rt_dt_tbl.crs"
   ]
  },
  {
   "cell_type": "code",
   "execution_count": 31,
   "metadata": {},
   "outputs": [
    {
     "data": {
      "text/plain": [
       "<AxesSubplot:>"
      ]
     },
     "execution_count": 31,
     "metadata": {},
     "output_type": "execute_result"
    },
    {
     "data": {
      "image/png": "[encoded data removed]",
      "text/plain": [
       "<Figure size 432x288 with 1 Axes>"
      ]
     },
     "metadata": {
      "needs_background": "light"
     },
     "output_type": "display_data"
    }
   ],
   "source": [
    "## Verifying we are only in the contenential USA\n",
    "rt_dt_tbl.plot()"
   ]
  },
  {
   "cell_type": "code",
   "execution_count": 32,
   "metadata": {},
   "outputs": [],
   "source": [
    "#rt_dt_tbl"
   ]
  },
  {
   "cell_type": "code",
   "execution_count": 33,
   "metadata": {},
   "outputs": [],
   "source": [
    "## THIS IS WHERE WE SHALL CHANGE THE PROJECTION\n",
    "## The projection I chose is ESRI:102003. A projection for the Continential USA\n",
    "cr_to = CRS.from_user_input(\"ESRI:102003\")\n",
    "rt_dt_tbl = rt_dt_tbl.to_crs(cr_to)"
   ]
  },
  {
   "cell_type": "code",
   "execution_count": 34,
   "metadata": {},
   "outputs": [
    {
     "data": {
      "text/plain": [
       "<Projected CRS: ESRI:102003>\n",
       "Name: USA_Contiguous_Albers_Equal_Area_Conic\n",
       "Axis Info [cartesian]:\n",
       "- E[east]: Easting (metre)\n",
       "- N[north]: Northing (metre)\n",
       "Area of Use:\n",
       "- name: United States (USA) - CONUS onshore - Alabama; Arizona; Arkansas; California; Colorado; Connecticut; Delaware; Florida; Georgia; Idaho; Illinois; Indiana; Iowa; Kansas; Kentucky; Louisiana; Maine; Maryland; Massachusetts; Michigan; Minnesota; Mississippi; Missouri; Montana; Nebraska; Nevada; New Hampshire; New Jersey; New Mexico; New York; North Carolina; North Dakota; Ohio; Oklahoma; Oregon; Pennsylvania; Rhode Island; South Carolina; South Dakota; Tennessee; Texas; Utah; Vermont; Virginia; Washington; West Virginia; Wisconsin; Wyoming.\n",
       "- bounds: (-124.79, 24.41, -66.91, 49.38)\n",
       "Coordinate Operation:\n",
       "- name: USA_Contiguous_Albers_Equal_Area_Conic\n",
       "- method: Albers Equal Area\n",
       "Datum: North American Datum 1983\n",
       "- Ellipsoid: GRS 1980\n",
       "- Prime Meridian: Greenwich"
      ]
     },
     "execution_count": 34,
     "metadata": {},
     "output_type": "execute_result"
    }
   ],
   "source": [
    "##Verify our map projection was changed\n",
    "rt_dt_tbl.crs"
   ]
  },
  {
   "cell_type": "code",
   "execution_count": 35,
   "metadata": {},
   "outputs": [],
   "source": [
    "## 300ft buffer ==> 600ft diameter, 300ft radius. (\"a buffer of 300ft all the way around the point\" ==> 600ft diameter)\n",
    "## Converting 300ft to meters, which is 91.44 meters. If my map is a good projection, I should be able to input 91.44 for \n",
    "## the distance arguement and get back roughly 300ft radius circles\n",
    "\n"
   ]
  },
  {
   "cell_type": "code",
   "execution_count": 36,
   "metadata": {},
   "outputs": [],
   "source": [
    "## Here are some comments that show why I needed to project to a new mapping plane: (old comments 3 #s)\n",
    "### Tuned distance to 0.00105 based on below histogram & mean when working in 4236 projection\n",
    "### Good news: the hist & mean seem to hold up when compared to multiple different boundary pts of the polygon (tested 0,1,2,3)\n",
    "### Bad news: the errors are not unbiased and likely vary geographically (AK worst errors)\n",
    "\n",
    "## Make sure CRS is consistent (ESRI:102003). Note input distance 91.44 meters\n",
    "\n",
    "rt_dt_tbl[\"buff_pt\"] = (rt_dt_tbl[\"geometry\"].to_crs(crs = \"ESRI:102003\")).buffer(distance = 91.44)\n"
   ]
  },
  {
   "cell_type": "code",
   "execution_count": 37,
   "metadata": {},
   "outputs": [
    {
     "data": {
      "text/plain": [
       "<Projected CRS: ESRI:102003>\n",
       "Name: USA_Contiguous_Albers_Equal_Area_Conic\n",
       "Axis Info [cartesian]:\n",
       "- E[east]: Easting (metre)\n",
       "- N[north]: Northing (metre)\n",
       "Area of Use:\n",
       "- name: United States (USA) - CONUS onshore - Alabama; Arizona; Arkansas; California; Colorado; Connecticut; Delaware; Florida; Georgia; Idaho; Illinois; Indiana; Iowa; Kansas; Kentucky; Louisiana; Maine; Maryland; Massachusetts; Michigan; Minnesota; Mississippi; Missouri; Montana; Nebraska; Nevada; New Hampshire; New Jersey; New Mexico; New York; North Carolina; North Dakota; Ohio; Oklahoma; Oregon; Pennsylvania; Rhode Island; South Carolina; South Dakota; Tennessee; Texas; Utah; Vermont; Virginia; Washington; West Virginia; Wisconsin; Wyoming.\n",
       "- bounds: (-124.79, 24.41, -66.91, 49.38)\n",
       "Coordinate Operation:\n",
       "- name: USA_Contiguous_Albers_Equal_Area_Conic\n",
       "- method: Albers Equal Area\n",
       "Datum: North American Datum 1983\n",
       "- Ellipsoid: GRS 1980\n",
       "- Prime Meridian: Greenwich"
      ]
     },
     "execution_count": 37,
     "metadata": {},
     "output_type": "execute_result"
    }
   ],
   "source": [
    "## Verify crs was maintained among buffer points\n",
    "rt_dt_tbl[\"buff_pt\"].crs"
   ]
  },
  {
   "cell_type": "markdown",
   "metadata": {},
   "source": [
    "## Begin seed pt"
   ]
  },
  {
   "cell_type": "code",
   "execution_count": null,
   "metadata": {},
   "outputs": [],
   "source": [
    "## Create a geopandas dataframe from the unions\n",
    "unions = gpd.GeoDataFrame(rt_dt_tbl[\"buff_pt\"].unary_union, geometry=0)\n",
    "## Set the CRS\n",
    "unions = unions.set_crs(crs = \"ESRI:102003\")\n",
    "unions.columns = [\"geometry\"]\n",
    "\n",
    "\n",
    "## Create area columns & sort by area\n",
    "unions[\"area\"] = unions[\"geometry\"].area\n",
    "unions = unions.sort_values(by=\"area\", ascending=False).reset_index(drop=True)"
   ]
  },
  {
   "cell_type": "code",
   "execution_count": null,
   "metadata": {},
   "outputs": [],
   "source": [
    "unions"
   ]
  },
  {
   "cell_type": "code",
   "execution_count": null,
   "metadata": {},
   "outputs": [],
   "source": [
    "unions[\"seed_LAT\"] = unions[\"geometry\"].centroid.to_crs(\"EPSG:4326\").y\n",
    "unions[\"seed_LON\"] = unions[\"geometry\"].centroid.to_crs(\"EPSG:4326\").x\n",
    "unions[\"STATE\"] = \"CONT_US\""
   ]
  },
  {
   "cell_type": "code",
   "execution_count": null,
   "metadata": {},
   "outputs": [],
   "source": [
    "##Finally the cool part: Plotting all intersected buffers,their centroids (seed points), and the restaurants!!!\n",
    "unions[\"geometry\"] = unions[\"geometry\"].to_crs(\"EPSG:4326\")\n",
    "\n",
    "temp_plt = gpd.GeoDataFrame(copy.deepcopy(unions))\n",
    "\n",
    "#SEED POINTS!!!!!!\n",
    "#map_5 = keplergl.KeplerGl(data={\"cfa\":temp_plt, \"pts\":rt_dt_tbl[[\"LATITUDE\",\"LONGITUDE\"]]})\n",
    "#map_5"
   ]
  },
  {
   "cell_type": "code",
   "execution_count": null,
   "metadata": {},
   "outputs": [],
   "source": [
    "unions"
   ]
  },
  {
   "cell_type": "code",
   "execution_count": null,
   "metadata": {},
   "outputs": [],
   "source": [
    "unions.to_csv(\"results/raw_seedpoints/raw_seedpts_contusa_allrt.csv\", index=False)"
   ]
  },
  {
   "cell_type": "markdown",
   "metadata": {},
   "source": [
    "## Technically the seed points are done here. They are cen_x, cen_y"
   ]
  },
  {
   "cell_type": "markdown",
   "metadata": {},
   "source": [
    "## Below is a verification of the circles radii"
   ]
  },
  {
   "cell_type": "code",
   "execution_count": 64,
   "metadata": {},
   "outputs": [],
   "source": [
    "## Use Geodesic to verify the length of the circles radii is correct. Geodesic takes inputs in global lat/long format\n",
    "## so, convert back to EPSG:4326\n",
    "\n",
    "rt_dt_tbl[\"geometry\"] = rt_dt_tbl[\"geometry\"].to_crs(crs = \"EPSG:4326\")\n",
    "\n",
    "rt_dt_tbl[\"buff_pt\"] = rt_dt_tbl[\"buff_pt\"].to_crs(crs = \"EPSG:4326\")\n",
    "\n",
    "rt_dt_tbl = rt_dt_tbl.to_crs(\"EPSG:4326\")"
   ]
  },
  {
   "cell_type": "code",
   "execution_count": 65,
   "metadata": {},
   "outputs": [],
   "source": [
    "## Calculating distance b/t all points & their respective border of their spherse (radii)\n",
    "rt_dt_tbl[\"buffer_dist\"] = rt_dt_tbl.apply(lambda row: geodesic((row[\"buff_pt\"].exterior.coords[0][1],row[\"buff_pt\"].exterior.coords[0][0]),(row[\"geometry\"].y,row[\"geometry\"].x)).feet, axis=1)"
   ]
  },
  {
   "cell_type": "code",
   "execution_count": 66,
   "metadata": {},
   "outputs": [
    {
     "name": "stdout",
     "output_type": "stream",
     "text": [
      "301.7577501496547\n"
     ]
    },
    {
     "data": {
      "text/plain": [
       "<AxesSubplot:ylabel='Frequency'>"
      ]
     },
     "execution_count": 66,
     "metadata": {},
     "output_type": "execute_result"
    },
    {
     "data": {
      "image/png": "[encoded data removed]",
      "text/plain": [
       "<Figure size 432x288 with 1 Axes>"
      ]
     },
     "metadata": {
      "needs_background": "light"
     },
     "output_type": "display_data"
    }
   ],
   "source": [
    "## Print the mean of the radii, and plot the histogram\n",
    "print(np.mean(rt_dt_tbl[\"buffer_dist\"]))\n",
    "pd.Series(rt_dt_tbl[\"buffer_dist\"]).plot.hist()\n",
    "\n",
    "#Range bt 296-303. I can live with that."
   ]
  },
  {
   "cell_type": "code",
   "execution_count": 67,
   "metadata": {},
   "outputs": [],
   "source": [
    "##Now that we verified our spheres, drop buffer distance\n",
    "rt_dt_tbl = rt_dt_tbl.drop(\"buffer_dist\", axis=1)"
   ]
  },
  {
   "cell_type": "code",
   "execution_count": 68,
   "metadata": {},
   "outputs": [
    {
     "data": {
      "text/html": [
       "<div>\n",
       "<style scoped>\n",
       "    .dataframe tbody tr th:only-of-type {\n",
       "        vertical-align: middle;\n",
       "    }\n",
       "\n",
       "    .dataframe tbody tr th {\n",
       "        vertical-align: top;\n",
       "    }\n",
       "\n",
       "    .dataframe thead th {\n",
       "        text-align: right;\n",
       "    }\n",
       "</style>\n",
       "<table border=\"1\" class=\"dataframe\">\n",
       "  <thead>\n",
       "    <tr style=\"text-align: right;\">\n",
       "      <th></th>\n",
       "      <th>STORE_NO</th>\n",
       "      <th>CHAIN</th>\n",
       "      <th>GEOSTATE</th>\n",
       "      <th>COUNTY</th>\n",
       "      <th>LATITUDE</th>\n",
       "      <th>LONGITUDE</th>\n",
       "      <th>geometry</th>\n",
       "      <th>buff_pt</th>\n",
       "    </tr>\n",
       "  </thead>\n",
       "  <tbody>\n",
       "    <tr>\n",
       "      <th>0</th>\n",
       "      <td>468006</td>\n",
       "      <td>A &amp; W</td>\n",
       "      <td>WI</td>\n",
       "      <td>WINNEBAGO</td>\n",
       "      <td>44.111902</td>\n",
       "      <td>-88.657309</td>\n",
       "      <td>POINT (-88.65731 44.11190)</td>\n",
       "      <td>POLYGON ((-88.65617 44.11184, -88.65618 44.111...</td>\n",
       "    </tr>\n",
       "    <tr>\n",
       "      <th>1</th>\n",
       "      <td>467999</td>\n",
       "      <td>A &amp; W</td>\n",
       "      <td>MT</td>\n",
       "      <td>CUSTER</td>\n",
       "      <td>46.402699</td>\n",
       "      <td>-105.822015</td>\n",
       "      <td>POINT (-105.82201 46.40270)</td>\n",
       "      <td>POLYGON ((-105.82084 46.40278, -105.82083 46.4...</td>\n",
       "    </tr>\n",
       "    <tr>\n",
       "      <th>2</th>\n",
       "      <td>468134</td>\n",
       "      <td>Amigo's</td>\n",
       "      <td>NE</td>\n",
       "      <td>DOUGLAS</td>\n",
       "      <td>41.232437</td>\n",
       "      <td>-96.119234</td>\n",
       "      <td>POINT (-96.11923 41.23244)</td>\n",
       "      <td>POLYGON ((-96.11813 41.23244, -96.11814 41.232...</td>\n",
       "    </tr>\n",
       "    <tr>\n",
       "      <th>3</th>\n",
       "      <td>468374</td>\n",
       "      <td>Arby's</td>\n",
       "      <td>PA</td>\n",
       "      <td>BEAVER</td>\n",
       "      <td>40.738581</td>\n",
       "      <td>-80.316655</td>\n",
       "      <td>POINT (-80.31666 40.73858)</td>\n",
       "      <td>POLYGON ((-80.31558 40.73845, -80.31560 40.738...</td>\n",
       "    </tr>\n",
       "    <tr>\n",
       "      <th>...</th>\n",
       "      <td>...</td>\n",
       "      <td>...</td>\n",
       "      <td>...</td>\n",
       "      <td>...</td>\n",
       "      <td>...</td>\n",
       "      <td>...</td>\n",
       "      <td>...</td>\n",
       "      <td>...</td>\n",
       "    </tr>\n",
       "    <tr>\n",
       "      <th>63174</th>\n",
       "      <td>467749</td>\n",
       "      <td>Dunkin' Donuts</td>\n",
       "      <td>CA</td>\n",
       "      <td>TULARE</td>\n",
       "      <td>36.312855</td>\n",
       "      <td>-119.313629</td>\n",
       "      <td>POINT (-119.31363 36.31286)</td>\n",
       "      <td>POLYGON ((-119.31263 36.31305, -119.31261 36.3...</td>\n",
       "    </tr>\n",
       "    <tr>\n",
       "      <th>63175</th>\n",
       "      <td>467751</td>\n",
       "      <td>Dunkin' Donuts</td>\n",
       "      <td>VA</td>\n",
       "      <td>VIRGINIA BEACH (CITY</td>\n",
       "      <td>36.840402</td>\n",
       "      <td>-76.094753</td>\n",
       "      <td>POINT (-76.09475 36.84040)</td>\n",
       "      <td>POLYGON ((-76.09374 36.84023, -76.09377 36.840...</td>\n",
       "    </tr>\n",
       "    <tr>\n",
       "      <th>63176</th>\n",
       "      <td>467752</td>\n",
       "      <td>Dunkin' Donuts</td>\n",
       "      <td>VA</td>\n",
       "      <td>HARRISONBURG (CITY)</td>\n",
       "      <td>38.419521</td>\n",
       "      <td>-78.869827</td>\n",
       "      <td>POINT (-78.86983 38.41952)</td>\n",
       "      <td>POLYGON ((-78.86879 38.41937, -78.86881 38.419...</td>\n",
       "    </tr>\n",
       "    <tr>\n",
       "      <th>63177</th>\n",
       "      <td>467839</td>\n",
       "      <td>Long John Silver's</td>\n",
       "      <td>MD</td>\n",
       "      <td>PRINCE GEORGE'S</td>\n",
       "      <td>38.845196</td>\n",
       "      <td>-76.884308</td>\n",
       "      <td>POINT (-76.88431 38.84520)</td>\n",
       "      <td>POLYGON ((-76.88327 38.84503, -76.88329 38.844...</td>\n",
       "    </tr>\n",
       "  </tbody>\n",
       "</table>\n",
       "<p>62552 rows × 8 columns</p>\n",
       "</div>"
      ],
      "text/plain": [
       "       STORE_NO               CHAIN GEOSTATE                COUNTY   LATITUDE  \\\n",
       "0        468006               A & W       WI             WINNEBAGO  44.111902   \n",
       "1        467999               A & W       MT                CUSTER  46.402699   \n",
       "2        468134             Amigo's       NE               DOUGLAS  41.232437   \n",
       "3        468374              Arby's       PA                BEAVER  40.738581   \n",
       "...         ...                 ...      ...                   ...        ...   \n",
       "63174    467749      Dunkin' Donuts       CA                TULARE  36.312855   \n",
       "63175    467751      Dunkin' Donuts       VA  VIRGINIA BEACH (CITY  36.840402   \n",
       "63176    467752      Dunkin' Donuts       VA   HARRISONBURG (CITY)  38.419521   \n",
       "63177    467839  Long John Silver's       MD       PRINCE GEORGE'S  38.845196   \n",
       "\n",
       "        LONGITUDE                     geometry  \\\n",
       "0      -88.657309   POINT (-88.65731 44.11190)   \n",
       "1     -105.822015  POINT (-105.82201 46.40270)   \n",
       "2      -96.119234   POINT (-96.11923 41.23244)   \n",
       "3      -80.316655   POINT (-80.31666 40.73858)   \n",
       "...           ...                          ...   \n",
       "63174 -119.313629  POINT (-119.31363 36.31286)   \n",
       "63175  -76.094753   POINT (-76.09475 36.84040)   \n",
       "63176  -78.869827   POINT (-78.86983 38.41952)   \n",
       "63177  -76.884308   POINT (-76.88431 38.84520)   \n",
       "\n",
       "                                                 buff_pt  \n",
       "0      POLYGON ((-88.65617 44.11184, -88.65618 44.111...  \n",
       "1      POLYGON ((-105.82084 46.40278, -105.82083 46.4...  \n",
       "2      POLYGON ((-96.11813 41.23244, -96.11814 41.232...  \n",
       "3      POLYGON ((-80.31558 40.73845, -80.31560 40.738...  \n",
       "...                                                  ...  \n",
       "63174  POLYGON ((-119.31263 36.31305, -119.31261 36.3...  \n",
       "63175  POLYGON ((-76.09374 36.84023, -76.09377 36.840...  \n",
       "63176  POLYGON ((-78.86879 38.41937, -78.86881 38.419...  \n",
       "63177  POLYGON ((-76.88327 38.84503, -76.88329 38.844...  \n",
       "\n",
       "[62552 rows x 8 columns]"
      ]
     },
     "execution_count": 68,
     "metadata": {},
     "output_type": "execute_result"
    }
   ],
   "source": [
    "rt_dt_tbl"
   ]
  },
  {
   "cell_type": "code",
   "execution_count": 69,
   "metadata": {},
   "outputs": [],
   "source": [
    "##Finally the cool part: Plotting all buffer regions and can see intersection as well as solo points!!!\n",
    "temp_plt = gpd.GeoDataFrame(rt_dt_tbl[(rt_dt_tbl[\"LATITUDE\"]!=0)],crs = \"EPSG:4326\", geometry = rt_dt_tbl[(rt_dt_tbl[\"LATITUDE\"]!=0)][\"buff_pt\"] )\n",
    "temp_plt = temp_plt.drop([\"LATITUDE\",\"LONGITUDE\",\"buff_pt\"], axis=1)\n",
    "\n",
    "#Incredible buffer regions. A++\n",
    "#map_5 = keplergl.KeplerGl(data={\"cfa\":temp_plt})\n",
    "#map_5\n"
   ]
  },
  {
   "cell_type": "markdown",
   "metadata": {},
   "source": [
    "## Now do the same for Alaska"
   ]
  },
  {
   "cell_type": "code",
   "execution_count": 70,
   "metadata": {},
   "outputs": [
    {
     "data": {
      "text/html": [
       "<div>\n",
       "<style scoped>\n",
       "    .dataframe tbody tr th:only-of-type {\n",
       "        vertical-align: middle;\n",
       "    }\n",
       "\n",
       "    .dataframe tbody tr th {\n",
       "        vertical-align: top;\n",
       "    }\n",
       "\n",
       "    .dataframe thead th {\n",
       "        text-align: right;\n",
       "    }\n",
       "</style>\n",
       "<table border=\"1\" class=\"dataframe\">\n",
       "  <thead>\n",
       "    <tr style=\"text-align: right;\">\n",
       "      <th></th>\n",
       "      <th>STORE_NO</th>\n",
       "      <th>CHAIN</th>\n",
       "      <th>GEOSTATE</th>\n",
       "      <th>COUNTY</th>\n",
       "      <th>LATITUDE</th>\n",
       "      <th>LONGITUDE</th>\n",
       "      <th>geometry</th>\n",
       "    </tr>\n",
       "  </thead>\n",
       "  <tbody>\n",
       "    <tr>\n",
       "      <th>284</th>\n",
       "      <td>468670</td>\n",
       "      <td>Firehouse Subs</td>\n",
       "      <td>AK</td>\n",
       "      <td>ANCHORAGE</td>\n",
       "      <td>61.127111</td>\n",
       "      <td>-149.885014</td>\n",
       "      <td>POINT (-149.88501 61.12711)</td>\n",
       "    </tr>\n",
       "    <tr>\n",
       "      <th>372</th>\n",
       "      <td>467978</td>\n",
       "      <td>McDonald's-TR</td>\n",
       "      <td>AK</td>\n",
       "      <td>ANCHORAGE</td>\n",
       "      <td>61.327042</td>\n",
       "      <td>-149.571295</td>\n",
       "      <td>POINT (-149.57129 61.32704)</td>\n",
       "    </tr>\n",
       "    <tr>\n",
       "      <th>396</th>\n",
       "      <td>468225</td>\n",
       "      <td>Raising Cane's</td>\n",
       "      <td>AK</td>\n",
       "      <td>ANCHORAGE</td>\n",
       "      <td>61.144907</td>\n",
       "      <td>-149.866514</td>\n",
       "      <td>POINT (-149.86651 61.14491)</td>\n",
       "    </tr>\n",
       "    <tr>\n",
       "      <th>16272</th>\n",
       "      <td>103104</td>\n",
       "      <td>Burger King-TR</td>\n",
       "      <td>AK</td>\n",
       "      <td>ANCHORAGE</td>\n",
       "      <td>61.195386</td>\n",
       "      <td>-149.910023</td>\n",
       "      <td>POINT (-149.91002 61.19539)</td>\n",
       "    </tr>\n",
       "    <tr>\n",
       "      <th>...</th>\n",
       "      <td>...</td>\n",
       "      <td>...</td>\n",
       "      <td>...</td>\n",
       "      <td>...</td>\n",
       "      <td>...</td>\n",
       "      <td>...</td>\n",
       "      <td>...</td>\n",
       "    </tr>\n",
       "    <tr>\n",
       "      <th>59123</th>\n",
       "      <td>444371</td>\n",
       "      <td>Taco Bell-TR</td>\n",
       "      <td>AK</td>\n",
       "      <td>MATANUSKA-SUSITNA</td>\n",
       "      <td>61.599191</td>\n",
       "      <td>-149.127901</td>\n",
       "      <td>POINT (-149.12790 61.59919)</td>\n",
       "    </tr>\n",
       "    <tr>\n",
       "      <th>61687</th>\n",
       "      <td>460768</td>\n",
       "      <td>Raising Cane's</td>\n",
       "      <td>AK</td>\n",
       "      <td>ANCHORAGE</td>\n",
       "      <td>61.230884</td>\n",
       "      <td>-149.740737</td>\n",
       "      <td>POINT (-149.74074 61.23088)</td>\n",
       "    </tr>\n",
       "    <tr>\n",
       "      <th>62056</th>\n",
       "      <td>462578</td>\n",
       "      <td>Wendy's</td>\n",
       "      <td>AK</td>\n",
       "      <td>MATANUSKA-SUSITNA</td>\n",
       "      <td>61.593838</td>\n",
       "      <td>-149.120743</td>\n",
       "      <td>POINT (-149.12074 61.59384)</td>\n",
       "    </tr>\n",
       "    <tr>\n",
       "      <th>62744</th>\n",
       "      <td>465999</td>\n",
       "      <td>Raising Cane's</td>\n",
       "      <td>AK</td>\n",
       "      <td>MATANUSKA-SUSITNA</td>\n",
       "      <td>61.578472</td>\n",
       "      <td>-149.415054</td>\n",
       "      <td>POINT (-149.41505 61.57847)</td>\n",
       "    </tr>\n",
       "  </tbody>\n",
       "</table>\n",
       "<p>73 rows × 7 columns</p>\n",
       "</div>"
      ],
      "text/plain": [
       "       STORE_NO           CHAIN GEOSTATE             COUNTY   LATITUDE  \\\n",
       "284      468670  Firehouse Subs       AK          ANCHORAGE  61.127111   \n",
       "372      467978   McDonald's-TR       AK          ANCHORAGE  61.327042   \n",
       "396      468225  Raising Cane's       AK          ANCHORAGE  61.144907   \n",
       "16272    103104  Burger King-TR       AK          ANCHORAGE  61.195386   \n",
       "...         ...             ...      ...                ...        ...   \n",
       "59123    444371    Taco Bell-TR       AK  MATANUSKA-SUSITNA  61.599191   \n",
       "61687    460768  Raising Cane's       AK          ANCHORAGE  61.230884   \n",
       "62056    462578         Wendy's       AK  MATANUSKA-SUSITNA  61.593838   \n",
       "62744    465999  Raising Cane's       AK  MATANUSKA-SUSITNA  61.578472   \n",
       "\n",
       "        LONGITUDE                     geometry  \n",
       "284   -149.885014  POINT (-149.88501 61.12711)  \n",
       "372   -149.571295  POINT (-149.57129 61.32704)  \n",
       "396   -149.866514  POINT (-149.86651 61.14491)  \n",
       "16272 -149.910023  POINT (-149.91002 61.19539)  \n",
       "...           ...                          ...  \n",
       "59123 -149.127901  POINT (-149.12790 61.59919)  \n",
       "61687 -149.740737  POINT (-149.74074 61.23088)  \n",
       "62056 -149.120743  POINT (-149.12074 61.59384)  \n",
       "62744 -149.415054  POINT (-149.41505 61.57847)  \n",
       "\n",
       "[73 rows x 7 columns]"
      ]
     },
     "execution_count": 70,
     "metadata": {},
     "output_type": "execute_result"
    }
   ],
   "source": [
    "rt_dt_tbl_AK"
   ]
  },
  {
   "cell_type": "code",
   "execution_count": 71,
   "metadata": {},
   "outputs": [
    {
     "name": "stdout",
     "output_type": "stream",
     "text": [
      "58.364351 64.859394\n",
      "-151.523129 -134.576103\n"
     ]
    }
   ],
   "source": [
    "## When I select specific regions looking at max/min lat long\n",
    "print(rt_dt_tbl_AK[\"LATITUDE\"].min(),rt_dt_tbl_AK[\"LATITUDE\"].max())\n",
    "print(rt_dt_tbl_AK[\"LONGITUDE\"].min(),rt_dt_tbl_AK[\"LONGITUDE\"].max())"
   ]
  },
  {
   "cell_type": "code",
   "execution_count": 72,
   "metadata": {},
   "outputs": [
    {
     "data": {
      "text/plain": [
       "<Geographic 2D CRS: EPSG:4326>\n",
       "Name: WGS 84\n",
       "Axis Info [ellipsoidal]:\n",
       "- Lat[north]: Geodetic latitude (degree)\n",
       "- Lon[east]: Geodetic longitude (degree)\n",
       "Area of Use:\n",
       "- name: World.\n",
       "- bounds: (-180.0, -90.0, 180.0, 90.0)\n",
       "Datum: World Geodetic System 1984\n",
       "- Ellipsoid: WGS 84\n",
       "- Prime Meridian: Greenwich"
      ]
     },
     "execution_count": 72,
     "metadata": {},
     "output_type": "execute_result"
    }
   ],
   "source": [
    "## verify projection is in world lat/long\n",
    "rt_dt_tbl_AK.crs"
   ]
  },
  {
   "cell_type": "code",
   "execution_count": 73,
   "metadata": {},
   "outputs": [
    {
     "data": {
      "text/plain": [
       "<AxesSubplot:>"
      ]
     },
     "execution_count": 73,
     "metadata": {},
     "output_type": "execute_result"
    },
    {
     "data": {
      "image/png": "[encoded data removed]",
      "text/plain": [
       "<Figure size 432x288 with 1 Axes>"
      ]
     },
     "metadata": {
      "needs_background": "light"
     },
     "output_type": "display_data"
    }
   ],
   "source": [
    "## Verifying we are only in the great north (Alaska)\n",
    "rt_dt_tbl_AK.plot()"
   ]
  },
  {
   "cell_type": "code",
   "execution_count": 74,
   "metadata": {},
   "outputs": [],
   "source": [
    "## THIS IS WHERE WE SHALL CHANGE THE PROJECTION\n",
    "## The projection I chose for AK is Alaska Albers EPSG:3338\n",
    "\n",
    "cr_to = CRS.from_user_input(\"EPSG:3338\")\n",
    "rt_dt_tbl_AK = rt_dt_tbl_AK.to_crs(cr_to)"
   ]
  },
  {
   "cell_type": "code",
   "execution_count": 75,
   "metadata": {},
   "outputs": [
    {
     "data": {
      "text/plain": [
       "<Projected CRS: EPSG:3338>\n",
       "Name: NAD83 / Alaska Albers\n",
       "Axis Info [cartesian]:\n",
       "- X[east]: Easting (metre)\n",
       "- Y[north]: Northing (metre)\n",
       "Area of Use:\n",
       "- name: United States (USA) - Alaska.\n",
       "- bounds: (172.42, 51.3, -129.99, 71.4)\n",
       "Coordinate Operation:\n",
       "- name: Alaska Albers (meters)\n",
       "- method: Albers Equal Area\n",
       "Datum: North American Datum 1983\n",
       "- Ellipsoid: GRS 1980\n",
       "- Prime Meridian: Greenwich"
      ]
     },
     "execution_count": 75,
     "metadata": {},
     "output_type": "execute_result"
    }
   ],
   "source": [
    "##Verify our map projection was changed\n",
    "rt_dt_tbl_AK.crs"
   ]
  },
  {
   "cell_type": "code",
   "execution_count": 76,
   "metadata": {},
   "outputs": [],
   "source": [
    "## Make sure CRS is consistent (EPSG:3338). Note input distance 91.44 meters\n",
    "\n",
    "rt_dt_tbl_AK[\"buff_pt\"] = (rt_dt_tbl_AK[\"geometry\"].to_crs(crs = \"EPSG:3338\")).buffer(distance = 91.44)"
   ]
  },
  {
   "cell_type": "code",
   "execution_count": 77,
   "metadata": {},
   "outputs": [
    {
     "data": {
      "text/plain": [
       "<Projected CRS: EPSG:3338>\n",
       "Name: NAD83 / Alaska Albers\n",
       "Axis Info [cartesian]:\n",
       "- X[east]: Easting (metre)\n",
       "- Y[north]: Northing (metre)\n",
       "Area of Use:\n",
       "- name: United States (USA) - Alaska.\n",
       "- bounds: (172.42, 51.3, -129.99, 71.4)\n",
       "Coordinate Operation:\n",
       "- name: Alaska Albers (meters)\n",
       "- method: Albers Equal Area\n",
       "Datum: North American Datum 1983\n",
       "- Ellipsoid: GRS 1980\n",
       "- Prime Meridian: Greenwich"
      ]
     },
     "execution_count": 77,
     "metadata": {},
     "output_type": "execute_result"
    }
   ],
   "source": [
    "## Verify crs was maintained among buffer points\n",
    "rt_dt_tbl_AK[\"buff_pt\"].crs"
   ]
  },
  {
   "cell_type": "markdown",
   "metadata": {},
   "source": [
    "### Seed point dev begins here"
   ]
  },
  {
   "cell_type": "code",
   "execution_count": 78,
   "metadata": {},
   "outputs": [],
   "source": [
    "## Create a geopandas dataframe from the unions\n",
    "unions_AK = gpd.GeoDataFrame(rt_dt_tbl_AK[\"buff_pt\"].unary_union, geometry=0)\n",
    "## Set the CRS\n",
    "unions_AK = unions_AK.set_crs(crs = \"EPSG:3338\")\n",
    "unions_AK.columns = [\"geometry\"]\n",
    "\n",
    "\n",
    "## Create area columns & sort by area\n",
    "unions_AK[\"area\"] = unions_AK[\"geometry\"].area\n",
    "unions_AK = unions_AK.sort_values(by=\"area\", ascending=False).reset_index(drop=True)"
   ]
  },
  {
   "cell_type": "code",
   "execution_count": 79,
   "metadata": {},
   "outputs": [
    {
     "data": {
      "text/html": [
       "<div>\n",
       "<style scoped>\n",
       "    .dataframe tbody tr th:only-of-type {\n",
       "        vertical-align: middle;\n",
       "    }\n",
       "\n",
       "    .dataframe tbody tr th {\n",
       "        vertical-align: top;\n",
       "    }\n",
       "\n",
       "    .dataframe thead th {\n",
       "        text-align: right;\n",
       "    }\n",
       "</style>\n",
       "<table border=\"1\" class=\"dataframe\">\n",
       "  <thead>\n",
       "    <tr style=\"text-align: right;\">\n",
       "      <th></th>\n",
       "      <th>geometry</th>\n",
       "      <th>area</th>\n",
       "    </tr>\n",
       "  </thead>\n",
       "  <tbody>\n",
       "    <tr>\n",
       "      <th>0</th>\n",
       "      <td>POLYGON ((219688.251 1252672.891, 219687.663 1...</td>\n",
       "      <td>75491.712896</td>\n",
       "    </tr>\n",
       "    <tr>\n",
       "      <th>1</th>\n",
       "      <td>POLYGON ((315838.053 1659651.957, 315837.904 1...</td>\n",
       "      <td>74196.359521</td>\n",
       "    </tr>\n",
       "    <tr>\n",
       "      <th>2</th>\n",
       "      <td>POLYGON ((217295.657 1246094.051, 217295.217 1...</td>\n",
       "      <td>52442.216463</td>\n",
       "    </tr>\n",
       "    <tr>\n",
       "      <th>3</th>\n",
       "      <td>POLYGON ((222468.529 1243186.830, 222468.089 1...</td>\n",
       "      <td>51412.231065</td>\n",
       "    </tr>\n",
       "    <tr>\n",
       "      <th>...</th>\n",
       "      <td>...</td>\n",
       "      <td>...</td>\n",
       "    </tr>\n",
       "    <tr>\n",
       "      <th>51</th>\n",
       "      <td>POLYGON ((303366.660 1668051.788, 303366.220 1...</td>\n",
       "      <td>26225.540089</td>\n",
       "    </tr>\n",
       "    <tr>\n",
       "      <th>52</th>\n",
       "      <td>POLYGON ((297869.363 1668708.753, 297868.923 1...</td>\n",
       "      <td>26225.540089</td>\n",
       "    </tr>\n",
       "    <tr>\n",
       "      <th>53</th>\n",
       "      <td>POLYGON ((297781.258 1668966.883, 297780.817 1...</td>\n",
       "      <td>26225.540089</td>\n",
       "    </tr>\n",
       "    <tr>\n",
       "      <th>54</th>\n",
       "      <td>POLYGON ((298464.751 1669545.371, 298464.311 1...</td>\n",
       "      <td>26225.540089</td>\n",
       "    </tr>\n",
       "  </tbody>\n",
       "</table>\n",
       "<p>55 rows × 2 columns</p>\n",
       "</div>"
      ],
      "text/plain": [
       "                                             geometry          area\n",
       "0   POLYGON ((219688.251 1252672.891, 219687.663 1...  75491.712896\n",
       "1   POLYGON ((315838.053 1659651.957, 315837.904 1...  74196.359521\n",
       "2   POLYGON ((217295.657 1246094.051, 217295.217 1...  52442.216463\n",
       "3   POLYGON ((222468.529 1243186.830, 222468.089 1...  51412.231065\n",
       "..                                                ...           ...\n",
       "51  POLYGON ((303366.660 1668051.788, 303366.220 1...  26225.540089\n",
       "52  POLYGON ((297869.363 1668708.753, 297868.923 1...  26225.540089\n",
       "53  POLYGON ((297781.258 1668966.883, 297780.817 1...  26225.540089\n",
       "54  POLYGON ((298464.751 1669545.371, 298464.311 1...  26225.540089\n",
       "\n",
       "[55 rows x 2 columns]"
      ]
     },
     "execution_count": 79,
     "metadata": {},
     "output_type": "execute_result"
    }
   ],
   "source": [
    "unions_AK"
   ]
  },
  {
   "cell_type": "code",
   "execution_count": 80,
   "metadata": {},
   "outputs": [],
   "source": [
    "## At first was thinking of going through every single point & seeing if a union_buffers contained it\n",
    "## Now thinking get the centroids of the union_buffers & dist calc b/t each point & centroids. Lowest dist centroid\n",
    "## is assigned. Can maybe find a way to keep areas for stopping point?\n",
    "\n",
    "## Now thinking do we even care to know what is in each point? That is for the eliminaton criteria to decide.\n",
    "\n",
    "unions_AK[\"seed_LAT\"] = unions_AK[\"geometry\"].centroid.to_crs(\"EPSG:4326\").y\n",
    "unions_AK[\"seed_LON\"] = unions_AK[\"geometry\"].centroid.to_crs(\"EPSG:4326\").x\n",
    "unions_AK[\"STATE\"] = \"AK\""
   ]
  },
  {
   "cell_type": "code",
   "execution_count": 82,
   "metadata": {},
   "outputs": [],
   "source": [
    "##Finally the cool part: Plotting all intersected buffers,their centroids (seed points), and the restaurants!!!\n",
    "unions_AK[\"geometry\"] = unions_AK[\"geometry\"].to_crs(\"EPSG:4326\")\n",
    "\n",
    "temp_plt = gpd.GeoDataFrame(copy.deepcopy(unions_AK))\n",
    "\n",
    "#SEED POINTS\n",
    "#map_5 = keplergl.KeplerGl(data={\"cfa\":temp_plt, \"pts\":rt_dt_tbl_AK[[\"LATITUDE\",\"LONGITUDE\"]]})\n",
    "#map_5"
   ]
  },
  {
   "cell_type": "code",
   "execution_count": 83,
   "metadata": {},
   "outputs": [
    {
     "data": {
      "text/html": [
       "<div>\n",
       "<style scoped>\n",
       "    .dataframe tbody tr th:only-of-type {\n",
       "        vertical-align: middle;\n",
       "    }\n",
       "\n",
       "    .dataframe tbody tr th {\n",
       "        vertical-align: top;\n",
       "    }\n",
       "\n",
       "    .dataframe thead th {\n",
       "        text-align: right;\n",
       "    }\n",
       "</style>\n",
       "<table border=\"1\" class=\"dataframe\">\n",
       "  <thead>\n",
       "    <tr style=\"text-align: right;\">\n",
       "      <th></th>\n",
       "      <th>geometry</th>\n",
       "      <th>area</th>\n",
       "      <th>seed_LAT</th>\n",
       "      <th>seed_LON</th>\n",
       "      <th>STATE</th>\n",
       "    </tr>\n",
       "  </thead>\n",
       "  <tbody>\n",
       "    <tr>\n",
       "      <th>0</th>\n",
       "      <td>POLYGON ((-149.89702 61.19446, -149.89703 61.1...</td>\n",
       "      <td>75491.712896</td>\n",
       "      <td>61.194998</td>\n",
       "      <td>-149.898348</td>\n",
       "      <td>AK</td>\n",
       "    </tr>\n",
       "    <tr>\n",
       "      <th>1</th>\n",
       "      <td>POLYGON ((-147.35162 64.75586, -147.35163 64.7...</td>\n",
       "      <td>74196.359521</td>\n",
       "      <td>64.756624</td>\n",
       "      <td>-147.351577</td>\n",
       "      <td>AK</td>\n",
       "    </tr>\n",
       "    <tr>\n",
       "      <th>2</th>\n",
       "      <td>POLYGON ((-149.94908 61.13706, -149.94909 61.1...</td>\n",
       "      <td>52442.216463</td>\n",
       "      <td>61.137901</td>\n",
       "      <td>-149.951158</td>\n",
       "      <td>AK</td>\n",
       "    </tr>\n",
       "    <tr>\n",
       "      <th>3</th>\n",
       "      <td>POLYGON ((-149.85627 61.10826, -149.85628 61.1...</td>\n",
       "      <td>51412.231065</td>\n",
       "      <td>61.108676</td>\n",
       "      <td>-149.859289</td>\n",
       "      <td>AK</td>\n",
       "    </tr>\n",
       "    <tr>\n",
       "      <th>...</th>\n",
       "      <td>...</td>\n",
       "      <td>...</td>\n",
       "      <td>...</td>\n",
       "      <td>...</td>\n",
       "      <td>...</td>\n",
       "    </tr>\n",
       "    <tr>\n",
       "      <th>51</th>\n",
       "      <td>POLYGON ((-147.59549 64.84179, -147.59552 64.8...</td>\n",
       "      <td>26225.540089</td>\n",
       "      <td>64.841864</td>\n",
       "      <td>-147.597411</td>\n",
       "      <td>AK</td>\n",
       "    </tr>\n",
       "    <tr>\n",
       "      <th>52</th>\n",
       "      <td>POLYGON ((-147.70954 64.85235, -147.70957 64.8...</td>\n",
       "      <td>26225.540089</td>\n",
       "      <td>64.852431</td>\n",
       "      <td>-147.711459</td>\n",
       "      <td>AK</td>\n",
       "    </tr>\n",
       "    <tr>\n",
       "      <th>53</th>\n",
       "      <td>POLYGON ((-147.71087 64.85473, -147.71090 64.8...</td>\n",
       "      <td>26225.540089</td>\n",
       "      <td>64.854810</td>\n",
       "      <td>-147.712794</td>\n",
       "      <td>AK</td>\n",
       "    </tr>\n",
       "    <tr>\n",
       "      <th>54</th>\n",
       "      <td>POLYGON ((-147.69537 64.85932, -147.69540 64.8...</td>\n",
       "      <td>26225.540089</td>\n",
       "      <td>64.859394</td>\n",
       "      <td>-147.697289</td>\n",
       "      <td>AK</td>\n",
       "    </tr>\n",
       "  </tbody>\n",
       "</table>\n",
       "<p>55 rows × 5 columns</p>\n",
       "</div>"
      ],
      "text/plain": [
       "                                             geometry          area  \\\n",
       "0   POLYGON ((-149.89702 61.19446, -149.89703 61.1...  75491.712896   \n",
       "1   POLYGON ((-147.35162 64.75586, -147.35163 64.7...  74196.359521   \n",
       "2   POLYGON ((-149.94908 61.13706, -149.94909 61.1...  52442.216463   \n",
       "3   POLYGON ((-149.85627 61.10826, -149.85628 61.1...  51412.231065   \n",
       "..                                                ...           ...   \n",
       "51  POLYGON ((-147.59549 64.84179, -147.59552 64.8...  26225.540089   \n",
       "52  POLYGON ((-147.70954 64.85235, -147.70957 64.8...  26225.540089   \n",
       "53  POLYGON ((-147.71087 64.85473, -147.71090 64.8...  26225.540089   \n",
       "54  POLYGON ((-147.69537 64.85932, -147.69540 64.8...  26225.540089   \n",
       "\n",
       "     seed_LAT    seed_LON STATE  \n",
       "0   61.194998 -149.898348    AK  \n",
       "1   64.756624 -147.351577    AK  \n",
       "2   61.137901 -149.951158    AK  \n",
       "3   61.108676 -149.859289    AK  \n",
       "..        ...         ...   ...  \n",
       "51  64.841864 -147.597411    AK  \n",
       "52  64.852431 -147.711459    AK  \n",
       "53  64.854810 -147.712794    AK  \n",
       "54  64.859394 -147.697289    AK  \n",
       "\n",
       "[55 rows x 5 columns]"
      ]
     },
     "execution_count": 83,
     "metadata": {},
     "output_type": "execute_result"
    }
   ],
   "source": [
    "unions_AK"
   ]
  },
  {
   "cell_type": "markdown",
   "metadata": {},
   "source": [
    "## End of seedpt for alaska. Below is just verifying ring size"
   ]
  },
  {
   "cell_type": "code",
   "execution_count": 84,
   "metadata": {},
   "outputs": [],
   "source": [
    "## Use Geodesic to verify the length of the circles radii is correct. Geodesic takes inputs in global lat/long format\n",
    "## so, convert back to EPSG:4326\n",
    "\n",
    "rt_dt_tbl_AK[\"geometry\"] = rt_dt_tbl_AK[\"geometry\"].to_crs(crs = \"EPSG:4326\")\n",
    "\n",
    "rt_dt_tbl_AK[\"buff_pt\"] = rt_dt_tbl_AK[\"buff_pt\"].to_crs(crs = \"EPSG:4326\")\n",
    "\n",
    "rt_dt_tbl_AK = rt_dt_tbl_AK.to_crs(\"EPSG:4326\")"
   ]
  },
  {
   "cell_type": "code",
   "execution_count": 85,
   "metadata": {},
   "outputs": [],
   "source": [
    "## Calculating distance b/t all points & their respective border of their spherse (radii)\n",
    "rt_dt_tbl_AK[\"buffer_dist\"] = rt_dt_tbl_AK.apply(lambda row: geodesic((row[\"buff_pt\"].exterior.coords[0][1],row[\"buff_pt\"].exterior.coords[0][0]),(row[\"geometry\"].y,row[\"geometry\"].x)).feet, axis=1)"
   ]
  },
  {
   "cell_type": "code",
   "execution_count": 86,
   "metadata": {},
   "outputs": [
    {
     "name": "stdout",
     "output_type": "stream",
     "text": [
      "300.9156998836315\n"
     ]
    },
    {
     "data": {
      "text/plain": [
       "<AxesSubplot:ylabel='Frequency'>"
      ]
     },
     "execution_count": 86,
     "metadata": {},
     "output_type": "execute_result"
    },
    {
     "data": {
      "image/png": "[encoded data removed]",
      "text/plain": [
       "<Figure size 432x288 with 1 Axes>"
      ]
     },
     "metadata": {
      "needs_background": "light"
     },
     "output_type": "display_data"
    }
   ],
   "source": [
    "## Print the mean of the radii, and plot the histogram\n",
    "print(np.mean(rt_dt_tbl_AK[\"buffer_dist\"]))\n",
    "pd.Series(rt_dt_tbl_AK[\"buffer_dist\"]).plot.hist()\n",
    "\n",
    "#Range real nice. "
   ]
  },
  {
   "cell_type": "code",
   "execution_count": 87,
   "metadata": {},
   "outputs": [],
   "source": [
    "##Now that we verified our spheres, drop buffer distance\n",
    "rt_dt_tbl_AK = rt_dt_tbl_AK.drop(\"buffer_dist\", axis=1)"
   ]
  },
  {
   "cell_type": "code",
   "execution_count": 1342,
   "metadata": {},
   "outputs": [],
   "source": [
    "##Finally the cool part: Plotting all buffer regions and can see intersection as well as solo points!!!\n",
    "temp_plt = gpd.GeoDataFrame(rt_dt_tbl_AK[(rt_dt_tbl_AK[\"LATITUDE\"]!=0)],crs = \"EPSG:4326\", geometry = rt_dt_tbl_AK[(rt_dt_tbl_AK[\"LATITUDE\"]!=0)][\"buff_pt\"] )\n",
    "temp_plt = temp_plt.drop([\"LATITUDE\",\"LONGITUDE\",\"buff_pt\"], axis=1)\n",
    "\n",
    "#Incredible buffer regions. A++\n",
    "#map_5 = keplergl.KeplerGl(data={\"cfa\":temp_plt})\n",
    "#map_5"
   ]
  },
  {
   "cell_type": "code",
   "execution_count": 1343,
   "metadata": {},
   "outputs": [],
   "source": [
    "#rt_dt_tbl_AK"
   ]
  },
  {
   "cell_type": "markdown",
   "metadata": {},
   "source": [
    "# Hawaii"
   ]
  },
  {
   "cell_type": "code",
   "execution_count": 88,
   "metadata": {},
   "outputs": [
    {
     "data": {
      "text/html": [
       "<div>\n",
       "<style scoped>\n",
       "    .dataframe tbody tr th:only-of-type {\n",
       "        vertical-align: middle;\n",
       "    }\n",
       "\n",
       "    .dataframe tbody tr th {\n",
       "        vertical-align: top;\n",
       "    }\n",
       "\n",
       "    .dataframe thead th {\n",
       "        text-align: right;\n",
       "    }\n",
       "</style>\n",
       "<table border=\"1\" class=\"dataframe\">\n",
       "  <thead>\n",
       "    <tr style=\"text-align: right;\">\n",
       "      <th></th>\n",
       "      <th>STORE_NO</th>\n",
       "      <th>CHAIN</th>\n",
       "      <th>GEOSTATE</th>\n",
       "      <th>COUNTY</th>\n",
       "      <th>LATITUDE</th>\n",
       "      <th>LONGITUDE</th>\n",
       "      <th>geometry</th>\n",
       "    </tr>\n",
       "  </thead>\n",
       "  <tbody>\n",
       "    <tr>\n",
       "      <th>394</th>\n",
       "      <td>469324</td>\n",
       "      <td>Raising Cane's</td>\n",
       "      <td>HI</td>\n",
       "      <td>HONOLULU</td>\n",
       "      <td>21.451942</td>\n",
       "      <td>-158.005924</td>\n",
       "      <td>POINT (-158.00592 21.45194)</td>\n",
       "    </tr>\n",
       "    <tr>\n",
       "      <th>395</th>\n",
       "      <td>469323</td>\n",
       "      <td>Raising Cane's</td>\n",
       "      <td>HI</td>\n",
       "      <td>HONOLULU</td>\n",
       "      <td>21.283695</td>\n",
       "      <td>-157.709959</td>\n",
       "      <td>POINT (-157.70996 21.28370)</td>\n",
       "    </tr>\n",
       "    <tr>\n",
       "      <th>16236</th>\n",
       "      <td>103006</td>\n",
       "      <td>Burger King-TR</td>\n",
       "      <td>HI</td>\n",
       "      <td>HONOLULU</td>\n",
       "      <td>21.423096</td>\n",
       "      <td>-157.748710</td>\n",
       "      <td>POINT (-157.74871 21.42310)</td>\n",
       "    </tr>\n",
       "    <tr>\n",
       "      <th>16237</th>\n",
       "      <td>103010</td>\n",
       "      <td>Burger King-TR</td>\n",
       "      <td>HI</td>\n",
       "      <td>HAWAII</td>\n",
       "      <td>19.643587</td>\n",
       "      <td>-155.994874</td>\n",
       "      <td>POINT (-155.99487 19.64359)</td>\n",
       "    </tr>\n",
       "    <tr>\n",
       "      <th>...</th>\n",
       "      <td>...</td>\n",
       "      <td>...</td>\n",
       "      <td>...</td>\n",
       "      <td>...</td>\n",
       "      <td>...</td>\n",
       "      <td>...</td>\n",
       "      <td>...</td>\n",
       "    </tr>\n",
       "    <tr>\n",
       "      <th>60501</th>\n",
       "      <td>453318</td>\n",
       "      <td>McDonald's-TR</td>\n",
       "      <td>HI</td>\n",
       "      <td>HONOLULU</td>\n",
       "      <td>21.336444</td>\n",
       "      <td>-157.914218</td>\n",
       "      <td>POINT (-157.91422 21.33644)</td>\n",
       "    </tr>\n",
       "    <tr>\n",
       "      <th>62058</th>\n",
       "      <td>462583</td>\n",
       "      <td>KFC-TR</td>\n",
       "      <td>HI</td>\n",
       "      <td>HAWAII</td>\n",
       "      <td>19.641683</td>\n",
       "      <td>-155.996548</td>\n",
       "      <td>POINT (-155.99655 19.64168)</td>\n",
       "    </tr>\n",
       "    <tr>\n",
       "      <th>62582</th>\n",
       "      <td>465569</td>\n",
       "      <td>Wendy's</td>\n",
       "      <td>HI</td>\n",
       "      <td>HONOLULU</td>\n",
       "      <td>21.381849</td>\n",
       "      <td>-158.145677</td>\n",
       "      <td>POINT (-158.14568 21.38185)</td>\n",
       "    </tr>\n",
       "    <tr>\n",
       "      <th>62583</th>\n",
       "      <td>465570</td>\n",
       "      <td>Taco Bell-TR</td>\n",
       "      <td>HI</td>\n",
       "      <td>HONOLULU</td>\n",
       "      <td>21.381849</td>\n",
       "      <td>-158.145677</td>\n",
       "      <td>POINT (-158.14568 21.38185)</td>\n",
       "    </tr>\n",
       "  </tbody>\n",
       "</table>\n",
       "<p>149 rows × 7 columns</p>\n",
       "</div>"
      ],
      "text/plain": [
       "       STORE_NO           CHAIN GEOSTATE    COUNTY   LATITUDE   LONGITUDE  \\\n",
       "394      469324  Raising Cane's       HI  HONOLULU  21.451942 -158.005924   \n",
       "395      469323  Raising Cane's       HI  HONOLULU  21.283695 -157.709959   \n",
       "16236    103006  Burger King-TR       HI  HONOLULU  21.423096 -157.748710   \n",
       "16237    103010  Burger King-TR       HI    HAWAII  19.643587 -155.994874   \n",
       "...         ...             ...      ...       ...        ...         ...   \n",
       "60501    453318   McDonald's-TR       HI  HONOLULU  21.336444 -157.914218   \n",
       "62058    462583          KFC-TR       HI    HAWAII  19.641683 -155.996548   \n",
       "62582    465569         Wendy's       HI  HONOLULU  21.381849 -158.145677   \n",
       "62583    465570    Taco Bell-TR       HI  HONOLULU  21.381849 -158.145677   \n",
       "\n",
       "                          geometry  \n",
       "394    POINT (-158.00592 21.45194)  \n",
       "395    POINT (-157.70996 21.28370)  \n",
       "16236  POINT (-157.74871 21.42310)  \n",
       "16237  POINT (-155.99487 19.64359)  \n",
       "...                            ...  \n",
       "60501  POINT (-157.91422 21.33644)  \n",
       "62058  POINT (-155.99655 19.64168)  \n",
       "62582  POINT (-158.14568 21.38185)  \n",
       "62583  POINT (-158.14568 21.38185)  \n",
       "\n",
       "[149 rows x 7 columns]"
      ]
     },
     "execution_count": 88,
     "metadata": {},
     "output_type": "execute_result"
    }
   ],
   "source": [
    "rt_dt_tbl_HI"
   ]
  },
  {
   "cell_type": "code",
   "execution_count": 89,
   "metadata": {},
   "outputs": [
    {
     "name": "stdout",
     "output_type": "stream",
     "text": [
      "19.504077 21.981039000000003\n",
      "-159.386372 -154.954738\n"
     ]
    }
   ],
   "source": [
    "## When I select specific regions looking at max/min lat long\n",
    "print(rt_dt_tbl_HI[\"LATITUDE\"].min(),rt_dt_tbl_HI[\"LATITUDE\"].max())\n",
    "print(rt_dt_tbl_HI[\"LONGITUDE\"].min(),rt_dt_tbl_HI[\"LONGITUDE\"].max())"
   ]
  },
  {
   "cell_type": "code",
   "execution_count": 90,
   "metadata": {},
   "outputs": [
    {
     "data": {
      "text/plain": [
       "<Geographic 2D CRS: EPSG:4326>\n",
       "Name: WGS 84\n",
       "Axis Info [ellipsoidal]:\n",
       "- Lat[north]: Geodetic latitude (degree)\n",
       "- Lon[east]: Geodetic longitude (degree)\n",
       "Area of Use:\n",
       "- name: World.\n",
       "- bounds: (-180.0, -90.0, 180.0, 90.0)\n",
       "Datum: World Geodetic System 1984\n",
       "- Ellipsoid: WGS 84\n",
       "- Prime Meridian: Greenwich"
      ]
     },
     "execution_count": 90,
     "metadata": {},
     "output_type": "execute_result"
    }
   ],
   "source": [
    "## verify projection is in world lat/long\n",
    "rt_dt_tbl_HI.crs"
   ]
  },
  {
   "cell_type": "code",
   "execution_count": 91,
   "metadata": {},
   "outputs": [
    {
     "data": {
      "text/plain": [
       "<AxesSubplot:>"
      ]
     },
     "execution_count": 91,
     "metadata": {},
     "output_type": "execute_result"
    },
    {
     "data": {
      "image/png": "[encoded data removed]",
      "text/plain": [
       "<Figure size 432x288 with 1 Axes>"
      ]
     },
     "metadata": {
      "needs_background": "light"
     },
     "output_type": "display_data"
    }
   ],
   "source": [
    "## Verifying we are only in beautiful Hawaii!\n",
    "rt_dt_tbl_HI.plot()"
   ]
  },
  {
   "cell_type": "code",
   "execution_count": 92,
   "metadata": {},
   "outputs": [],
   "source": [
    "## THIS IS WHERE WE SHALL CHANGE THE PROJECTION\n",
    "## The projection I chose for HI is ESRI:102007, Hawaii_Albers_Equal_Area_Conic\n",
    "\n",
    "cr_to = CRS.from_user_input(\"ESRI:102007\")\n",
    "rt_dt_tbl_HI = rt_dt_tbl_HI.to_crs(cr_to)"
   ]
  },
  {
   "cell_type": "code",
   "execution_count": 93,
   "metadata": {},
   "outputs": [
    {
     "data": {
      "text/plain": [
       "<Projected CRS: ESRI:102007>\n",
       "Name: Hawaii_Albers_Equal_Area_Conic\n",
       "Axis Info [cartesian]:\n",
       "- E[east]: Easting (metre)\n",
       "- N[north]: Northing (metre)\n",
       "Area of Use:\n",
       "- name: United States (USA) - Hawaii - main islands onshore.\n",
       "- bounds: (-160.3, 18.87, -154.74, 22.29)\n",
       "Coordinate Operation:\n",
       "- name: Hawaii_Albers_Equal_Area_Conic\n",
       "- method: Albers Equal Area\n",
       "Datum: North American Datum 1983\n",
       "- Ellipsoid: GRS 1980\n",
       "- Prime Meridian: Greenwich"
      ]
     },
     "execution_count": 93,
     "metadata": {},
     "output_type": "execute_result"
    }
   ],
   "source": [
    "##Verify our map projection was changed\n",
    "rt_dt_tbl_HI.crs"
   ]
  },
  {
   "cell_type": "code",
   "execution_count": 94,
   "metadata": {},
   "outputs": [],
   "source": [
    "## Make sure CRS is consistent (ESRI:102007). Note input distance 91.44 meters\n",
    "\n",
    "rt_dt_tbl_HI[\"buff_pt\"] = (rt_dt_tbl_HI[\"geometry\"].to_crs(crs = \"ESRI:102007\")).buffer(distance = 92.1)"
   ]
  },
  {
   "cell_type": "code",
   "execution_count": 95,
   "metadata": {},
   "outputs": [
    {
     "data": {
      "text/plain": [
       "<Projected CRS: ESRI:102007>\n",
       "Name: Hawaii_Albers_Equal_Area_Conic\n",
       "Axis Info [cartesian]:\n",
       "- E[east]: Easting (metre)\n",
       "- N[north]: Northing (metre)\n",
       "Area of Use:\n",
       "- name: United States (USA) - Hawaii - main islands onshore.\n",
       "- bounds: (-160.3, 18.87, -154.74, 22.29)\n",
       "Coordinate Operation:\n",
       "- name: Hawaii_Albers_Equal_Area_Conic\n",
       "- method: Albers Equal Area\n",
       "Datum: North American Datum 1983\n",
       "- Ellipsoid: GRS 1980\n",
       "- Prime Meridian: Greenwich"
      ]
     },
     "execution_count": 95,
     "metadata": {},
     "output_type": "execute_result"
    }
   ],
   "source": [
    "## Verify crs was maintained among buffer points\n",
    "rt_dt_tbl_HI[\"buff_pt\"].crs"
   ]
  },
  {
   "cell_type": "markdown",
   "metadata": {},
   "source": [
    "## begin seed points"
   ]
  },
  {
   "cell_type": "code",
   "execution_count": 96,
   "metadata": {},
   "outputs": [
    {
     "data": {
      "text/html": [
       "<div>\n",
       "<style scoped>\n",
       "    .dataframe tbody tr th:only-of-type {\n",
       "        vertical-align: middle;\n",
       "    }\n",
       "\n",
       "    .dataframe tbody tr th {\n",
       "        vertical-align: top;\n",
       "    }\n",
       "\n",
       "    .dataframe thead th {\n",
       "        text-align: right;\n",
       "    }\n",
       "</style>\n",
       "<table border=\"1\" class=\"dataframe\">\n",
       "  <thead>\n",
       "    <tr style=\"text-align: right;\">\n",
       "      <th></th>\n",
       "      <th>geometry</th>\n",
       "      <th>area</th>\n",
       "    </tr>\n",
       "  </thead>\n",
       "  <tbody>\n",
       "    <tr>\n",
       "      <th>0</th>\n",
       "      <td>POLYGON ((-112609.252 923220.607, -112609.695 ...</td>\n",
       "      <td>81159.623537</td>\n",
       "    </tr>\n",
       "    <tr>\n",
       "      <th>1</th>\n",
       "      <td>POLYGON ((105650.679 736349.656, 105650.235 73...</td>\n",
       "      <td>77007.121212</td>\n",
       "    </tr>\n",
       "    <tr>\n",
       "      <th>2</th>\n",
       "      <td>POLYGON ((-107300.592 940368.232, -107301.036 ...</td>\n",
       "      <td>76498.269817</td>\n",
       "    </tr>\n",
       "    <tr>\n",
       "      <th>3</th>\n",
       "      <td>POLYGON ((-101707.221 929976.413, -101708.207 ...</td>\n",
       "      <td>60054.998102</td>\n",
       "    </tr>\n",
       "    <tr>\n",
       "      <th>...</th>\n",
       "      <td>...</td>\n",
       "      <td>...</td>\n",
       "    </tr>\n",
       "    <tr>\n",
       "      <th>109</th>\n",
       "      <td>POLYGON ((203418.599 742764.440, 203418.156 74...</td>\n",
       "      <td>26605.490282</td>\n",
       "    </tr>\n",
       "    <tr>\n",
       "      <th>110</th>\n",
       "      <td>POLYGON ((203471.077 742264.456, 203470.634 74...</td>\n",
       "      <td>26605.490282</td>\n",
       "    </tr>\n",
       "    <tr>\n",
       "      <th>111</th>\n",
       "      <td>POLYGON ((206367.111 734766.117, 206366.668 73...</td>\n",
       "      <td>26605.490282</td>\n",
       "    </tr>\n",
       "    <tr>\n",
       "      <th>112</th>\n",
       "      <td>POLYGON ((-246599.649 994805.658, -246600.092 ...</td>\n",
       "      <td>26605.490282</td>\n",
       "    </tr>\n",
       "  </tbody>\n",
       "</table>\n",
       "<p>113 rows × 2 columns</p>\n",
       "</div>"
      ],
      "text/plain": [
       "                                              geometry          area\n",
       "0    POLYGON ((-112609.252 923220.607, -112609.695 ...  81159.623537\n",
       "1    POLYGON ((105650.679 736349.656, 105650.235 73...  77007.121212\n",
       "2    POLYGON ((-107300.592 940368.232, -107301.036 ...  76498.269817\n",
       "3    POLYGON ((-101707.221 929976.413, -101708.207 ...  60054.998102\n",
       "..                                                 ...           ...\n",
       "109  POLYGON ((203418.599 742764.440, 203418.156 74...  26605.490282\n",
       "110  POLYGON ((203471.077 742264.456, 203470.634 74...  26605.490282\n",
       "111  POLYGON ((206367.111 734766.117, 206366.668 73...  26605.490282\n",
       "112  POLYGON ((-246599.649 994805.658, -246600.092 ...  26605.490282\n",
       "\n",
       "[113 rows x 2 columns]"
      ]
     },
     "execution_count": 96,
     "metadata": {},
     "output_type": "execute_result"
    }
   ],
   "source": [
    "## Create a geopandas dataframe from the unions\n",
    "unions_HI = gpd.GeoDataFrame(rt_dt_tbl_HI[\"buff_pt\"].unary_union, geometry=0)\n",
    "## Set the CRS\n",
    "unions_HI = unions_HI.set_crs(crs = \"ESRI:102007\")\n",
    "unions_HI.columns = [\"geometry\"]\n",
    "\n",
    "\n",
    "## Create area columns & sort by area\n",
    "unions_HI[\"area\"] = unions_HI[\"geometry\"].area\n",
    "unions_HI = unions_HI.sort_values(by=\"area\", ascending=False).reset_index(drop=True)\n",
    "\n",
    "unions_HI"
   ]
  },
  {
   "cell_type": "code",
   "execution_count": 97,
   "metadata": {},
   "outputs": [],
   "source": [
    "unions_HI[\"seed_LAT\"] = unions_HI[\"geometry\"].centroid.to_crs(\"EPSG:4326\").y\n",
    "unions_HI[\"seed_LON\"] = unions_HI[\"geometry\"].centroid.to_crs(\"EPSG:4326\").x\n",
    "unions_HI[\"STATE\"] = \"HI\""
   ]
  },
  {
   "cell_type": "code",
   "execution_count": 99,
   "metadata": {},
   "outputs": [],
   "source": [
    "##Finally the cool part: Plotting all intersected buffers,their centroids (seed points), and the restaurants!!!\n",
    "unions_HI[\"geometry\"] = unions_HI[\"geometry\"].to_crs(\"EPSG:4326\")\n",
    "\n",
    "temp_plt = gpd.GeoDataFrame(copy.deepcopy(unions_HI))\n",
    "\n",
    "##SEED POINTS!!!!!!\n",
    "#map_5 = keplergl.KeplerGl(data={\"cfa\":temp_plt, \"pts\":rt_dt_tbl_HI[[\"LATITUDE\",\"LONGITUDE\"]]})\n",
    "#map_5"
   ]
  },
  {
   "cell_type": "code",
   "execution_count": 100,
   "metadata": {},
   "outputs": [
    {
     "data": {
      "text/html": [
       "<div>\n",
       "<style scoped>\n",
       "    .dataframe tbody tr th:only-of-type {\n",
       "        vertical-align: middle;\n",
       "    }\n",
       "\n",
       "    .dataframe tbody tr th {\n",
       "        vertical-align: top;\n",
       "    }\n",
       "\n",
       "    .dataframe thead th {\n",
       "        text-align: right;\n",
       "    }\n",
       "</style>\n",
       "<table border=\"1\" class=\"dataframe\">\n",
       "  <thead>\n",
       "    <tr style=\"text-align: right;\">\n",
       "      <th></th>\n",
       "      <th>geometry</th>\n",
       "      <th>area</th>\n",
       "      <th>seed_LAT</th>\n",
       "      <th>seed_LON</th>\n",
       "      <th>STATE</th>\n",
       "    </tr>\n",
       "  </thead>\n",
       "  <tbody>\n",
       "    <tr>\n",
       "      <th>0</th>\n",
       "      <td>POLYGON ((-158.07798 21.33765, -158.07798 21.3...</td>\n",
       "      <td>81159.623537</td>\n",
       "      <td>21.338832</td>\n",
       "      <td>-158.078048</td>\n",
       "      <td>HI</td>\n",
       "    </tr>\n",
       "    <tr>\n",
       "      <th>1</th>\n",
       "      <td>POLYGON ((-155.99567 19.64168, -155.99568 19.6...</td>\n",
       "      <td>77007.121212</td>\n",
       "      <td>19.642812</td>\n",
       "      <td>-155.995902</td>\n",
       "      <td>HI</td>\n",
       "    </tr>\n",
       "    <tr>\n",
       "      <th>2</th>\n",
       "      <td>POLYGON ((-158.02782 21.49384, -158.02782 21.4...</td>\n",
       "      <td>76498.269817</td>\n",
       "      <td>21.494900</td>\n",
       "      <td>-158.029112</td>\n",
       "      <td>HI</td>\n",
       "    </tr>\n",
       "    <tr>\n",
       "      <th>3</th>\n",
       "      <td>POLYGON ((-157.97386 21.39950, -157.97387 21.3...</td>\n",
       "      <td>60054.998102</td>\n",
       "      <td>21.399950</td>\n",
       "      <td>-157.973922</td>\n",
       "      <td>HI</td>\n",
       "    </tr>\n",
       "    <tr>\n",
       "      <th>...</th>\n",
       "      <td>...</td>\n",
       "      <td>...</td>\n",
       "      <td>...</td>\n",
       "      <td>...</td>\n",
       "      <td>...</td>\n",
       "    </tr>\n",
       "    <tr>\n",
       "      <th>109</th>\n",
       "      <td>POLYGON ((-155.06584 19.69471, -155.06585 19.6...</td>\n",
       "      <td>26605.490282</td>\n",
       "      <td>19.694718</td>\n",
       "      <td>-155.066716</td>\n",
       "      <td>HI</td>\n",
       "    </tr>\n",
       "    <tr>\n",
       "      <th>110</th>\n",
       "      <td>POLYGON ((-155.06538 19.69018, -155.06538 19.6...</td>\n",
       "      <td>26605.490282</td>\n",
       "      <td>19.690184</td>\n",
       "      <td>-155.066253</td>\n",
       "      <td>HI</td>\n",
       "    </tr>\n",
       "    <tr>\n",
       "      <th>111</th>\n",
       "      <td>POLYGON ((-155.03839 19.62204, -155.03839 19.6...</td>\n",
       "      <td>26605.490282</td>\n",
       "      <td>19.622046</td>\n",
       "      <td>-155.039265</td>\n",
       "      <td>HI</td>\n",
       "    </tr>\n",
       "    <tr>\n",
       "      <th>112</th>\n",
       "      <td>POLYGON ((-159.36691 21.98105, -159.36692 21.9...</td>\n",
       "      <td>26605.490282</td>\n",
       "      <td>21.981039</td>\n",
       "      <td>-159.367797</td>\n",
       "      <td>HI</td>\n",
       "    </tr>\n",
       "  </tbody>\n",
       "</table>\n",
       "<p>113 rows × 5 columns</p>\n",
       "</div>"
      ],
      "text/plain": [
       "                                              geometry          area  \\\n",
       "0    POLYGON ((-158.07798 21.33765, -158.07798 21.3...  81159.623537   \n",
       "1    POLYGON ((-155.99567 19.64168, -155.99568 19.6...  77007.121212   \n",
       "2    POLYGON ((-158.02782 21.49384, -158.02782 21.4...  76498.269817   \n",
       "3    POLYGON ((-157.97386 21.39950, -157.97387 21.3...  60054.998102   \n",
       "..                                                 ...           ...   \n",
       "109  POLYGON ((-155.06584 19.69471, -155.06585 19.6...  26605.490282   \n",
       "110  POLYGON ((-155.06538 19.69018, -155.06538 19.6...  26605.490282   \n",
       "111  POLYGON ((-155.03839 19.62204, -155.03839 19.6...  26605.490282   \n",
       "112  POLYGON ((-159.36691 21.98105, -159.36692 21.9...  26605.490282   \n",
       "\n",
       "      seed_LAT    seed_LON STATE  \n",
       "0    21.338832 -158.078048    HI  \n",
       "1    19.642812 -155.995902    HI  \n",
       "2    21.494900 -158.029112    HI  \n",
       "3    21.399950 -157.973922    HI  \n",
       "..         ...         ...   ...  \n",
       "109  19.694718 -155.066716    HI  \n",
       "110  19.690184 -155.066253    HI  \n",
       "111  19.622046 -155.039265    HI  \n",
       "112  21.981039 -159.367797    HI  \n",
       "\n",
       "[113 rows x 5 columns]"
      ]
     },
     "execution_count": 100,
     "metadata": {},
     "output_type": "execute_result"
    }
   ],
   "source": [
    "unions_HI"
   ]
  },
  {
   "cell_type": "markdown",
   "metadata": {},
   "source": [
    "## End seed pt below is verifying ring size"
   ]
  },
  {
   "cell_type": "code",
   "execution_count": 101,
   "metadata": {},
   "outputs": [],
   "source": [
    "## Use Geodesic to verify the length of the circles radii is correct. Geodesic takes inputs in global lat/long format\n",
    "## so, convert back to EPSG:4326\n",
    "\n",
    "rt_dt_tbl_HI[\"geometry\"] = rt_dt_tbl_HI[\"geometry\"].to_crs(crs = \"EPSG:4326\")\n",
    "\n",
    "rt_dt_tbl_HI[\"buff_pt\"] = rt_dt_tbl_HI[\"buff_pt\"].to_crs(crs = \"EPSG:4326\")\n",
    "\n",
    "rt_dt_tbl_HI = rt_dt_tbl_HI.to_crs(\"EPSG:4326\")"
   ]
  },
  {
   "cell_type": "code",
   "execution_count": 102,
   "metadata": {},
   "outputs": [],
   "source": [
    "## Calculating distance b/t all points & their respective border of their spherse (radii)\n",
    "rt_dt_tbl_HI[\"buffer_dist\"] = rt_dt_tbl_HI.apply(lambda row: geodesic((row[\"buff_pt\"].exterior.coords[0][1],row[\"buff_pt\"].exterior.coords[0][0]),(row[\"geometry\"].y,row[\"geometry\"].x)).feet, axis=1)"
   ]
  },
  {
   "cell_type": "code",
   "execution_count": 103,
   "metadata": {},
   "outputs": [
    {
     "name": "stdout",
     "output_type": "stream",
     "text": [
      "300.2054638447435\n"
     ]
    },
    {
     "data": {
      "text/plain": [
       "<AxesSubplot:ylabel='Frequency'>"
      ]
     },
     "execution_count": 103,
     "metadata": {},
     "output_type": "execute_result"
    },
    {
     "data": {
      "image/png": "[encoded data removed]",
      "text/plain": [
       "<Figure size 432x288 with 1 Axes>"
      ]
     },
     "metadata": {
      "needs_background": "light"
     },
     "output_type": "display_data"
    }
   ],
   "source": [
    "## Print the mean of the radii, and plot the histogram\n",
    "print(np.mean(rt_dt_tbl_HI[\"buffer_dist\"]))\n",
    "pd.Series(rt_dt_tbl_HI[\"buffer_dist\"]).plot.hist()\n",
    "\n",
    "#Range real nice, a little wider than AK, but more rows spread across a further horizon "
   ]
  },
  {
   "cell_type": "code",
   "execution_count": 104,
   "metadata": {},
   "outputs": [],
   "source": [
    "##Now that we verified our spheres, drop buffer distance\n",
    "rt_dt_tbl_HI = rt_dt_tbl_HI.drop(\"buffer_dist\", axis=1)"
   ]
  },
  {
   "cell_type": "code",
   "execution_count": 105,
   "metadata": {},
   "outputs": [],
   "source": [
    "##Finally the cool part: Plotting all buffer regions and can see intersection as well as solo points!!!\n",
    "temp_plt = gpd.GeoDataFrame(rt_dt_tbl_HI[(rt_dt_tbl_HI[\"LATITUDE\"]!=0)],crs = \"EPSG:4326\", geometry = rt_dt_tbl_HI[(rt_dt_tbl_HI[\"LATITUDE\"]!=0)][\"buff_pt\"] )\n",
    "temp_plt = temp_plt.drop([\"LATITUDE\",\"LONGITUDE\",\"buff_pt\"], axis=1)\n",
    "\n",
    "#Incredible buffer regions. A++\n",
    "#map_5 = keplergl.KeplerGl(data={\"cfa\":temp_plt})\n",
    "#map_5"
   ]
  },
  {
   "cell_type": "code",
   "execution_count": 106,
   "metadata": {},
   "outputs": [
    {
     "data": {
      "text/html": [
       "<div>\n",
       "<style scoped>\n",
       "    .dataframe tbody tr th:only-of-type {\n",
       "        vertical-align: middle;\n",
       "    }\n",
       "\n",
       "    .dataframe tbody tr th {\n",
       "        vertical-align: top;\n",
       "    }\n",
       "\n",
       "    .dataframe thead th {\n",
       "        text-align: right;\n",
       "    }\n",
       "</style>\n",
       "<table border=\"1\" class=\"dataframe\">\n",
       "  <thead>\n",
       "    <tr style=\"text-align: right;\">\n",
       "      <th></th>\n",
       "      <th>STORE_NO</th>\n",
       "      <th>CHAIN</th>\n",
       "      <th>GEOSTATE</th>\n",
       "      <th>COUNTY</th>\n",
       "      <th>LATITUDE</th>\n",
       "      <th>LONGITUDE</th>\n",
       "      <th>geometry</th>\n",
       "      <th>buff_pt</th>\n",
       "    </tr>\n",
       "  </thead>\n",
       "  <tbody>\n",
       "    <tr>\n",
       "      <th>394</th>\n",
       "      <td>469324</td>\n",
       "      <td>Raising Cane's</td>\n",
       "      <td>HI</td>\n",
       "      <td>HONOLULU</td>\n",
       "      <td>21.451942</td>\n",
       "      <td>-158.005924</td>\n",
       "      <td>POINT (-158.00592 21.45194)</td>\n",
       "      <td>POLYGON ((-158.00504 21.45195, -158.00505 21.4...</td>\n",
       "    </tr>\n",
       "    <tr>\n",
       "      <th>395</th>\n",
       "      <td>469323</td>\n",
       "      <td>Raising Cane's</td>\n",
       "      <td>HI</td>\n",
       "      <td>HONOLULU</td>\n",
       "      <td>21.283695</td>\n",
       "      <td>-157.709959</td>\n",
       "      <td>POINT (-157.70996 21.28369)</td>\n",
       "      <td>POLYGON ((-157.70908 21.28370, -157.70908 21.2...</td>\n",
       "    </tr>\n",
       "    <tr>\n",
       "      <th>16236</th>\n",
       "      <td>103006</td>\n",
       "      <td>Burger King-TR</td>\n",
       "      <td>HI</td>\n",
       "      <td>HONOLULU</td>\n",
       "      <td>21.423096</td>\n",
       "      <td>-157.748710</td>\n",
       "      <td>POINT (-157.74871 21.42310)</td>\n",
       "      <td>POLYGON ((-157.74783 21.42310, -157.74783 21.4...</td>\n",
       "    </tr>\n",
       "    <tr>\n",
       "      <th>16237</th>\n",
       "      <td>103010</td>\n",
       "      <td>Burger King-TR</td>\n",
       "      <td>HI</td>\n",
       "      <td>HAWAII</td>\n",
       "      <td>19.643587</td>\n",
       "      <td>-155.994874</td>\n",
       "      <td>POINT (-155.99487 19.64359)</td>\n",
       "      <td>POLYGON ((-155.99400 19.64358, -155.99400 19.6...</td>\n",
       "    </tr>\n",
       "    <tr>\n",
       "      <th>...</th>\n",
       "      <td>...</td>\n",
       "      <td>...</td>\n",
       "      <td>...</td>\n",
       "      <td>...</td>\n",
       "      <td>...</td>\n",
       "      <td>...</td>\n",
       "      <td>...</td>\n",
       "      <td>...</td>\n",
       "    </tr>\n",
       "    <tr>\n",
       "      <th>60501</th>\n",
       "      <td>453318</td>\n",
       "      <td>McDonald's-TR</td>\n",
       "      <td>HI</td>\n",
       "      <td>HONOLULU</td>\n",
       "      <td>21.336444</td>\n",
       "      <td>-157.914218</td>\n",
       "      <td>POINT (-157.91422 21.33644)</td>\n",
       "      <td>POLYGON ((-157.91334 21.33645, -157.91334 21.3...</td>\n",
       "    </tr>\n",
       "    <tr>\n",
       "      <th>62058</th>\n",
       "      <td>462583</td>\n",
       "      <td>KFC-TR</td>\n",
       "      <td>HI</td>\n",
       "      <td>HAWAII</td>\n",
       "      <td>19.641683</td>\n",
       "      <td>-155.996548</td>\n",
       "      <td>POINT (-155.99655 19.64168)</td>\n",
       "      <td>POLYGON ((-155.99567 19.64168, -155.99568 19.6...</td>\n",
       "    </tr>\n",
       "    <tr>\n",
       "      <th>62582</th>\n",
       "      <td>465569</td>\n",
       "      <td>Wendy's</td>\n",
       "      <td>HI</td>\n",
       "      <td>HONOLULU</td>\n",
       "      <td>21.381849</td>\n",
       "      <td>-158.145677</td>\n",
       "      <td>POINT (-158.14568 21.38185)</td>\n",
       "      <td>POLYGON ((-158.14480 21.38185, -158.14480 21.3...</td>\n",
       "    </tr>\n",
       "    <tr>\n",
       "      <th>62583</th>\n",
       "      <td>465570</td>\n",
       "      <td>Taco Bell-TR</td>\n",
       "      <td>HI</td>\n",
       "      <td>HONOLULU</td>\n",
       "      <td>21.381849</td>\n",
       "      <td>-158.145677</td>\n",
       "      <td>POINT (-158.14568 21.38185)</td>\n",
       "      <td>POLYGON ((-158.14480 21.38185, -158.14480 21.3...</td>\n",
       "    </tr>\n",
       "  </tbody>\n",
       "</table>\n",
       "<p>149 rows × 8 columns</p>\n",
       "</div>"
      ],
      "text/plain": [
       "       STORE_NO           CHAIN GEOSTATE    COUNTY   LATITUDE   LONGITUDE  \\\n",
       "394      469324  Raising Cane's       HI  HONOLULU  21.451942 -158.005924   \n",
       "395      469323  Raising Cane's       HI  HONOLULU  21.283695 -157.709959   \n",
       "16236    103006  Burger King-TR       HI  HONOLULU  21.423096 -157.748710   \n",
       "16237    103010  Burger King-TR       HI    HAWAII  19.643587 -155.994874   \n",
       "...         ...             ...      ...       ...        ...         ...   \n",
       "60501    453318   McDonald's-TR       HI  HONOLULU  21.336444 -157.914218   \n",
       "62058    462583          KFC-TR       HI    HAWAII  19.641683 -155.996548   \n",
       "62582    465569         Wendy's       HI  HONOLULU  21.381849 -158.145677   \n",
       "62583    465570    Taco Bell-TR       HI  HONOLULU  21.381849 -158.145677   \n",
       "\n",
       "                          geometry  \\\n",
       "394    POINT (-158.00592 21.45194)   \n",
       "395    POINT (-157.70996 21.28369)   \n",
       "16236  POINT (-157.74871 21.42310)   \n",
       "16237  POINT (-155.99487 19.64359)   \n",
       "...                            ...   \n",
       "60501  POINT (-157.91422 21.33644)   \n",
       "62058  POINT (-155.99655 19.64168)   \n",
       "62582  POINT (-158.14568 21.38185)   \n",
       "62583  POINT (-158.14568 21.38185)   \n",
       "\n",
       "                                                 buff_pt  \n",
       "394    POLYGON ((-158.00504 21.45195, -158.00505 21.4...  \n",
       "395    POLYGON ((-157.70908 21.28370, -157.70908 21.2...  \n",
       "16236  POLYGON ((-157.74783 21.42310, -157.74783 21.4...  \n",
       "16237  POLYGON ((-155.99400 19.64358, -155.99400 19.6...  \n",
       "...                                                  ...  \n",
       "60501  POLYGON ((-157.91334 21.33645, -157.91334 21.3...  \n",
       "62058  POLYGON ((-155.99567 19.64168, -155.99568 19.6...  \n",
       "62582  POLYGON ((-158.14480 21.38185, -158.14480 21.3...  \n",
       "62583  POLYGON ((-158.14480 21.38185, -158.14480 21.3...  \n",
       "\n",
       "[149 rows x 8 columns]"
      ]
     },
     "execution_count": 106,
     "metadata": {},
     "output_type": "execute_result"
    }
   ],
   "source": [
    "rt_dt_tbl_HI"
   ]
  },
  {
   "cell_type": "markdown",
   "metadata": {},
   "source": [
    "# Now we have initial seed points!"
   ]
  },
  {
   "cell_type": "code",
   "execution_count": 117,
   "metadata": {},
   "outputs": [
    {
     "name": "stdout",
     "output_type": "stream",
     "text": [
      "Combining shaved off 18817 points, or 30.08% of all RT Drive-Thrus for Continental USA\n",
      "Combining shaved off 18 points, or 24.66% of all RT Drive-Thrus for Alaska\n",
      "Combining shaved off 36 points, or 24.16% of all RT Drive-Thrus for Hawaii\n"
     ]
    }
   ],
   "source": [
    "## Combining shaved \n",
    "print(f'Combining shaved off {len(rt_dt_tbl) - len(unions)} points, or {round(100*(len(rt_dt_tbl) - len(unions))/len(rt_dt_tbl),2)}% of all RT Drive-Thrus for Continental USA')\n",
    "print(f'Combining shaved off {len(rt_dt_tbl_AK) - len(unions_AK)} points, or {round(100*(len(rt_dt_tbl_AK) - len(unions_AK))/len(rt_dt_tbl_AK),2)}% of all RT Drive-Thrus for Alaska')\n",
    "print(f'Combining shaved off {len(rt_dt_tbl_HI) - len(unions_HI)} points, or {round(100*(len(rt_dt_tbl_HI) - len(unions_HI))/len(rt_dt_tbl_HI),2)}% of all RT Drive-Thrus for Hawaii')"
   ]
  },
  {
   "cell_type": "markdown",
   "metadata": {},
   "source": [
    "### So I do not forget. The geometry column is the various unions of the 300ft buffer rings, or the 300ft buffer ring by itself if there was no other buffer ring to union with. \n",
    "\n",
    "### The area is the area of the ring in meters squared (pi*pow(91.44m,2)). \n",
    "\n",
    "### Seed lat & long are the lat/long pairs of the centroids of the geometry (unions), which represent the seed points that have not yet passed the evaluation criterion (to come in the next notebook)\n",
    "\n",
    "### STATE is a placeholder in the event that I need to come back here & determine the seed points residing state. I see no reason as of now why I would need this info, especially bc the computation to get it is incredibly expensive & it can be gotten later."
   ]
  },
  {
   "cell_type": "code",
   "execution_count": 107,
   "metadata": {},
   "outputs": [
    {
     "data": {
      "text/html": [
       "<div>\n",
       "<style scoped>\n",
       "    .dataframe tbody tr th:only-of-type {\n",
       "        vertical-align: middle;\n",
       "    }\n",
       "\n",
       "    .dataframe tbody tr th {\n",
       "        vertical-align: top;\n",
       "    }\n",
       "\n",
       "    .dataframe thead th {\n",
       "        text-align: right;\n",
       "    }\n",
       "</style>\n",
       "<table border=\"1\" class=\"dataframe\">\n",
       "  <thead>\n",
       "    <tr style=\"text-align: right;\">\n",
       "      <th></th>\n",
       "      <th>geometry</th>\n",
       "      <th>area</th>\n",
       "      <th>seed_LAT</th>\n",
       "      <th>seed_LON</th>\n",
       "      <th>STATE</th>\n",
       "    </tr>\n",
       "  </thead>\n",
       "  <tbody>\n",
       "    <tr>\n",
       "      <th>0</th>\n",
       "      <td>POLYGON ((-83.94855 38.07321, -83.94856 38.073...</td>\n",
       "      <td>199653.082246</td>\n",
       "      <td>38.075029</td>\n",
       "      <td>-83.949671</td>\n",
       "      <td>CONT_US</td>\n",
       "    </tr>\n",
       "    <tr>\n",
       "      <th>1</th>\n",
       "      <td>POLYGON ((-111.96939 41.24347, -111.96938 41.2...</td>\n",
       "      <td>198739.095562</td>\n",
       "      <td>41.244639</td>\n",
       "      <td>-111.972855</td>\n",
       "      <td>CONT_US</td>\n",
       "    </tr>\n",
       "    <tr>\n",
       "      <th>2</th>\n",
       "      <td>POLYGON ((-117.08147 34.84804, -117.08146 34.8...</td>\n",
       "      <td>181049.745578</td>\n",
       "      <td>34.850887</td>\n",
       "      <td>-117.082879</td>\n",
       "      <td>CONT_US</td>\n",
       "    </tr>\n",
       "    <tr>\n",
       "      <th>3</th>\n",
       "      <td>POLYGON ((-84.53777 33.56779, -84.53779 33.567...</td>\n",
       "      <td>180358.265807</td>\n",
       "      <td>33.569272</td>\n",
       "      <td>-84.540125</td>\n",
       "      <td>CONT_US</td>\n",
       "    </tr>\n",
       "    <tr>\n",
       "      <th>...</th>\n",
       "      <td>...</td>\n",
       "      <td>...</td>\n",
       "      <td>...</td>\n",
       "      <td>...</td>\n",
       "      <td>...</td>\n",
       "    </tr>\n",
       "    <tr>\n",
       "      <th>43731</th>\n",
       "      <td>POLYGON ((-100.76116 41.12055, -100.76116 41.1...</td>\n",
       "      <td>26225.540089</td>\n",
       "      <td>41.120509</td>\n",
       "      <td>-100.762259</td>\n",
       "      <td>CONT_US</td>\n",
       "    </tr>\n",
       "    <tr>\n",
       "      <th>43732</th>\n",
       "      <td>POLYGON ((-91.03345 41.45171, -91.03346 41.451...</td>\n",
       "      <td>26225.540089</td>\n",
       "      <td>41.451754</td>\n",
       "      <td>-91.034547</td>\n",
       "      <td>CONT_US</td>\n",
       "    </tr>\n",
       "    <tr>\n",
       "      <th>43733</th>\n",
       "      <td>POLYGON ((-90.52747 41.57133, -90.52748 41.571...</td>\n",
       "      <td>26225.540089</td>\n",
       "      <td>41.571374</td>\n",
       "      <td>-90.528574</td>\n",
       "      <td>CONT_US</td>\n",
       "    </tr>\n",
       "    <tr>\n",
       "      <th>43734</th>\n",
       "      <td>POLYGON ((-92.86740 40.74396, -92.86741 40.743...</td>\n",
       "      <td>26225.540089</td>\n",
       "      <td>40.743982</td>\n",
       "      <td>-92.868494</td>\n",
       "      <td>CONT_US</td>\n",
       "    </tr>\n",
       "  </tbody>\n",
       "</table>\n",
       "<p>43735 rows × 5 columns</p>\n",
       "</div>"
      ],
      "text/plain": [
       "                                                geometry           area  \\\n",
       "0      POLYGON ((-83.94855 38.07321, -83.94856 38.073...  199653.082246   \n",
       "1      POLYGON ((-111.96939 41.24347, -111.96938 41.2...  198739.095562   \n",
       "2      POLYGON ((-117.08147 34.84804, -117.08146 34.8...  181049.745578   \n",
       "3      POLYGON ((-84.53777 33.56779, -84.53779 33.567...  180358.265807   \n",
       "...                                                  ...            ...   \n",
       "43731  POLYGON ((-100.76116 41.12055, -100.76116 41.1...   26225.540089   \n",
       "43732  POLYGON ((-91.03345 41.45171, -91.03346 41.451...   26225.540089   \n",
       "43733  POLYGON ((-90.52747 41.57133, -90.52748 41.571...   26225.540089   \n",
       "43734  POLYGON ((-92.86740 40.74396, -92.86741 40.743...   26225.540089   \n",
       "\n",
       "        seed_LAT    seed_LON    STATE  \n",
       "0      38.075029  -83.949671  CONT_US  \n",
       "1      41.244639 -111.972855  CONT_US  \n",
       "2      34.850887 -117.082879  CONT_US  \n",
       "3      33.569272  -84.540125  CONT_US  \n",
       "...          ...         ...      ...  \n",
       "43731  41.120509 -100.762259  CONT_US  \n",
       "43732  41.451754  -91.034547  CONT_US  \n",
       "43733  41.571374  -90.528574  CONT_US  \n",
       "43734  40.743982  -92.868494  CONT_US  \n",
       "\n",
       "[43735 rows x 5 columns]"
      ]
     },
     "execution_count": 107,
     "metadata": {},
     "output_type": "execute_result"
    }
   ],
   "source": [
    "unions"
   ]
  },
  {
   "cell_type": "code",
   "execution_count": 108,
   "metadata": {},
   "outputs": [
    {
     "data": {
      "text/html": [
       "<div>\n",
       "<style scoped>\n",
       "    .dataframe tbody tr th:only-of-type {\n",
       "        vertical-align: middle;\n",
       "    }\n",
       "\n",
       "    .dataframe tbody tr th {\n",
       "        vertical-align: top;\n",
       "    }\n",
       "\n",
       "    .dataframe thead th {\n",
       "        text-align: right;\n",
       "    }\n",
       "</style>\n",
       "<table border=\"1\" class=\"dataframe\">\n",
       "  <thead>\n",
       "    <tr style=\"text-align: right;\">\n",
       "      <th></th>\n",
       "      <th>geometry</th>\n",
       "      <th>area</th>\n",
       "      <th>seed_LAT</th>\n",
       "      <th>seed_LON</th>\n",
       "      <th>STATE</th>\n",
       "    </tr>\n",
       "  </thead>\n",
       "  <tbody>\n",
       "    <tr>\n",
       "      <th>0</th>\n",
       "      <td>POLYGON ((-149.89702 61.19446, -149.89703 61.1...</td>\n",
       "      <td>75491.712896</td>\n",
       "      <td>61.194998</td>\n",
       "      <td>-149.898348</td>\n",
       "      <td>AK</td>\n",
       "    </tr>\n",
       "    <tr>\n",
       "      <th>1</th>\n",
       "      <td>POLYGON ((-147.35162 64.75586, -147.35163 64.7...</td>\n",
       "      <td>74196.359521</td>\n",
       "      <td>64.756624</td>\n",
       "      <td>-147.351577</td>\n",
       "      <td>AK</td>\n",
       "    </tr>\n",
       "    <tr>\n",
       "      <th>2</th>\n",
       "      <td>POLYGON ((-149.94908 61.13706, -149.94909 61.1...</td>\n",
       "      <td>52442.216463</td>\n",
       "      <td>61.137901</td>\n",
       "      <td>-149.951158</td>\n",
       "      <td>AK</td>\n",
       "    </tr>\n",
       "    <tr>\n",
       "      <th>3</th>\n",
       "      <td>POLYGON ((-149.85627 61.10826, -149.85628 61.1...</td>\n",
       "      <td>51412.231065</td>\n",
       "      <td>61.108676</td>\n",
       "      <td>-149.859289</td>\n",
       "      <td>AK</td>\n",
       "    </tr>\n",
       "    <tr>\n",
       "      <th>...</th>\n",
       "      <td>...</td>\n",
       "      <td>...</td>\n",
       "      <td>...</td>\n",
       "      <td>...</td>\n",
       "      <td>...</td>\n",
       "    </tr>\n",
       "    <tr>\n",
       "      <th>51</th>\n",
       "      <td>POLYGON ((-147.59549 64.84179, -147.59552 64.8...</td>\n",
       "      <td>26225.540089</td>\n",
       "      <td>64.841864</td>\n",
       "      <td>-147.597411</td>\n",
       "      <td>AK</td>\n",
       "    </tr>\n",
       "    <tr>\n",
       "      <th>52</th>\n",
       "      <td>POLYGON ((-147.70954 64.85235, -147.70957 64.8...</td>\n",
       "      <td>26225.540089</td>\n",
       "      <td>64.852431</td>\n",
       "      <td>-147.711459</td>\n",
       "      <td>AK</td>\n",
       "    </tr>\n",
       "    <tr>\n",
       "      <th>53</th>\n",
       "      <td>POLYGON ((-147.71087 64.85473, -147.71090 64.8...</td>\n",
       "      <td>26225.540089</td>\n",
       "      <td>64.854810</td>\n",
       "      <td>-147.712794</td>\n",
       "      <td>AK</td>\n",
       "    </tr>\n",
       "    <tr>\n",
       "      <th>54</th>\n",
       "      <td>POLYGON ((-147.69537 64.85932, -147.69540 64.8...</td>\n",
       "      <td>26225.540089</td>\n",
       "      <td>64.859394</td>\n",
       "      <td>-147.697289</td>\n",
       "      <td>AK</td>\n",
       "    </tr>\n",
       "  </tbody>\n",
       "</table>\n",
       "<p>55 rows × 5 columns</p>\n",
       "</div>"
      ],
      "text/plain": [
       "                                             geometry          area  \\\n",
       "0   POLYGON ((-149.89702 61.19446, -149.89703 61.1...  75491.712896   \n",
       "1   POLYGON ((-147.35162 64.75586, -147.35163 64.7...  74196.359521   \n",
       "2   POLYGON ((-149.94908 61.13706, -149.94909 61.1...  52442.216463   \n",
       "3   POLYGON ((-149.85627 61.10826, -149.85628 61.1...  51412.231065   \n",
       "..                                                ...           ...   \n",
       "51  POLYGON ((-147.59549 64.84179, -147.59552 64.8...  26225.540089   \n",
       "52  POLYGON ((-147.70954 64.85235, -147.70957 64.8...  26225.540089   \n",
       "53  POLYGON ((-147.71087 64.85473, -147.71090 64.8...  26225.540089   \n",
       "54  POLYGON ((-147.69537 64.85932, -147.69540 64.8...  26225.540089   \n",
       "\n",
       "     seed_LAT    seed_LON STATE  \n",
       "0   61.194998 -149.898348    AK  \n",
       "1   64.756624 -147.351577    AK  \n",
       "2   61.137901 -149.951158    AK  \n",
       "3   61.108676 -149.859289    AK  \n",
       "..        ...         ...   ...  \n",
       "51  64.841864 -147.597411    AK  \n",
       "52  64.852431 -147.711459    AK  \n",
       "53  64.854810 -147.712794    AK  \n",
       "54  64.859394 -147.697289    AK  \n",
       "\n",
       "[55 rows x 5 columns]"
      ]
     },
     "execution_count": 108,
     "metadata": {},
     "output_type": "execute_result"
    }
   ],
   "source": [
    "unions_AK"
   ]
  },
  {
   "cell_type": "code",
   "execution_count": 109,
   "metadata": {},
   "outputs": [
    {
     "data": {
      "text/html": [
       "<div>\n",
       "<style scoped>\n",
       "    .dataframe tbody tr th:only-of-type {\n",
       "        vertical-align: middle;\n",
       "    }\n",
       "\n",
       "    .dataframe tbody tr th {\n",
       "        vertical-align: top;\n",
       "    }\n",
       "\n",
       "    .dataframe thead th {\n",
       "        text-align: right;\n",
       "    }\n",
       "</style>\n",
       "<table border=\"1\" class=\"dataframe\">\n",
       "  <thead>\n",
       "    <tr style=\"text-align: right;\">\n",
       "      <th></th>\n",
       "      <th>geometry</th>\n",
       "      <th>area</th>\n",
       "      <th>seed_LAT</th>\n",
       "      <th>seed_LON</th>\n",
       "      <th>STATE</th>\n",
       "    </tr>\n",
       "  </thead>\n",
       "  <tbody>\n",
       "    <tr>\n",
       "      <th>0</th>\n",
       "      <td>POLYGON ((-158.07798 21.33765, -158.07798 21.3...</td>\n",
       "      <td>81159.623537</td>\n",
       "      <td>21.338832</td>\n",
       "      <td>-158.078048</td>\n",
       "      <td>HI</td>\n",
       "    </tr>\n",
       "    <tr>\n",
       "      <th>1</th>\n",
       "      <td>POLYGON ((-155.99567 19.64168, -155.99568 19.6...</td>\n",
       "      <td>77007.121212</td>\n",
       "      <td>19.642812</td>\n",
       "      <td>-155.995902</td>\n",
       "      <td>HI</td>\n",
       "    </tr>\n",
       "    <tr>\n",
       "      <th>2</th>\n",
       "      <td>POLYGON ((-158.02782 21.49384, -158.02782 21.4...</td>\n",
       "      <td>76498.269817</td>\n",
       "      <td>21.494900</td>\n",
       "      <td>-158.029112</td>\n",
       "      <td>HI</td>\n",
       "    </tr>\n",
       "    <tr>\n",
       "      <th>3</th>\n",
       "      <td>POLYGON ((-157.97386 21.39950, -157.97387 21.3...</td>\n",
       "      <td>60054.998102</td>\n",
       "      <td>21.399950</td>\n",
       "      <td>-157.973922</td>\n",
       "      <td>HI</td>\n",
       "    </tr>\n",
       "    <tr>\n",
       "      <th>...</th>\n",
       "      <td>...</td>\n",
       "      <td>...</td>\n",
       "      <td>...</td>\n",
       "      <td>...</td>\n",
       "      <td>...</td>\n",
       "    </tr>\n",
       "    <tr>\n",
       "      <th>109</th>\n",
       "      <td>POLYGON ((-155.06584 19.69471, -155.06585 19.6...</td>\n",
       "      <td>26605.490282</td>\n",
       "      <td>19.694718</td>\n",
       "      <td>-155.066716</td>\n",
       "      <td>HI</td>\n",
       "    </tr>\n",
       "    <tr>\n",
       "      <th>110</th>\n",
       "      <td>POLYGON ((-155.06538 19.69018, -155.06538 19.6...</td>\n",
       "      <td>26605.490282</td>\n",
       "      <td>19.690184</td>\n",
       "      <td>-155.066253</td>\n",
       "      <td>HI</td>\n",
       "    </tr>\n",
       "    <tr>\n",
       "      <th>111</th>\n",
       "      <td>POLYGON ((-155.03839 19.62204, -155.03839 19.6...</td>\n",
       "      <td>26605.490282</td>\n",
       "      <td>19.622046</td>\n",
       "      <td>-155.039265</td>\n",
       "      <td>HI</td>\n",
       "    </tr>\n",
       "    <tr>\n",
       "      <th>112</th>\n",
       "      <td>POLYGON ((-159.36691 21.98105, -159.36692 21.9...</td>\n",
       "      <td>26605.490282</td>\n",
       "      <td>21.981039</td>\n",
       "      <td>-159.367797</td>\n",
       "      <td>HI</td>\n",
       "    </tr>\n",
       "  </tbody>\n",
       "</table>\n",
       "<p>113 rows × 5 columns</p>\n",
       "</div>"
      ],
      "text/plain": [
       "                                              geometry          area  \\\n",
       "0    POLYGON ((-158.07798 21.33765, -158.07798 21.3...  81159.623537   \n",
       "1    POLYGON ((-155.99567 19.64168, -155.99568 19.6...  77007.121212   \n",
       "2    POLYGON ((-158.02782 21.49384, -158.02782 21.4...  76498.269817   \n",
       "3    POLYGON ((-157.97386 21.39950, -157.97387 21.3...  60054.998102   \n",
       "..                                                 ...           ...   \n",
       "109  POLYGON ((-155.06584 19.69471, -155.06585 19.6...  26605.490282   \n",
       "110  POLYGON ((-155.06538 19.69018, -155.06538 19.6...  26605.490282   \n",
       "111  POLYGON ((-155.03839 19.62204, -155.03839 19.6...  26605.490282   \n",
       "112  POLYGON ((-159.36691 21.98105, -159.36692 21.9...  26605.490282   \n",
       "\n",
       "      seed_LAT    seed_LON STATE  \n",
       "0    21.338832 -158.078048    HI  \n",
       "1    19.642812 -155.995902    HI  \n",
       "2    21.494900 -158.029112    HI  \n",
       "3    21.399950 -157.973922    HI  \n",
       "..         ...         ...   ...  \n",
       "109  19.694718 -155.066716    HI  \n",
       "110  19.690184 -155.066253    HI  \n",
       "111  19.622046 -155.039265    HI  \n",
       "112  21.981039 -159.367797    HI  \n",
       "\n",
       "[113 rows x 5 columns]"
      ]
     },
     "execution_count": 109,
     "metadata": {},
     "output_type": "execute_result"
    }
   ],
   "source": [
    "unions_HI"
   ]
  },
  {
   "cell_type": "code",
   "execution_count": 118,
   "metadata": {},
   "outputs": [],
   "source": [
    "## Write out data\n",
    "\n",
    "###unions.to_csv(\"results/raw_seedpoints/raw_seedpts_contusa_v2.csv\", index=False)\n",
    "###unions_AK.to_csv(\"results/raw_seedpoints/raw_seedpts_ak.csv_v2\", index=False)\n",
    "###unions_HI.to_csv(\"results/raw_seedpoints/raw_seedpts_hi.csv_v2\", index=False)"
   ]
  },
  {
   "cell_type": "code",
   "execution_count": null,
   "metadata": {},
   "outputs": [],
   "source": []
  }
 ],
 "metadata": {
  "kernelspec": {
   "display_name": "Python 3",
   "language": "python",
   "name": "python3"
  },
  "language_info": {
   "codemirror_mode": {
    "name": "ipython",
    "version": 3
   },
   "file_extension": ".py",
   "mimetype": "text/x-python",
   "name": "python",
   "nbconvert_exporter": "python",
   "pygments_lexer": "ipython3",
   "version": "3.8.6rc1"
  }
 },
 "nbformat": 4,
 "nbformat_minor": 4
}
