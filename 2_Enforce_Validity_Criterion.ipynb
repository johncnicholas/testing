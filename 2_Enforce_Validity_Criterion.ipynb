{
 "cells": [
  {
   "cell_type": "markdown",
   "metadata": {},
   "source": [
    "# This notebook imports the raw seed points from 1_, and applies a decided upon Evaluation criteria"
   ]
  },
  {
   "cell_type": "code",
   "execution_count": 1,
   "metadata": {},
   "outputs": [],
   "source": [
    "##Pandas and NumPy\n",
    "import pandas as pd\n",
    "pd.set_option(\"display.max_columns\", None)\n",
    "pd.set_option(\"display.max_rows\", 8)\n",
    "import numpy as np\n",
    "\n",
    "##GeoSpatial imports\n",
    "import geopandas as gpd\n",
    "from geopy.distance import geodesic\n",
    "import descartes as dc\n",
    "import keplergl\n",
    "from keplergl import KeplerGl\n",
    "\n",
    "##for gemoetry to be compatible with geopandas\n",
    "from shapely.wkt import load\n",
    "\n",
    "## Swifter for applies\n",
    "import dask.dataframe as dd\n",
    "import multiprocessing\n",
    "import copy\n",
    "import swifter\n",
    "\n",
    "## For distance calc test using columns\n",
    "from math import sin, cos, sqrt, atan2, radians,pi\n",
    "import gc\n",
    "import datetime\n",
    "\n",
    "##For map projections\n",
    "import pyproj\n",
    "from pyproj import Proj, transform, CRS\n",
    "\n",
    "## manually setting proj directory bc I installed two\n",
    "old = 'c:\\\\users\\\\rbijn006\\\\appdata\\\\local\\\\programs\\\\python\\\\python38\\\\lib\\\\site-packages\\\\pyproj\\\\proj_dir\\\\share\\\\proj'\n",
    "new = 'c:\\\\users\\\\rbijn006\\\\appdata\\\\local\\\\programs\\\\python\\\\python38\\\\lib\\\\site-packages\\\\osgeo\\\\data\\\\proj'\n",
    "\n",
    "pyproj.datadir.set_data_dir(old)\n"
   ]
  },
  {
   "cell_type": "code",
   "execution_count": 47,
   "metadata": {},
   "outputs": [
    {
     "name": "stdout",
     "output_type": "stream",
     "text": [
      "pandas==1.0.5\n",
      "numpy==1.19.2\n"
     ]
    }
   ],
   "source": [
    "print(f'pandas=={pd.__version__}')\n",
    "print(f'numpy=={np.__version__}')"
   ]
  },
  {
   "cell_type": "code",
   "execution_count": 2,
   "metadata": {},
   "outputs": [],
   "source": [
    "## Function for getting accurate distances much faster than apply\n",
    "\n",
    "## Now, write is as a function so multiple test points can be passed\n",
    "## NEED COLUMN NAMES (LONGITUDE, LATITUDE, point_lat, point_lon) TO BE CONSISTENT\n",
    "\n",
    "##############\n",
    "## Function is auto set to calculate in miles, column names being the same as first 4 are required\n",
    "## Specify dist=21,000,000 for the calculation to come out in feet (Earth's radius in feet)\n",
    "##############\n",
    "\n",
    "def distcalc(df, dist=3959):\n",
    "    df['lat1']=(df['LATITUDE'])*pi/180\n",
    "    df['lat2']=(df['point_lat'])*pi/180\n",
    "    df['lon1']=(df['LONGITUDE'])*pi/180\n",
    "    df['lon2']=(df['point_lon'])*pi/180\n",
    "    \n",
    "    df['x'] = (df['lon2'] - df['lon1']) * np.cos( 0.5*(df['lat2']+df['lat1']) )\n",
    "    df['y'] = df['lat2'] - df['lat1']\n",
    "    df['dist_to_pt']=dist * np.sqrt( df['x']*df['x'] + df['y']*df['y'] )\n",
    "    df = df.drop(columns=['lat1', 'lat2','lon1','lon2','x','y'],axis=1)\n",
    "    return df"
   ]
  },
  {
   "cell_type": "code",
   "execution_count": 3,
   "metadata": {},
   "outputs": [],
   "source": [
    "## Filepaths to the raw seed points\n",
    "uc = \"results/raw_seedpoints/raw_seedpts_contusa.csv\"\n",
    "ak = \"results/raw_seedpoints/raw_seedpts_ak.csv\"\n",
    "hi = \"results/raw_seedpoints/raw_seedpts_hi.csv\"\n",
    "\n",
    "## Filepaths to RT & cxy data\n",
    "r = \"data/RT_OpenStores.csv\"\n",
    "c=  \"data/CXY_ALL_1_11_21.csv\""
   ]
  },
  {
   "cell_type": "code",
   "execution_count": 4,
   "metadata": {},
   "outputs": [
    {
     "name": "stderr",
     "output_type": "stream",
     "text": [
      "c:\\users\\rbijn006\\appdata\\local\\programs\\python\\python38\\lib\\site-packages\\IPython\\core\\interactiveshell.py:3145: DtypeWarning: Columns (38,42,75) have mixed types.Specify dtype option on import or set low_memory=False.\n",
      "  has_raised = await self.run_ast_nodes(code_ast.body, cell_name,\n"
     ]
    }
   ],
   "source": [
    "## Read in seed pts (I am just combining here)\n",
    "raw_seedpts = pd.concat([pd.read_csv(uc),pd.read_csv(ak),pd.read_csv(hi)], axis=0).reset_index(drop=True)\n",
    "## Read in restaurant trends data\n",
    "rt = pd.read_csv(r)\n",
    "cxy = pd.read_csv(c)"
   ]
  },
  {
   "cell_type": "code",
   "execution_count": 5,
   "metadata": {},
   "outputs": [
    {
     "data": {
      "text/plain": [
       "True"
      ]
     },
     "execution_count": 5,
     "metadata": {},
     "output_type": "execute_result"
    }
   ],
   "source": [
    "## Num of total seedpoints, len of concat should match\n",
    "\n",
    "## Should return TRUE\n",
    "43735+55+113 == len(raw_seedpts)\n",
    "\n",
    "## If the program becomes problematically long ill split them back up!"
   ]
  },
  {
   "cell_type": "markdown",
   "metadata": {},
   "source": [
    "# Data staging\n",
    "\n",
    "## Start with ChainXY Staging"
   ]
  },
  {
   "cell_type": "code",
   "execution_count": 6,
   "metadata": {},
   "outputs": [],
   "source": [
    "## Filtering out closed Cxy Locations\n",
    "cxy = cxy[(cxy[\"Closed\"]!=\"NO\")]\n",
    "\n",
    "## For now filtering out coming soon as well\n",
    "cxy = cxy[(cxy[\"ComingSoon\"]!=\"Yes\")]\n",
    "\n",
    "## Making City col all caps to match rt\n",
    "cxy[\"City\"] = cxy[\"City\"].str.upper()\n",
    "\n",
    "## Making lat/long all caps to play nice with distfunc\n",
    "\n",
    "cxy.columns = ['StoreName', 'StoreNumber', 'ChainId', 'ChainName', 'ChainStatus',\n",
    "       'Label', 'ParentChainId', 'ParentChainName', 'Address', 'Address2',\n",
    "       'City', 'PostalCode', 'State', 'Country', 'PhoneNumber', 'Closed',\n",
    "       'ComingSoon', 'StoreType', 'DistributorName', 'StoreHours',\n",
    "       'OtherFields', 'AdditionalAttributes', 'LATITUDE', 'LONGITUDE',\n",
    "       'GeoAccuracy', 'HashId', 'LastUpdate', 'FirstAppeared', 'LastSeen',\n",
    "       'PrimaryCategory', 'Categories', 'SIC', 'NAICS', 'AdminLevel1Code',\n",
    "       'AdminLevel1Name', 'AdminLevel1Label', 'AdminLevel2Code',\n",
    "       'AdminLevel2Name', 'AdminLevel2Label', 'AdminLevel3Code',\n",
    "       'AdminLevel3Name', 'AdminLevel3Label', 'AdminLevel4Code',\n",
    "       'AdminLevel4Name', 'AdminLevel4Label', 'AdminLevel5Code',\n",
    "       'AdminLevel5Name', 'AdminLevel5Label', 'AdminLevel6Code',\n",
    "       'AdminLevel6Name', 'AdminLevel6Label']"
   ]
  },
  {
   "cell_type": "markdown",
   "metadata": {},
   "source": [
    "### Need to start thinking here where do I see potential for improvement over current system, which uses a combination of QSR + Big Box within 0.5 miles\n",
    "\n",
    "### FOUND Status Quo Big Box: Kohl's, BJ's, Costco, Meijer, Sam's Club, Lowes, Home Depot, Menard's, Kmart, Target, Walmart, Bass Pro, Orvis, IKEA, Best Buy\n",
    "\n",
    "### Improvements: Include Large Hospital, large regional grocers (Publix, etc)"
   ]
  },
  {
   "cell_type": "code",
   "execution_count": 7,
   "metadata": {},
   "outputs": [
    {
     "name": "stdout",
     "output_type": "stream",
     "text": [
      "['Asian; Grocery' 'Big Box; Grocery' 'Big Box; Mass Merchant; Grocery'\n",
      " 'Big Box; Mass Merchant; Grocery; Clothing + Apparel'\n",
      " 'Clothing + Apparel; Big Box; Mass Merchant; Grocery'\n",
      " 'Convenience Store; Grocery' 'Government Office; Grocery' 'Grocery'\n",
      " 'Grocery; Big Box' 'Grocery; Convenience Store'\n",
      " 'Grocery; Discount Stores; Mass Merchant'\n",
      " 'Grocery; Drug Stores + Pharmacies' 'Grocery; Mass Merchant'\n",
      " 'Grocery; Mexican' 'Grocery; Restaurant'\n",
      " 'Mass Merchant; Big Box; Grocery' 'Mass Merchant; Grocery'\n",
      " 'Mass Merchant; Grocery; Big Box' 'Mexican; Grocery'\n",
      " 'Pet Health + Care; Grocery; Home Improvement + Building Supplies'\n",
      " 'Restaurant - Juice Bars; Vitamins, Nutrition, and Supplements; Grocery'\n",
      " 'Vitamins, Nutrition, and Supplements; Grocery']\n",
      " \n",
      "['168 Market' '99 Ranch Market' 'AC Value Center' \"AJ's Fine Foods\" 'ALDI'\n",
      " 'Acme Fresh Market' 'Acme Markets' 'Adams Hometown Market'\n",
      " \"Akin's Natural Food Market\" 'Albertsons' 'Albertsons Market' 'Amazon Go'\n",
      " 'Amigos (United)' \"Andronico's Community Markets\"\n",
      " \"Angelo Caputo's Fresh Markets!\" 'Apple Market' 'Arlans Market'\n",
      " 'Arteagas Food Center' 'Asian Food Markets' 'Associated Food Stores'\n",
      " 'Associated Grocers - Baton Rouge' 'Associated Supermarkets' 'BI-LO'\n",
      " \"BJ's Wholesale Club\" \"Baker's Plus Supermarkets\" \"Balducci's\"\n",
      " 'Balls Food Stores' 'Barons Market' \"Bashas' Supermarkets\" 'Bel Air'\n",
      " 'Berkots Super Foods' 'Best Market' 'Bi-Mart' 'Big M Supermarkets'\n",
      " 'Big Saver Foods' 'Big Y Foods' \"Boyer's Food Markets\"\n",
      " 'Bravo Supermarkets' 'Breaux Mart Supermarket' \"Brennan's Market\"\n",
      " 'Bristol Farms' 'Brookshire Brothers' \"Brookshire's Grocery Company\"\n",
      " 'Brothers Market' 'Buehler Food Markets' 'Bulk Nation'\n",
      " \"Busch's Family Supermarket\" 'Butera Finer Foods' 'Buy For Le$$'\n",
      " 'C Town Supermarkets' 'Cardenas Markets' 'Carnicerias Jimenez' 'Carrs'\n",
      " 'Cash Saver Cost Plus Food Outlet' 'Cash Wise Foods'\n",
      " 'Cash&Carry Smart Foodservice' 'Central Market'\n",
      " \"Chamberlin's Natural Food Market\" 'Chavez Supermarket' 'Chief Markets'\n",
      " 'Choice Market' 'City Market' \"Coborn's\" 'Compare Foods Supermarkets'\n",
      " 'Compare Foods Supermarkets Charlotte' \"Corrado's Market\" 'Cost-U-Less'\n",
      " 'Costco Wholesale' 'Country Mart' 'Country Mart Grocery' 'County Market'\n",
      " 'Crest Fresh Market' \"Crosby's Marketplace\" 'Cub Foods'\n",
      " 'Culebra Meat Market' 'D&W Fresh Market' \"D'Agostino\" \"Dan's Food\"\n",
      " \"Dan's Supermarket\" \"Dash's Market\" \"Dave's Marketplace\" \"Dave's Markets\"\n",
      " 'DeCicco & Sons Markets' 'Dean & DeLuca'\n",
      " 'Defense Commissary Agency (DeCA)' 'Dick’s Fresh Market'\n",
      " 'Dierbergs Markets' 'Dillons Supermarkets' \"Donelan's Supermarkets\"\n",
      " 'Doris Italian Market' 'Draeger Supermarkets' 'Dream Dinners'\n",
      " 'E.W. James & Sons' 'Eagle' 'Earth Fare' 'Earth Origins Market'\n",
      " 'Econofoods' 'El Ahorro Supermarket' 'El Mezquite Market'\n",
      " 'El Rancho Supermercado' 'El Rio Grande' 'El Super' 'Fairplay Foods'\n",
      " 'Fairway Market' 'Family Fare' 'Family Fresh Market' 'Fareway Stores'\n",
      " 'Feel Rite Fresh Market' 'Festival Foods' 'Fiesta Foods' 'Fiesta Mart'\n",
      " 'Fine Fare Supermarkets' 'Food 4 Less' 'Food 4 Less (California)'\n",
      " 'Food Bazaar Supermarket' 'Food City' 'Food City - Southwest'\n",
      " 'Food Depot' 'Food Dynasty' 'Food Giant' 'Food King' 'Food Lion'\n",
      " 'Food Pyramid' 'Food Source' 'Food Universe Marketplace' 'Food World'\n",
      " 'FoodMaxx Supermarkets' 'Foodarama' 'Foodland' 'Foodland (Hawaii)'\n",
      " 'Foodland Grocery (Alabama)' 'Foodsco' 'Foodtown' 'Forest Hills Foods'\n",
      " 'Fred Meyer' 'Fresco y Más' 'Fresh Thyme' 'Fresh and Natural Foods'\n",
      " 'Fruitful Yield' \"Fry's Food & Drug Stores\" 'Garden Fresh Market'\n",
      " \"Gelson's Markets\" 'Gerbes Super Markets' 'Giant Eagle' 'Giant Food'\n",
      " 'Giant Food Stores' 'Glory Supermarket' 'Good Earth Natural Foods'\n",
      " \"Grant's Supermarket\" 'Great Valu Markets' 'Greatwall Supermarket (GW)'\n",
      " 'Greenwise Market' 'Gristedes' 'Grocery Outlet' 'H Mart' 'H-E-B'\n",
      " 'HG Hill Food Stores' 'Haggen' 'Hannaford Supermarkets'\n",
      " \"Harding's Friendly Markets\" 'Harmons' 'Harps Food Store' 'Harris Teeter'\n",
      " 'Harter House Quality Meats' 'Harveys Supermarket'\n",
      " \"Heinen's Grocery Stores\" 'Hen House' 'Hiep Thai Food Store'\n",
      " 'Highland Park Market' 'Hitchcock’s Markets' 'Holiday Quality Foods'\n",
      " 'Hollywood Supermarkets' 'Homeland' \"Hornbacher's\" 'Hy-Vee'\n",
      " 'IGA (Houchens)' 'IGA (Independent Grocers Alliance)' 'India Bazaar'\n",
      " 'Ingles Markets' 'Island Pacific Supermarkets'\n",
      " 'JONS International Marketplace' 'Jay C' \"Jensen's Finest Foods\"\n",
      " 'Jetro Cash & Carry' 'Jewel-Osco' 'Jiffy Stop Food Mart' \"Jimbo's\"\n",
      " \"Joe V's Smart Shop\" 'Juniors Supermarket' 'Just$ave Foods' 'Karns Food'\n",
      " \"Kent's Market\" 'Key Food' 'Key Fresh & Natural' 'King Cash Saver'\n",
      " 'King Food Saver' 'King Kullen Grocery Co.' 'King Soopers'\n",
      " 'Kings County Market' 'Kings Food Markets' \"Kowalski's Markets\" 'Kroger'\n",
      " \"Kuhn's\" 'La Chiquita Food Market' 'La Fiesta Supermarket'\n",
      " 'La Michoacana Meat Market' 'Landis Supermarket'\n",
      " 'Lassens Natural Foods and Vitamins' \"Leppink's Food Center\"\n",
      " 'Lewis Food Town' 'Lidl US' \"Lin's Fresh Market\" 'Los Altos Ranch Market'\n",
      " \"Lowe's Foods\" \"Lowe's Market\" 'Lucky Low Prices' 'Lucky Supermarkets'\n",
      " \"Lunardi's Supermarkets\" 'Lunds & Byerlys' \"MARTIN'S Food Markets\"\n",
      " \"MOM's Organic Markets\" \"Mac's Fresh Market\" \"Macey's\"\n",
      " \"Malone's Cost Plus\" \"Marc's\" \"Mariano's\" 'Market Basket (DeMoulas)'\n",
      " 'Market Basket Foods' 'Market District' 'Market Street'\n",
      " 'Market of Choice' 'Marketplace Foods' \"Martin's Super Markets\"\n",
      " \"Matherne's Super Market\" \"McCaffrey's\" 'McKinnons Market' 'Meijer'\n",
      " 'Met Food' 'Metro Market' 'Metropolitan Markets' 'Mi Tienda'\n",
      " 'Mitsuwa Marketplace' 'Mollie Stones' 'Morton Williams Supermarkets'\n",
      " \"Mother's Market\" 'Mustard Seed Market & Café' 'National Co-Op Grocers'\n",
      " 'Natural Grocers' \"Needler's Fresh Market\" 'NetCost Market'\n",
      " 'New Frontiers Natural Marketplace' 'New Seasons Market'\n",
      " 'No Frills Supermarkets' 'Nob Hill Foods' 'North Shore Farms'\n",
      " 'Northgate González Markets' 'Northwest Grocers' 'Nugget Market'\n",
      " 'Numero Uno Markets' \"Oleson's Food Store\" 'PCC Natural Markets'\n",
      " 'Pak N Save' 'Patel Brothers' 'Pavilions' 'Pay Less Super Markets'\n",
      " \"Pete's Fresh Market\" \"Pick 'n Save\" 'Piggly Wiggly'\n",
      " 'Piggly Wiggly Midwest' 'Pioneer Supermarkets'\n",
      " 'Ponca City Discount Foods' 'Presidente Supermarkets'\n",
      " 'Price Chopper (AWG)' 'Price Chopper (Golub)' 'Price Cutter'\n",
      " 'Price Less IGA' 'PriceRite' 'Publix Supermarkets' 'Pueblo'\n",
      " 'QFC (Quality Food Centers)' 'Quality Foods' \"Raley's\" 'Ralphs'\n",
      " 'Rancho Markets' 'Rancho San Miguel Markets' \"Randall's Food Markets\"\n",
      " \"Ray's Food Place\" 'Reams Food Stores' \"Reasor's Foods\" 'Red Apple'\n",
      " \"Redner's Markets\" \"Reid's Fine Foods\" 'Remke Markets' 'Restaurant Depot'\n",
      " \"Ridley's Family Markets\" 'Rio Ranch Market' 'Roche Bros.' 'Rosauers'\n",
      " 'Rouses Markets' 'Royal Blue Grocery' 'Ruler Foods'\n",
      " 'SHOP ’n SAVE Supermarkets' 'SHOPPERS Food & Pharmacy' 'Saars' 'Safeway'\n",
      " \"Sam's Club\" 'Save Mart Supermarkets' 'Save-A-Lot (Onex)'\n",
      " 'Save-A-Lot (Pyramid Foods)' 'Schnucks' 'Seabra Food' 'Seafood City'\n",
      " \"Sedano's Supermarkets\" 'Sellers Bros.' \"Sendik's Food Market\"\n",
      " 'Sentry Foods' \"Shaw's\" 'ShopRite' 'Shun Fat Supermarket'\n",
      " 'Shursave Markets' 'Smart & Final' \"Smith's Food & Drug Stores\"\n",
      " 'Spring Market' 'Sprouts Farmers Market' 'Star Market'\n",
      " 'Stater Bros. Markets' \"Stew Leonard's\" 'Stop & Shop' 'Strack & Van Til'\n",
      " 'Sudbury Farms' 'Sun Fresh' 'Sun Mart Foods' 'Sunset Foods'\n",
      " 'Super 1 Foods' 'Super 1 Foods (Washington, Idaho, Montana)'\n",
      " 'Super A Foods' 'Super Dollar Discount Foods' 'Super King Markets'\n",
      " 'Super Mercado Mi Tierra' 'Super One Foods' 'Super Save' 'Super Saver'\n",
      " 'Super Supermarket' 'Superior Grocers' 'Superlo Foods'\n",
      " 'Supermercado Nuestra Familia' 'Supremo Food Markets'\n",
      " 'Swiss Farms Drive-Thru Market' 'Talpa Super Mercados'\n",
      " \"Terry's Supermarket\" 'The Fresh Grocer' 'The Fresh Market'\n",
      " 'Timewise Food Store' 'Tom Thumb' 'Tom Thumb Food & Pharmacy'\n",
      " \"Tony's Finer Foods\" 'Tops Friendly Markets' 'Trade Fair Supermarkets'\n",
      " \"Trader Joe's\" \"Trucchi's Supermarkets\" 'UNFI (United Natural Foods)'\n",
      " 'US Foods' \"Uncle Giuseppe's\" 'United Grocery Outlet'\n",
      " 'United Supermarkets' \"VG's Grocery\" 'Vallarta Supermarkets' 'Valu Land'\n",
      " 'ValuMarket Supermarket' 'Vons' \"Walt's Food\" 'Warehouse Market'\n",
      " 'Wayfield Foods' 'Wegmans Food Markets' 'Weis Markets' 'Western Beef'\n",
      " 'Whole Foods Market' 'Wild by Nature' 'WinCo Foods' 'Winn Dixie'\n",
      " \"Woodman's Market\" 'Woods Supermarket' 'Yes! Organic Market'\n",
      " \"Yoke's Fresh Market\" 'Zion Market' 'Zupans Market' 'bfresh'\n",
      " 'iFresh Market']\n"
     ]
    }
   ],
   "source": [
    "## Below is a list of what I looked through in the order I looked\n",
    "## ['Department Store','Discount Stores','Grocery','Home Improvement + Building Supplies','Mass Merchant',\n",
    "## 'Sports + Recreation','Furnishings','Computers + Consumer Electronics']\n",
    "\n",
    "## Names of the stores in the list above as they appear in the cxy[\"ChainName\"] column:\n",
    "## \"Kohl's\" , \"BJ's Wholesale Club\",'Costco Wholesale', 'Meijer', \"Sam's Club\", \"Lowe's\", 'The Home Depot', \"Menard's\",\n",
    "## 'Kmart', 'Target', 'Walmart USA', 'Bass Pro Shops', 'Orvis', 'IKEA', 'Best Buy'\n",
    "\n",
    "\n",
    "tst_cat = 'Grocery'\n",
    "print(np.sort(cxy[(cxy[\"PrimaryCategory\"] == tst_cat)][\"Categories\"].unique()))\n",
    "print(\" \")\n",
    "print(np.sort(cxy[(cxy[\"PrimaryCategory\"] == tst_cat)][\"ChainName\"].unique()))\n"
   ]
  },
  {
   "cell_type": "code",
   "execution_count": 8,
   "metadata": {},
   "outputs": [
    {
     "data": {
      "text/plain": [
       "array(['ALDI', 'Albertsons', \"BJ's Wholesale Club\", 'Costco Wholesale',\n",
       "       'Food 4 Less', 'Food 4 Less (California)',\n",
       "       \"Fry's Food & Drug Stores\", 'Kroger', \"Lowe's Foods\",\n",
       "       \"Lowe's Market\", 'Meijer', 'Publix Supermarkets', 'Safeway',\n",
       "       \"Sam's Club\", 'Save-A-Lot (Onex)', 'Save-A-Lot (Pyramid Foods)',\n",
       "       'Super Dollar Discount Foods', \"Trader Joe's\",\n",
       "       'Whole Foods Market'], dtype=object)"
      ]
     },
     "execution_count": 8,
     "metadata": {},
     "output_type": "execute_result"
    }
   ],
   "source": [
    "## Filter on sub-categories on our test cat\n",
    "np.sort(cxy[(cxy[\"PrimaryCategory\"] == tst_cat)&(cxy[\"Categories\"].isin(['Big Box; Grocery', 'Big Box; Mass Merchant; Grocery',\n",
    " 'Big Box; Mass Merchant; Grocery; Clothing + Apparel',\n",
    " 'Clothing + Apparel; Big Box; Mass Merchant; Grocery',\n",
    " 'Grocery; Big Box','Grocery; Discount Stores; Mass Merchant','Mass Merchant; Big Box; Grocery', 'Mass Merchant; Grocery'\n",
    " 'Mass Merchant; Grocery; Big Box']))][\"ChainName\"].unique())"
   ]
  },
  {
   "cell_type": "code",
   "execution_count": 9,
   "metadata": {},
   "outputs": [],
   "source": [
    "## 158k RT all PROPORTIONALLY WOULD REDUCE TO 105k\n",
    "## 65k RT DT no captive, reduces to  43k\n",
    "\n",
    "##the only way we are eliminating is if they do not follow the criteria "
   ]
  },
  {
   "cell_type": "code",
   "execution_count": 10,
   "metadata": {},
   "outputs": [],
   "source": [
    "## Isolating status quo (Tetrad) Big Boxes\n",
    "\n",
    "big_box = cxy[(cxy[\"ChainName\"].isin([\"Kohl's\",\"BJ's Wholesale Club\",'Costco Wholesale','Meijer',\"Sam's Club\",\"Lowe's\",\n",
    "                            'The Home Depot', \"Menard's\",'Kmart', 'Target', 'Walmart USA', 'Bass Pro Shops', \n",
    "                            'Orvis', 'IKEA', 'Best Buy']))][['StoreNumber', 'ChainId', 'ChainName', 'City', \n",
    " 'State','StoreType','LATITUDE', 'LONGITUDE','HashId']]\n",
    "\n",
    "## Get rid of some pickup only Walmarts\n",
    "big_box = big_box[(big_box[\"StoreType\"]!='Pickup only')]"
   ]
  },
  {
   "cell_type": "code",
   "execution_count": 11,
   "metadata": {},
   "outputs": [],
   "source": [
    "## Isolating QSRs, there are a lot of them could potentially cut this down\n",
    "## Another note is could sub this for RT data to exclude food courts\n",
    "\n",
    "qsr = cxy[(cxy[\"PrimaryCategory\"]=='Restaurant - QSR/Fast Food')][['StoreNumber', 'ChainId', 'ChainName','City', \n",
    " 'State','StoreType','LATITUDE', 'LONGITUDE','HashId']]"
   ]
  },
  {
   "cell_type": "code",
   "execution_count": 12,
   "metadata": {},
   "outputs": [],
   "source": [
    "## Setting up the labels I will grpby on when in the loop\n",
    "qsr[\"LABEL\"] = \"QSR\"\n",
    "big_box[\"LABEL\"] = \"BBOX\""
   ]
  },
  {
   "cell_type": "code",
   "execution_count": 13,
   "metadata": {},
   "outputs": [],
   "source": [
    "## Deleting CXY from memory since it is so large\n",
    "del cxy"
   ]
  },
  {
   "cell_type": "markdown",
   "metadata": {},
   "source": [
    "## Staging for RT - can use RT QSR instead of CXY"
   ]
  },
  {
   "cell_type": "code",
   "execution_count": 14,
   "metadata": {},
   "outputs": [
    {
     "name": "stdout",
     "output_type": "stream",
     "text": [
      "['QSR' 'FSR']\n",
      "0.9855522395609398\n"
     ]
    }
   ],
   "source": [
    "## Isolate the QSR segment of the rt data, which is 98% of the data\n",
    "print(rt[\"SEGMENT\"].unique())\n",
    "print(len(rt[(rt[\"SEGMENT\"]==\"QSR\")])/len(rt))\n",
    "\n",
    "rt = rt[(rt[\"SEGMENT\"]==\"QSR\")]"
   ]
  },
  {
   "cell_type": "code",
   "execution_count": 15,
   "metadata": {},
   "outputs": [],
   "source": [
    "## Next, exclude Popeyes. INCLUDING to get the distance to PLK as an output. \n",
    "\n",
    "#rt = rt[~(rt[\"CHAIN\"]==\"Popeyes\")]"
   ]
  },
  {
   "cell_type": "code",
   "execution_count": null,
   "metadata": {},
   "outputs": [],
   "source": []
  },
  {
   "cell_type": "code",
   "execution_count": 16,
   "metadata": {},
   "outputs": [],
   "source": [
    "## Excluding captive locations for now. More than likely will not make a huge difference we just wont see seed points in malls\n",
    "## or in millitary bases. Very easy to change this."
   ]
  },
  {
   "cell_type": "code",
   "execution_count": 17,
   "metadata": {},
   "outputs": [],
   "source": [
    "## Creating list of LOCATION_DESCRIPTION that qualify as captive\n",
    "\n",
    "captive_locations = ['Airport Terminal','Casino-Gaming','Office Building','Military Base','Hospital/Medical Facility',\n",
    "                    'College-University-Trade School','Railroad Terminal','Mall-Enclosed', 'Amusement-Theme Park',\n",
    "                       'Arena-Stadium', 'Movie Theater', 'Recreational Sports Ctr (include Ice/Roller Rink)''Bus Terminal', \n",
    "                     'Zoo','Small Enclosed Mall','Museum','Inside Something Undefined/Misc Retail', 'School (K-12)', \n",
    "                     'Ferry Terminal']\n",
    "\n",
    "#rt[\"LOCATION_DESCRIPTION\"].unique()"
   ]
  },
  {
   "cell_type": "code",
   "execution_count": 18,
   "metadata": {},
   "outputs": [
    {
     "name": "stdout",
     "output_type": "stream",
     "text": [
      "Removing Captive Locations by Location Code Removes 2870 sites, or 1.84% of all RT QSR rows\n"
     ]
    }
   ],
   "source": [
    "print(f'Removing Captive Locations by Location Code Removes {len(rt)-len(rt[~(rt[\"LOCATION_DESCRIPTION\"].isin(captive_locations))])} sites, or {round(100*(len(rt)-len(rt[~(rt[\"LOCATION_DESCRIPTION\"].isin(captive_locations))]))/len(rt),2)}% of all RT QSR rows')"
   ]
  },
  {
   "cell_type": "code",
   "execution_count": 19,
   "metadata": {},
   "outputs": [],
   "source": [
    "## Filtering out captive locations\n",
    "rt = rt[~(rt[\"LOCATION_DESCRIPTION\"].isin(captive_locations))]"
   ]
  },
  {
   "cell_type": "code",
   "execution_count": 20,
   "metadata": {},
   "outputs": [],
   "source": [
    "## WARNING!!!!! DO NOT DO THIS b/c facility codes that have shoping center in them also refer to pad sites. I pre-filtered captive locations\n",
    "## Trying to see if I can filter out shopping center and Airport\n",
    "\n",
    "\n",
    "#searchfor = [\"AIRPORT\", \"SHOPPING CENTER\"]\n",
    "#filters = rt[~(rt[\"LOCATION_DESCRIPTION\"].isin(captive_locations)) & ~(rt[\"FACILITY_NAME\"].isna())]\n",
    "#filters = filters[(filters['FACILITY_NAME'].str.contains('|'.join(searchfor)))]\n",
    "#filters"
   ]
  },
  {
   "cell_type": "code",
   "execution_count": 21,
   "metadata": {},
   "outputs": [],
   "source": [
    "## Cutting down rt to mimic the ChainXY data. Will Change column names as well\n",
    "rt = rt[['STORE_NO','CHAIN_NO','CHAIN','GEOCITY', 'GEOSTATE','SERVICE_CODE','LATITUDE', 'LONGITUDE']]\n",
    "rt[\"HashId\"] = pd.NA\n",
    "rt[\"LABEL\"] = \"QSR\"\n",
    "\n",
    "## Changing columns to mimic ChainXY\n",
    "rt.columns = ['StoreNumber', 'ChainId', 'ChainName', 'City', 'State', 'StoreType',\n",
    "       'LATITUDE', 'LONGITUDE', 'HashId', 'LABEL']"
   ]
  },
  {
   "cell_type": "code",
   "execution_count": 22,
   "metadata": {},
   "outputs": [
    {
     "data": {
      "text/html": [
       "<div>\n",
       "<style scoped>\n",
       "    .dataframe tbody tr th:only-of-type {\n",
       "        vertical-align: middle;\n",
       "    }\n",
       "\n",
       "    .dataframe tbody tr th {\n",
       "        vertical-align: top;\n",
       "    }\n",
       "\n",
       "    .dataframe thead th {\n",
       "        text-align: right;\n",
       "    }\n",
       "</style>\n",
       "<table border=\"1\" class=\"dataframe\">\n",
       "  <thead>\n",
       "    <tr style=\"text-align: right;\">\n",
       "      <th></th>\n",
       "      <th>StoreNumber</th>\n",
       "      <th>ChainId</th>\n",
       "      <th>ChainName</th>\n",
       "      <th>City</th>\n",
       "      <th>State</th>\n",
       "      <th>StoreType</th>\n",
       "      <th>LATITUDE</th>\n",
       "      <th>LONGITUDE</th>\n",
       "      <th>HashId</th>\n",
       "      <th>LABEL</th>\n",
       "    </tr>\n",
       "  </thead>\n",
       "  <tbody>\n",
       "    <tr>\n",
       "      <th>2</th>\n",
       "      <td>468006</td>\n",
       "      <td>20</td>\n",
       "      <td>A &amp; W</td>\n",
       "      <td>WINNECONNE</td>\n",
       "      <td>WI</td>\n",
       "      <td>DT</td>\n",
       "      <td>44.111902</td>\n",
       "      <td>-88.657309</td>\n",
       "      <td>&lt;NA&gt;</td>\n",
       "      <td>QSR</td>\n",
       "    </tr>\n",
       "    <tr>\n",
       "      <th>3</th>\n",
       "      <td>467999</td>\n",
       "      <td>20</td>\n",
       "      <td>A &amp; W</td>\n",
       "      <td>MILES CITY</td>\n",
       "      <td>MT</td>\n",
       "      <td>DT</td>\n",
       "      <td>46.402699</td>\n",
       "      <td>-105.822015</td>\n",
       "      <td>&lt;NA&gt;</td>\n",
       "      <td>QSR</td>\n",
       "    </tr>\n",
       "    <tr>\n",
       "      <th>8</th>\n",
       "      <td>468134</td>\n",
       "      <td>8541</td>\n",
       "      <td>Amigo's</td>\n",
       "      <td>OMAHA</td>\n",
       "      <td>NE</td>\n",
       "      <td>DT</td>\n",
       "      <td>41.232437</td>\n",
       "      <td>-96.119234</td>\n",
       "      <td>&lt;NA&gt;</td>\n",
       "      <td>QSR</td>\n",
       "    </tr>\n",
       "    <tr>\n",
       "      <th>16</th>\n",
       "      <td>468374</td>\n",
       "      <td>24</td>\n",
       "      <td>Arby's</td>\n",
       "      <td>NEW BRIGHTON</td>\n",
       "      <td>PA</td>\n",
       "      <td>DT</td>\n",
       "      <td>40.738581</td>\n",
       "      <td>-80.316655</td>\n",
       "      <td>&lt;NA&gt;</td>\n",
       "      <td>QSR</td>\n",
       "    </tr>\n",
       "    <tr>\n",
       "      <th>...</th>\n",
       "      <td>...</td>\n",
       "      <td>...</td>\n",
       "      <td>...</td>\n",
       "      <td>...</td>\n",
       "      <td>...</td>\n",
       "      <td>...</td>\n",
       "      <td>...</td>\n",
       "      <td>...</td>\n",
       "      <td>...</td>\n",
       "      <td>...</td>\n",
       "    </tr>\n",
       "    <tr>\n",
       "      <th>158142</th>\n",
       "      <td>467749</td>\n",
       "      <td>4</td>\n",
       "      <td>Dunkin' Donuts</td>\n",
       "      <td>VISALIA</td>\n",
       "      <td>CA</td>\n",
       "      <td>DT</td>\n",
       "      <td>36.312855</td>\n",
       "      <td>-119.313629</td>\n",
       "      <td>&lt;NA&gt;</td>\n",
       "      <td>QSR</td>\n",
       "    </tr>\n",
       "    <tr>\n",
       "      <th>158144</th>\n",
       "      <td>467751</td>\n",
       "      <td>4</td>\n",
       "      <td>Dunkin' Donuts</td>\n",
       "      <td>VIRGINIA BEACH</td>\n",
       "      <td>VA</td>\n",
       "      <td>DT</td>\n",
       "      <td>36.840402</td>\n",
       "      <td>-76.094753</td>\n",
       "      <td>&lt;NA&gt;</td>\n",
       "      <td>QSR</td>\n",
       "    </tr>\n",
       "    <tr>\n",
       "      <th>158145</th>\n",
       "      <td>467752</td>\n",
       "      <td>4</td>\n",
       "      <td>Dunkin' Donuts</td>\n",
       "      <td>HARRISONBURG</td>\n",
       "      <td>VA</td>\n",
       "      <td>DT</td>\n",
       "      <td>38.419521</td>\n",
       "      <td>-78.869827</td>\n",
       "      <td>&lt;NA&gt;</td>\n",
       "      <td>QSR</td>\n",
       "    </tr>\n",
       "    <tr>\n",
       "      <th>158155</th>\n",
       "      <td>467839</td>\n",
       "      <td>10</td>\n",
       "      <td>Long John Silver's</td>\n",
       "      <td>FORESTVILLE</td>\n",
       "      <td>MD</td>\n",
       "      <td>DT</td>\n",
       "      <td>38.845196</td>\n",
       "      <td>-76.884308</td>\n",
       "      <td>&lt;NA&gt;</td>\n",
       "      <td>QSR</td>\n",
       "    </tr>\n",
       "  </tbody>\n",
       "</table>\n",
       "<p>65055 rows × 10 columns</p>\n",
       "</div>"
      ],
      "text/plain": [
       "        StoreNumber  ChainId           ChainName            City State  \\\n",
       "2            468006       20               A & W      WINNECONNE    WI   \n",
       "3            467999       20               A & W      MILES CITY    MT   \n",
       "8            468134     8541             Amigo's           OMAHA    NE   \n",
       "16           468374       24              Arby's    NEW BRIGHTON    PA   \n",
       "...             ...      ...                 ...             ...   ...   \n",
       "158142       467749        4      Dunkin' Donuts         VISALIA    CA   \n",
       "158144       467751        4      Dunkin' Donuts  VIRGINIA BEACH    VA   \n",
       "158145       467752        4      Dunkin' Donuts    HARRISONBURG    VA   \n",
       "158155       467839       10  Long John Silver's     FORESTVILLE    MD   \n",
       "\n",
       "       StoreType   LATITUDE   LONGITUDE HashId LABEL  \n",
       "2             DT  44.111902  -88.657309   <NA>   QSR  \n",
       "3             DT  46.402699 -105.822015   <NA>   QSR  \n",
       "8             DT  41.232437  -96.119234   <NA>   QSR  \n",
       "16            DT  40.738581  -80.316655   <NA>   QSR  \n",
       "...          ...        ...         ...    ...   ...  \n",
       "158142        DT  36.312855 -119.313629   <NA>   QSR  \n",
       "158144        DT  36.840402  -76.094753   <NA>   QSR  \n",
       "158145        DT  38.419521  -78.869827   <NA>   QSR  \n",
       "158155        DT  38.845196  -76.884308   <NA>   QSR  \n",
       "\n",
       "[65055 rows x 10 columns]"
      ]
     },
     "execution_count": 22,
     "metadata": {},
     "output_type": "execute_result"
    }
   ],
   "source": [
    "## Cutting to dt only to mirror Tetrad. This can easily be changed\n",
    "rt\n",
    "rt = rt[(rt[\"StoreType\"]==\"DT\")]\n",
    "rt"
   ]
  },
  {
   "cell_type": "markdown",
   "metadata": {},
   "source": [
    "## Finished Staging ChainXY & RT - Combine the data you want to use to make your \"Evaluation Table\" here\n",
    "\n",
    "### NOTE: CXY QSRs: 142,600   RT QSRs: 150,621 (with captive loc removed) So pretty close!"
   ]
  },
  {
   "cell_type": "code",
   "execution_count": 23,
   "metadata": {},
   "outputs": [
    {
     "data": {
      "text/plain": [
       "True"
      ]
     },
     "execution_count": 23,
     "metadata": {},
     "output_type": "execute_result"
    }
   ],
   "source": [
    "## I am using CXY big box & RT Drive Thru only for the first pass just to see what happens\n",
    "eval_tbl = pd.concat([rt,big_box], axis=0).reset_index(drop=True)\n",
    "\n",
    "## Should return TRUE when using big_box & RT\n",
    "len(eval_tbl) == len(big_box) + len(rt)"
   ]
  },
  {
   "cell_type": "code",
   "execution_count": 24,
   "metadata": {},
   "outputs": [],
   "source": [
    "## 77,575 total rows. Easy.\n",
    "#eval_tbl"
   ]
  },
  {
   "cell_type": "code",
   "execution_count": 25,
   "metadata": {},
   "outputs": [
    {
     "data": {
      "text/plain": [
       "2027"
      ]
     },
     "execution_count": 25,
     "metadata": {},
     "output_type": "execute_result"
    }
   ],
   "source": [
    "## Number of Popeyes left in eval_table\n",
    "len(eval_tbl[(eval_tbl[\"ChainName\"]==\"Popeyes\")])"
   ]
  },
  {
   "cell_type": "markdown",
   "metadata": {},
   "source": [
    "# Now start writing code to calculate dist for each raw seed point"
   ]
  },
  {
   "cell_type": "code",
   "execution_count": 26,
   "metadata": {},
   "outputs": [],
   "source": [
    "#####################################################################\n",
    "### All that is required of the eval table is it has two columns named LATITUDE & LONGITUDE\n",
    "###\n",
    "###\n",
    "########################################################################\n",
    "\n",
    "def evaluation_criteria(lat,lon,eval_tbl):\n",
    "    #Set lat lon to be evaluated\n",
    "    eval_tbl[\"point_lat\"] = lat\n",
    "    eval_tbl[\"point_lon\"] = lon\n",
    "    \n",
    "    #Perform distcalc \n",
    "    eval_tbl = eval_tbl.pipe(distcalc)\n",
    "    \n",
    "    #Get & return counts\n",
    "    ct_QSR_halfmi  = sum(eval_tbl[(eval_tbl[\"dist_to_pt\"]<=0.5)][\"LABEL\"]==\"QSR\")\n",
    "    ct_BBOX_halfmi = sum(eval_tbl[(eval_tbl[\"dist_to_pt\"]<=0.5)][\"LABEL\"]==\"BBOX\")\n",
    "    ct_plk_tenthmi = sum(eval_tbl[(eval_tbl[\"dist_to_pt\"]<=0.1)][\"ChainName\"]==\"Popeyes\")\n",
    "    ct_plk_qmi = sum(eval_tbl[(eval_tbl[\"dist_to_pt\"]<=0.25)][\"ChainName\"]==\"Popeyes\")\n",
    "    \n",
    "    return ct_QSR_halfmi,ct_BBOX_halfmi,ct_plk_tenthmi,ct_plk_qmi\n",
    "    "
   ]
  },
  {
   "cell_type": "code",
   "execution_count": 27,
   "metadata": {},
   "outputs": [
    {
     "data": {
      "text/plain": [
       "(13, 2, 0, 1)"
      ]
     },
     "execution_count": 27,
     "metadata": {},
     "output_type": "execute_result"
    }
   ],
   "source": [
    "## Test, returns a tuple\n",
    "evaluation_criteria(raw_seedpts[\"seed_LAT\"][7],raw_seedpts[\"seed_LON\"][7], eval_tbl)"
   ]
  },
  {
   "cell_type": "code",
   "execution_count": 37,
   "metadata": {},
   "outputs": [],
   "source": [
    "## This is the loop that calculates with no swifter. Clocked it at 14m 57s for 43,903 rows\n",
    "raw_seedpts[\"results\"] = raw_seedpts.apply(lambda row: evaluation_criteria(row[\"seed_LAT\"],row[\"seed_LON\"], eval_tbl), axis=1)\n",
    "\n",
    "## This is the loop that calculates with swifter. Good old swifter defaulting to Pandas apply again.\n",
    "#raw_seedpts[\"results\"] = raw_seedpts.swifter.apply(lambda row: evaluation_criteria(row[\"seed_LAT\"],row[\"seed_LON\"], eval_tbl), axis=1)\n",
    "\n",
    "## Forcing the use of dask for the apply here. Clocked it at 6m 45s for 43,903 row\n",
    "raw_seedpts[\"results\"]  = dd.from_pandas(raw_seedpts, npartitions=2*multiprocessing.cpu_count())\\\n",
    "        .map_partitions(lambda df: df.apply(lambda row: evaluation_criteria(row[\"seed_LAT\"],row[\"seed_LON\"], eval_tbl), axis=1))\\\n",
    "        .compute(scheduler='processes')"
   ]
  },
  {
   "cell_type": "code",
   "execution_count": 33,
   "metadata": {},
   "outputs": [],
   "source": [
    "## Columns to fill in counts on\n",
    "raw_seedpts[\"ct_QSR_0.5mi\"] = raw_seedpts[\"results\"].apply(lambda row: row[0])\n",
    "raw_seedpts[\"ct_BB_0.5mi\"] = raw_seedpts[\"results\"].apply(lambda row: row[1])\n",
    "raw_seedpts[\"ct_plk_tenthmi\"] = raw_seedpts[\"results\"].apply(lambda row: row[2])\n",
    "raw_seedpts[\"ct_plk_qmi\"] = raw_seedpts[\"results\"].apply(lambda row: row[3])"
   ]
  },
  {
   "cell_type": "code",
   "execution_count": 35,
   "metadata": {},
   "outputs": [],
   "source": [
    "import copy\n",
    "#check_check = copy.deepcopy(raw_seedpts)"
   ]
  },
  {
   "cell_type": "code",
   "execution_count": 36,
   "metadata": {},
   "outputs": [
    {
     "data": {
      "text/html": [
       "<div>\n",
       "<style scoped>\n",
       "    .dataframe tbody tr th:only-of-type {\n",
       "        vertical-align: middle;\n",
       "    }\n",
       "\n",
       "    .dataframe tbody tr th {\n",
       "        vertical-align: top;\n",
       "    }\n",
       "\n",
       "    .dataframe thead th {\n",
       "        text-align: right;\n",
       "    }\n",
       "</style>\n",
       "<table border=\"1\" class=\"dataframe\">\n",
       "  <thead>\n",
       "    <tr style=\"text-align: right;\">\n",
       "      <th></th>\n",
       "      <th>geometry</th>\n",
       "      <th>area</th>\n",
       "      <th>seed_LAT</th>\n",
       "      <th>seed_LON</th>\n",
       "      <th>STATE</th>\n",
       "      <th>results</th>\n",
       "    </tr>\n",
       "  </thead>\n",
       "  <tbody>\n",
       "    <tr>\n",
       "      <th>0</th>\n",
       "      <td>POLYGON ((-83.94854614356376 38.07321482506316...</td>\n",
       "      <td>199653.082246</td>\n",
       "      <td>38.075029</td>\n",
       "      <td>-83.949671</td>\n",
       "      <td>CONT_US</td>\n",
       "      <td>(10, 0, 0, 0)</td>\n",
       "    </tr>\n",
       "    <tr>\n",
       "      <th>1</th>\n",
       "      <td>POLYGON ((-111.9693898853349 41.24347261312843...</td>\n",
       "      <td>198739.095562</td>\n",
       "      <td>41.244639</td>\n",
       "      <td>-111.972855</td>\n",
       "      <td>CONT_US</td>\n",
       "      <td>(14, 1, 0, 1)</td>\n",
       "    </tr>\n",
       "    <tr>\n",
       "      <th>2</th>\n",
       "      <td>POLYGON ((-117.0814745048376 34.84804484478374...</td>\n",
       "      <td>181049.745578</td>\n",
       "      <td>34.850887</td>\n",
       "      <td>-117.082879</td>\n",
       "      <td>CONT_US</td>\n",
       "      <td>(10, 0, 0, 0)</td>\n",
       "    </tr>\n",
       "    <tr>\n",
       "      <th>3</th>\n",
       "      <td>POLYGON ((-84.53777046800231 33.56778750202658...</td>\n",
       "      <td>180358.265807</td>\n",
       "      <td>33.569272</td>\n",
       "      <td>-84.540125</td>\n",
       "      <td>CONT_US</td>\n",
       "      <td>(11, 1, 0, 1)</td>\n",
       "    </tr>\n",
       "    <tr>\n",
       "      <th>...</th>\n",
       "      <td>...</td>\n",
       "      <td>...</td>\n",
       "      <td>...</td>\n",
       "      <td>...</td>\n",
       "      <td>...</td>\n",
       "      <td>...</td>\n",
       "    </tr>\n",
       "    <tr>\n",
       "      <th>43899</th>\n",
       "      <td>POLYGON ((-155.0658403191121 19.69471168779418...</td>\n",
       "      <td>26605.490282</td>\n",
       "      <td>19.694718</td>\n",
       "      <td>-155.066716</td>\n",
       "      <td>HI</td>\n",
       "      <td>(5, 1, 0, 0)</td>\n",
       "    </tr>\n",
       "    <tr>\n",
       "      <th>43900</th>\n",
       "      <td>POLYGON ((-155.0653773354194 19.69017768633985...</td>\n",
       "      <td>26605.490282</td>\n",
       "      <td>19.690184</td>\n",
       "      <td>-155.066253</td>\n",
       "      <td>HI</td>\n",
       "      <td>(3, 0, 0, 0)</td>\n",
       "    </tr>\n",
       "    <tr>\n",
       "      <th>43901</th>\n",
       "      <td>POLYGON ((-155.0383895809582 19.62203959911077...</td>\n",
       "      <td>26605.490282</td>\n",
       "      <td>19.622046</td>\n",
       "      <td>-155.039265</td>\n",
       "      <td>HI</td>\n",
       "      <td>(1, 0, 0, 0)</td>\n",
       "    </tr>\n",
       "    <tr>\n",
       "      <th>43902</th>\n",
       "      <td>POLYGON ((-159.3669130581232 21.98104676977263...</td>\n",
       "      <td>26605.490282</td>\n",
       "      <td>21.981039</td>\n",
       "      <td>-159.367797</td>\n",
       "      <td>HI</td>\n",
       "      <td>(2, 1, 0, 0)</td>\n",
       "    </tr>\n",
       "  </tbody>\n",
       "</table>\n",
       "<p>43903 rows × 6 columns</p>\n",
       "</div>"
      ],
      "text/plain": [
       "                                                geometry           area  \\\n",
       "0      POLYGON ((-83.94854614356376 38.07321482506316...  199653.082246   \n",
       "1      POLYGON ((-111.9693898853349 41.24347261312843...  198739.095562   \n",
       "2      POLYGON ((-117.0814745048376 34.84804484478374...  181049.745578   \n",
       "3      POLYGON ((-84.53777046800231 33.56778750202658...  180358.265807   \n",
       "...                                                  ...            ...   \n",
       "43899  POLYGON ((-155.0658403191121 19.69471168779418...   26605.490282   \n",
       "43900  POLYGON ((-155.0653773354194 19.69017768633985...   26605.490282   \n",
       "43901  POLYGON ((-155.0383895809582 19.62203959911077...   26605.490282   \n",
       "43902  POLYGON ((-159.3669130581232 21.98104676977263...   26605.490282   \n",
       "\n",
       "        seed_LAT    seed_LON    STATE        results  \n",
       "0      38.075029  -83.949671  CONT_US  (10, 0, 0, 0)  \n",
       "1      41.244639 -111.972855  CONT_US  (14, 1, 0, 1)  \n",
       "2      34.850887 -117.082879  CONT_US  (10, 0, 0, 0)  \n",
       "3      33.569272  -84.540125  CONT_US  (11, 1, 0, 1)  \n",
       "...          ...         ...      ...            ...  \n",
       "43899  19.694718 -155.066716       HI   (5, 1, 0, 0)  \n",
       "43900  19.690184 -155.066253       HI   (3, 0, 0, 0)  \n",
       "43901  19.622046 -155.039265       HI   (1, 0, 0, 0)  \n",
       "43902  21.981039 -159.367797       HI   (2, 1, 0, 0)  \n",
       "\n",
       "[43903 rows x 6 columns]"
      ]
     },
     "execution_count": 36,
     "metadata": {},
     "output_type": "execute_result"
    }
   ],
   "source": [
    "## check check are the dask results\n",
    "check_check"
   ]
  },
  {
   "cell_type": "code",
   "execution_count": 39,
   "metadata": {},
   "outputs": [
    {
     "data": {
      "text/plain": [
       "43903"
      ]
     },
     "execution_count": 39,
     "metadata": {},
     "output_type": "execute_result"
    }
   ],
   "source": [
    "## Wonderful dask is the same as pandas and takes 1/2 the time. Why wont swifter recognize this?\n",
    "sum(raw_seedpts[\"results\"] == check_check[\"results\"])"
   ]
  },
  {
   "cell_type": "code",
   "execution_count": 150,
   "metadata": {},
   "outputs": [
    {
     "data": {
      "text/plain": [
       "geometry        POLYGON ((-84.30777825925239 38.3804861887164,...\n",
       "area                                                      52888.6\n",
       "seed_LAT                                                  38.3811\n",
       "seed_LON                                                 -84.3078\n",
       "STATE                                                     CONT_US\n",
       "ct_QSR_0.5mi                                                    5\n",
       "ct_BB_0.5mi                                                     1\n",
       "results                                                    (5, 1)\n",
       "Name: 3333, dtype: object"
      ]
     },
     "execution_count": 150,
     "metadata": {},
     "output_type": "execute_result"
    }
   ],
   "source": [
    "raw_seedpts.loc[3333]"
   ]
  },
  {
   "cell_type": "code",
   "execution_count": 38,
   "metadata": {},
   "outputs": [
    {
     "data": {
      "text/html": [
       "<div>\n",
       "<style scoped>\n",
       "    .dataframe tbody tr th:only-of-type {\n",
       "        vertical-align: middle;\n",
       "    }\n",
       "\n",
       "    .dataframe tbody tr th {\n",
       "        vertical-align: top;\n",
       "    }\n",
       "\n",
       "    .dataframe thead th {\n",
       "        text-align: right;\n",
       "    }\n",
       "</style>\n",
       "<table border=\"1\" class=\"dataframe\">\n",
       "  <thead>\n",
       "    <tr style=\"text-align: right;\">\n",
       "      <th></th>\n",
       "      <th>StoreNumber</th>\n",
       "      <th>ChainId</th>\n",
       "      <th>ChainName</th>\n",
       "      <th>City</th>\n",
       "      <th>State</th>\n",
       "      <th>StoreType</th>\n",
       "      <th>LATITUDE</th>\n",
       "      <th>LONGITUDE</th>\n",
       "      <th>HashId</th>\n",
       "      <th>LABEL</th>\n",
       "      <th>point_lat</th>\n",
       "      <th>point_lon</th>\n",
       "      <th>dist_to_pt</th>\n",
       "    </tr>\n",
       "  </thead>\n",
       "  <tbody>\n",
       "    <tr>\n",
       "      <th>13476</th>\n",
       "      <td>84685</td>\n",
       "      <td>11</td>\n",
       "      <td>McDonald's-TR</td>\n",
       "      <td>OGDEN</td>\n",
       "      <td>UT</td>\n",
       "      <td>DT</td>\n",
       "      <td>41.245640</td>\n",
       "      <td>-111.970490</td>\n",
       "      <td>&lt;NA&gt;</td>\n",
       "      <td>QSR</td>\n",
       "      <td>41.244639</td>\n",
       "      <td>-111.972855</td>\n",
       "      <td>0.140994</td>\n",
       "    </tr>\n",
       "    <tr>\n",
       "      <th>19339</th>\n",
       "      <td>118297</td>\n",
       "      <td>15</td>\n",
       "      <td>Taco Bell-TR</td>\n",
       "      <td>OGDEN</td>\n",
       "      <td>UT</td>\n",
       "      <td>DT</td>\n",
       "      <td>41.244017</td>\n",
       "      <td>-111.970954</td>\n",
       "      <td>&lt;NA&gt;</td>\n",
       "      <td>QSR</td>\n",
       "      <td>41.244639</td>\n",
       "      <td>-111.972855</td>\n",
       "      <td>0.107723</td>\n",
       "    </tr>\n",
       "    <tr>\n",
       "      <th>25523</th>\n",
       "      <td>147748</td>\n",
       "      <td>216</td>\n",
       "      <td>Del Taco</td>\n",
       "      <td>OGDEN</td>\n",
       "      <td>UT</td>\n",
       "      <td>DT</td>\n",
       "      <td>41.245811</td>\n",
       "      <td>-111.977546</td>\n",
       "      <td>&lt;NA&gt;</td>\n",
       "      <td>QSR</td>\n",
       "      <td>41.244639</td>\n",
       "      <td>-111.972855</td>\n",
       "      <td>0.256810</td>\n",
       "    </tr>\n",
       "    <tr>\n",
       "      <th>25833</th>\n",
       "      <td>175559</td>\n",
       "      <td>9</td>\n",
       "      <td>KFC-TR</td>\n",
       "      <td>OGDEN</td>\n",
       "      <td>UT</td>\n",
       "      <td>DT</td>\n",
       "      <td>41.243895</td>\n",
       "      <td>-111.972226</td>\n",
       "      <td>&lt;NA&gt;</td>\n",
       "      <td>QSR</td>\n",
       "      <td>41.244639</td>\n",
       "      <td>-111.972855</td>\n",
       "      <td>0.060935</td>\n",
       "    </tr>\n",
       "    <tr>\n",
       "      <th>...</th>\n",
       "      <td>...</td>\n",
       "      <td>...</td>\n",
       "      <td>...</td>\n",
       "      <td>...</td>\n",
       "      <td>...</td>\n",
       "      <td>...</td>\n",
       "      <td>...</td>\n",
       "      <td>...</td>\n",
       "      <td>...</td>\n",
       "      <td>...</td>\n",
       "      <td>...</td>\n",
       "      <td>...</td>\n",
       "      <td>...</td>\n",
       "    </tr>\n",
       "    <tr>\n",
       "      <th>56809</th>\n",
       "      <td>420990</td>\n",
       "      <td>552</td>\n",
       "      <td>Popeyes</td>\n",
       "      <td>OGDEN</td>\n",
       "      <td>UT</td>\n",
       "      <td>DT</td>\n",
       "      <td>41.244197</td>\n",
       "      <td>-111.975185</td>\n",
       "      <td>&lt;NA&gt;</td>\n",
       "      <td>QSR</td>\n",
       "      <td>41.244639</td>\n",
       "      <td>-111.972855</td>\n",
       "      <td>0.124850</td>\n",
       "    </tr>\n",
       "    <tr>\n",
       "      <th>57705</th>\n",
       "      <td>426620</td>\n",
       "      <td>6609</td>\n",
       "      <td>Freddy's</td>\n",
       "      <td>OGDEN</td>\n",
       "      <td>UT</td>\n",
       "      <td>DT</td>\n",
       "      <td>41.244193</td>\n",
       "      <td>-111.974621</td>\n",
       "      <td>&lt;NA&gt;</td>\n",
       "      <td>QSR</td>\n",
       "      <td>41.244639</td>\n",
       "      <td>-111.972855</td>\n",
       "      <td>0.096793</td>\n",
       "    </tr>\n",
       "    <tr>\n",
       "      <th>59034</th>\n",
       "      <td>435157</td>\n",
       "      <td>648</td>\n",
       "      <td>Sonic</td>\n",
       "      <td>OGDEN</td>\n",
       "      <td>UT</td>\n",
       "      <td>DT</td>\n",
       "      <td>41.243336</td>\n",
       "      <td>-111.970474</td>\n",
       "      <td>&lt;NA&gt;</td>\n",
       "      <td>QSR</td>\n",
       "      <td>41.244639</td>\n",
       "      <td>-111.972855</td>\n",
       "      <td>0.153015</td>\n",
       "    </tr>\n",
       "    <tr>\n",
       "      <th>76724</th>\n",
       "      <td>4411</td>\n",
       "      <td>4818</td>\n",
       "      <td>The Home Depot</td>\n",
       "      <td>OGDEN</td>\n",
       "      <td>UT</td>\n",
       "      <td>NaN</td>\n",
       "      <td>41.247217</td>\n",
       "      <td>-111.975392</td>\n",
       "      <td>4818-f542c2f17d928155ef5ac5356e44ca12-7945a8cd...</td>\n",
       "      <td>BBOX</td>\n",
       "      <td>41.244639</td>\n",
       "      <td>-111.972855</td>\n",
       "      <td>0.221558</td>\n",
       "    </tr>\n",
       "  </tbody>\n",
       "</table>\n",
       "<p>15 rows × 13 columns</p>\n",
       "</div>"
      ],
      "text/plain": [
       "      StoreNumber  ChainId       ChainName   City State StoreType   LATITUDE  \\\n",
       "13476       84685       11   McDonald's-TR  OGDEN    UT        DT  41.245640   \n",
       "19339      118297       15    Taco Bell-TR  OGDEN    UT        DT  41.244017   \n",
       "25523      147748      216        Del Taco  OGDEN    UT        DT  41.245811   \n",
       "25833      175559        9          KFC-TR  OGDEN    UT        DT  41.243895   \n",
       "...           ...      ...             ...    ...   ...       ...        ...   \n",
       "56809      420990      552         Popeyes  OGDEN    UT        DT  41.244197   \n",
       "57705      426620     6609        Freddy's  OGDEN    UT        DT  41.244193   \n",
       "59034      435157      648           Sonic  OGDEN    UT        DT  41.243336   \n",
       "76724        4411     4818  The Home Depot  OGDEN    UT       NaN  41.247217   \n",
       "\n",
       "        LONGITUDE                                             HashId LABEL  \\\n",
       "13476 -111.970490                                               <NA>   QSR   \n",
       "19339 -111.970954                                               <NA>   QSR   \n",
       "25523 -111.977546                                               <NA>   QSR   \n",
       "25833 -111.972226                                               <NA>   QSR   \n",
       "...           ...                                                ...   ...   \n",
       "56809 -111.975185                                               <NA>   QSR   \n",
       "57705 -111.974621                                               <NA>   QSR   \n",
       "59034 -111.970474                                               <NA>   QSR   \n",
       "76724 -111.975392  4818-f542c2f17d928155ef5ac5356e44ca12-7945a8cd...  BBOX   \n",
       "\n",
       "       point_lat   point_lon  dist_to_pt  \n",
       "13476  41.244639 -111.972855    0.140994  \n",
       "19339  41.244639 -111.972855    0.107723  \n",
       "25523  41.244639 -111.972855    0.256810  \n",
       "25833  41.244639 -111.972855    0.060935  \n",
       "...          ...         ...         ...  \n",
       "56809  41.244639 -111.972855    0.124850  \n",
       "57705  41.244639 -111.972855    0.096793  \n",
       "59034  41.244639 -111.972855    0.153015  \n",
       "76724  41.244639 -111.972855    0.221558  \n",
       "\n",
       "[15 rows x 13 columns]"
      ]
     },
     "execution_count": 38,
     "metadata": {},
     "output_type": "execute_result"
    }
   ],
   "source": [
    "## MANUALLY PUT IN INDEX TO VALIDATE HERE\n",
    "## Not getting copy warning here bc setting of points comes from outside data frame (raw_seedpts)\n",
    "\n",
    "idx= 1\n",
    "eval_tbl[\"point_lat\"] = raw_seedpts[\"seed_LAT\"][idx]\n",
    "eval_tbl[\"point_lon\"] = raw_seedpts[\"seed_LON\"][idx]\n",
    "\n",
    "#Perform distcalc\n",
    "eval_tbl = eval_tbl.pipe(distcalc)\n",
    "\n",
    "## Point being calculated in miles (0.5mi is same as Tetrad), look at tenth mile as well, or other dist\n",
    "#eval_tbl[(eval_tbl[\"dist_to_pt\"]<=0.5)]"
   ]
  },
  {
   "cell_type": "code",
   "execution_count": 39,
   "metadata": {},
   "outputs": [
    {
     "name": "stdout",
     "output_type": "stream",
     "text": [
      "INDEX:  1\n",
      "QSR_hlfmi:  14\n",
      "BBOX_hlfmi:  1\n",
      "plk_hlfmi:  1\n",
      "plk_1mi:  1\n"
     ]
    }
   ],
   "source": [
    "print(\"INDEX: \", idx)\n",
    "print(\"QSR_hlfmi: \", sum(eval_tbl[(eval_tbl[\"dist_to_pt\"]<=0.5)][\"LABEL\"]==\"QSR\"))\n",
    "print(\"BBOX_hlfmi: \", sum(eval_tbl[(eval_tbl[\"dist_to_pt\"]<=0.5)][\"LABEL\"]==\"BBOX\"))\n",
    "print(\"plk_tenthmi: \", sum(eval_tbl[(eval_tbl[\"dist_to_pt\"]<=0.1)][\"ChainName\"]==\"Popeyes\"))\n",
    "print(\"plk_qmi: \", sum(eval_tbl[(eval_tbl[\"dist_to_pt\"]<=0.25)][\"ChainName\"]==\"Popeyes\"))\n",
    "print(\"plk_hlfmi: \", sum(eval_tbl[(eval_tbl[\"dist_to_pt\"]<=0.5)][\"ChainName\"]==\"Popeyes\"))\n",
    "print(\"plk_1mi: \", sum(eval_tbl[(eval_tbl[\"dist_to_pt\"]<=1)][\"ChainName\"]==\"Popeyes\"))"
   ]
  },
  {
   "cell_type": "markdown",
   "metadata": {},
   "source": [
    "## Test Filter based on PLK"
   ]
  },
  {
   "cell_type": "code",
   "execution_count": 88,
   "metadata": {},
   "outputs": [
    {
     "ename": "KeyError",
     "evalue": "'ct_plk_halfmi'",
     "output_type": "error",
     "traceback": [
      "\u001b[1;31m---------------------------------------------------------------------------\u001b[0m",
      "\u001b[1;31mKeyError\u001b[0m                                  Traceback (most recent call last)",
      "\u001b[1;32mc:\\users\\rbijn006\\appdata\\local\\programs\\python\\python38\\lib\\site-packages\\pandas\\core\\indexes\\base.py\u001b[0m in \u001b[0;36mget_loc\u001b[1;34m(self, key, method, tolerance)\u001b[0m\n\u001b[0;32m   2645\u001b[0m             \u001b[1;32mtry\u001b[0m\u001b[1;33m:\u001b[0m\u001b[1;33m\u001b[0m\u001b[1;33m\u001b[0m\u001b[0m\n\u001b[1;32m-> 2646\u001b[1;33m                 \u001b[1;32mreturn\u001b[0m \u001b[0mself\u001b[0m\u001b[1;33m.\u001b[0m\u001b[0m_engine\u001b[0m\u001b[1;33m.\u001b[0m\u001b[0mget_loc\u001b[0m\u001b[1;33m(\u001b[0m\u001b[0mkey\u001b[0m\u001b[1;33m)\u001b[0m\u001b[1;33m\u001b[0m\u001b[1;33m\u001b[0m\u001b[0m\n\u001b[0m\u001b[0;32m   2647\u001b[0m             \u001b[1;32mexcept\u001b[0m \u001b[0mKeyError\u001b[0m\u001b[1;33m:\u001b[0m\u001b[1;33m\u001b[0m\u001b[1;33m\u001b[0m\u001b[0m\n",
      "\u001b[1;32mpandas\\_libs\\index.pyx\u001b[0m in \u001b[0;36mpandas._libs.index.IndexEngine.get_loc\u001b[1;34m()\u001b[0m\n",
      "\u001b[1;32mpandas\\_libs\\index.pyx\u001b[0m in \u001b[0;36mpandas._libs.index.IndexEngine.get_loc\u001b[1;34m()\u001b[0m\n",
      "\u001b[1;32mpandas\\_libs\\hashtable_class_helper.pxi\u001b[0m in \u001b[0;36mpandas._libs.hashtable.PyObjectHashTable.get_item\u001b[1;34m()\u001b[0m\n",
      "\u001b[1;32mpandas\\_libs\\hashtable_class_helper.pxi\u001b[0m in \u001b[0;36mpandas._libs.hashtable.PyObjectHashTable.get_item\u001b[1;34m()\u001b[0m\n",
      "\u001b[1;31mKeyError\u001b[0m: 'ct_plk_halfmi'",
      "\nDuring handling of the above exception, another exception occurred:\n",
      "\u001b[1;31mKeyError\u001b[0m                                  Traceback (most recent call last)",
      "\u001b[1;32m<ipython-input-88-b5ab8f05eb4f>\u001b[0m in \u001b[0;36m<module>\u001b[1;34m\u001b[0m\n\u001b[1;32m----> 1\u001b[1;33m \u001b[0mraw_seedpts\u001b[0m\u001b[1;33m[\u001b[0m\u001b[1;33m(\u001b[0m\u001b[0mraw_seedpts\u001b[0m\u001b[1;33m[\u001b[0m\u001b[1;34m'ct_plk_halfmi'\u001b[0m\u001b[1;33m]\u001b[0m\u001b[1;33m==\u001b[0m\u001b[1;36m0\u001b[0m\u001b[1;33m)\u001b[0m\u001b[1;33m&\u001b[0m\u001b[1;33m(\u001b[0m\u001b[1;33m(\u001b[0m\u001b[0mraw_seedpts\u001b[0m\u001b[1;33m[\u001b[0m\u001b[1;34m'ct_QSR_0.5mi'\u001b[0m\u001b[1;33m]\u001b[0m\u001b[1;33m>=\u001b[0m\u001b[1;36m3\u001b[0m\u001b[1;33m)\u001b[0m \u001b[1;33m|\u001b[0m \u001b[1;33m(\u001b[0m\u001b[1;33m(\u001b[0m\u001b[0mraw_seedpts\u001b[0m\u001b[1;33m[\u001b[0m\u001b[1;34m'ct_QSR_0.5mi'\u001b[0m\u001b[1;33m]\u001b[0m\u001b[1;33m>=\u001b[0m\u001b[1;36m1\u001b[0m\u001b[1;33m)\u001b[0m\u001b[1;33m&\u001b[0m\u001b[1;33m(\u001b[0m\u001b[0mraw_seedpts\u001b[0m\u001b[1;33m[\u001b[0m\u001b[1;34m'ct_BB_0.5mi'\u001b[0m\u001b[1;33m]\u001b[0m\u001b[1;33m>=\u001b[0m\u001b[1;36m1\u001b[0m\u001b[1;33m)\u001b[0m\u001b[1;33m)\u001b[0m\u001b[1;33m)\u001b[0m\u001b[1;33m]\u001b[0m\u001b[1;33m\u001b[0m\u001b[1;33m\u001b[0m\u001b[0m\n\u001b[0m",
      "\u001b[1;32mc:\\users\\rbijn006\\appdata\\local\\programs\\python\\python38\\lib\\site-packages\\pandas\\core\\frame.py\u001b[0m in \u001b[0;36m__getitem__\u001b[1;34m(self, key)\u001b[0m\n\u001b[0;32m   2798\u001b[0m             \u001b[1;32mif\u001b[0m \u001b[0mself\u001b[0m\u001b[1;33m.\u001b[0m\u001b[0mcolumns\u001b[0m\u001b[1;33m.\u001b[0m\u001b[0mnlevels\u001b[0m \u001b[1;33m>\u001b[0m \u001b[1;36m1\u001b[0m\u001b[1;33m:\u001b[0m\u001b[1;33m\u001b[0m\u001b[1;33m\u001b[0m\u001b[0m\n\u001b[0;32m   2799\u001b[0m                 \u001b[1;32mreturn\u001b[0m \u001b[0mself\u001b[0m\u001b[1;33m.\u001b[0m\u001b[0m_getitem_multilevel\u001b[0m\u001b[1;33m(\u001b[0m\u001b[0mkey\u001b[0m\u001b[1;33m)\u001b[0m\u001b[1;33m\u001b[0m\u001b[1;33m\u001b[0m\u001b[0m\n\u001b[1;32m-> 2800\u001b[1;33m             \u001b[0mindexer\u001b[0m \u001b[1;33m=\u001b[0m \u001b[0mself\u001b[0m\u001b[1;33m.\u001b[0m\u001b[0mcolumns\u001b[0m\u001b[1;33m.\u001b[0m\u001b[0mget_loc\u001b[0m\u001b[1;33m(\u001b[0m\u001b[0mkey\u001b[0m\u001b[1;33m)\u001b[0m\u001b[1;33m\u001b[0m\u001b[1;33m\u001b[0m\u001b[0m\n\u001b[0m\u001b[0;32m   2801\u001b[0m             \u001b[1;32mif\u001b[0m \u001b[0mis_integer\u001b[0m\u001b[1;33m(\u001b[0m\u001b[0mindexer\u001b[0m\u001b[1;33m)\u001b[0m\u001b[1;33m:\u001b[0m\u001b[1;33m\u001b[0m\u001b[1;33m\u001b[0m\u001b[0m\n\u001b[0;32m   2802\u001b[0m                 \u001b[0mindexer\u001b[0m \u001b[1;33m=\u001b[0m \u001b[1;33m[\u001b[0m\u001b[0mindexer\u001b[0m\u001b[1;33m]\u001b[0m\u001b[1;33m\u001b[0m\u001b[1;33m\u001b[0m\u001b[0m\n",
      "\u001b[1;32mc:\\users\\rbijn006\\appdata\\local\\programs\\python\\python38\\lib\\site-packages\\pandas\\core\\indexes\\base.py\u001b[0m in \u001b[0;36mget_loc\u001b[1;34m(self, key, method, tolerance)\u001b[0m\n\u001b[0;32m   2646\u001b[0m                 \u001b[1;32mreturn\u001b[0m \u001b[0mself\u001b[0m\u001b[1;33m.\u001b[0m\u001b[0m_engine\u001b[0m\u001b[1;33m.\u001b[0m\u001b[0mget_loc\u001b[0m\u001b[1;33m(\u001b[0m\u001b[0mkey\u001b[0m\u001b[1;33m)\u001b[0m\u001b[1;33m\u001b[0m\u001b[1;33m\u001b[0m\u001b[0m\n\u001b[0;32m   2647\u001b[0m             \u001b[1;32mexcept\u001b[0m \u001b[0mKeyError\u001b[0m\u001b[1;33m:\u001b[0m\u001b[1;33m\u001b[0m\u001b[1;33m\u001b[0m\u001b[0m\n\u001b[1;32m-> 2648\u001b[1;33m                 \u001b[1;32mreturn\u001b[0m \u001b[0mself\u001b[0m\u001b[1;33m.\u001b[0m\u001b[0m_engine\u001b[0m\u001b[1;33m.\u001b[0m\u001b[0mget_loc\u001b[0m\u001b[1;33m(\u001b[0m\u001b[0mself\u001b[0m\u001b[1;33m.\u001b[0m\u001b[0m_maybe_cast_indexer\u001b[0m\u001b[1;33m(\u001b[0m\u001b[0mkey\u001b[0m\u001b[1;33m)\u001b[0m\u001b[1;33m)\u001b[0m\u001b[1;33m\u001b[0m\u001b[1;33m\u001b[0m\u001b[0m\n\u001b[0m\u001b[0;32m   2649\u001b[0m         \u001b[0mindexer\u001b[0m \u001b[1;33m=\u001b[0m \u001b[0mself\u001b[0m\u001b[1;33m.\u001b[0m\u001b[0mget_indexer\u001b[0m\u001b[1;33m(\u001b[0m\u001b[1;33m[\u001b[0m\u001b[0mkey\u001b[0m\u001b[1;33m]\u001b[0m\u001b[1;33m,\u001b[0m \u001b[0mmethod\u001b[0m\u001b[1;33m=\u001b[0m\u001b[0mmethod\u001b[0m\u001b[1;33m,\u001b[0m \u001b[0mtolerance\u001b[0m\u001b[1;33m=\u001b[0m\u001b[0mtolerance\u001b[0m\u001b[1;33m)\u001b[0m\u001b[1;33m\u001b[0m\u001b[1;33m\u001b[0m\u001b[0m\n\u001b[0;32m   2650\u001b[0m         \u001b[1;32mif\u001b[0m \u001b[0mindexer\u001b[0m\u001b[1;33m.\u001b[0m\u001b[0mndim\u001b[0m \u001b[1;33m>\u001b[0m \u001b[1;36m1\u001b[0m \u001b[1;32mor\u001b[0m \u001b[0mindexer\u001b[0m\u001b[1;33m.\u001b[0m\u001b[0msize\u001b[0m \u001b[1;33m>\u001b[0m \u001b[1;36m1\u001b[0m\u001b[1;33m:\u001b[0m\u001b[1;33m\u001b[0m\u001b[1;33m\u001b[0m\u001b[0m\n",
      "\u001b[1;32mpandas\\_libs\\index.pyx\u001b[0m in \u001b[0;36mpandas._libs.index.IndexEngine.get_loc\u001b[1;34m()\u001b[0m\n",
      "\u001b[1;32mpandas\\_libs\\index.pyx\u001b[0m in \u001b[0;36mpandas._libs.index.IndexEngine.get_loc\u001b[1;34m()\u001b[0m\n",
      "\u001b[1;32mpandas\\_libs\\hashtable_class_helper.pxi\u001b[0m in \u001b[0;36mpandas._libs.hashtable.PyObjectHashTable.get_item\u001b[1;34m()\u001b[0m\n",
      "\u001b[1;32mpandas\\_libs\\hashtable_class_helper.pxi\u001b[0m in \u001b[0;36mpandas._libs.hashtable.PyObjectHashTable.get_item\u001b[1;34m()\u001b[0m\n",
      "\u001b[1;31mKeyError\u001b[0m: 'ct_plk_halfmi'"
     ]
    }
   ],
   "source": [
    "raw_seedpts[(raw_seedpts['plk_tenthmi']==0)&((raw_seedpts['ct_QSR_0.5mi']>=3) | ((raw_seedpts['ct_QSR_0.5mi']>=1)&(raw_seedpts['ct_BB_0.5mi']>=1)))]"
   ]
  },
  {
   "cell_type": "code",
   "execution_count": null,
   "metadata": {},
   "outputs": [],
   "source": []
  },
  {
   "cell_type": "markdown",
   "metadata": {},
   "source": [
    "## End computation. Now see which seeds passed"
   ]
  },
  {
   "cell_type": "code",
   "execution_count": 87,
   "metadata": {},
   "outputs": [
    {
     "ename": "KeyError",
     "evalue": "'ct_QSR_0.5mi'",
     "output_type": "error",
     "traceback": [
      "\u001b[1;31m---------------------------------------------------------------------------\u001b[0m",
      "\u001b[1;31mKeyError\u001b[0m                                  Traceback (most recent call last)",
      "\u001b[1;32mc:\\users\\rbijn006\\appdata\\local\\programs\\python\\python38\\lib\\site-packages\\pandas\\core\\indexes\\base.py\u001b[0m in \u001b[0;36mget_loc\u001b[1;34m(self, key, method, tolerance)\u001b[0m\n\u001b[0;32m   2645\u001b[0m             \u001b[1;32mtry\u001b[0m\u001b[1;33m:\u001b[0m\u001b[1;33m\u001b[0m\u001b[1;33m\u001b[0m\u001b[0m\n\u001b[1;32m-> 2646\u001b[1;33m                 \u001b[1;32mreturn\u001b[0m \u001b[0mself\u001b[0m\u001b[1;33m.\u001b[0m\u001b[0m_engine\u001b[0m\u001b[1;33m.\u001b[0m\u001b[0mget_loc\u001b[0m\u001b[1;33m(\u001b[0m\u001b[0mkey\u001b[0m\u001b[1;33m)\u001b[0m\u001b[1;33m\u001b[0m\u001b[1;33m\u001b[0m\u001b[0m\n\u001b[0m\u001b[0;32m   2647\u001b[0m             \u001b[1;32mexcept\u001b[0m \u001b[0mKeyError\u001b[0m\u001b[1;33m:\u001b[0m\u001b[1;33m\u001b[0m\u001b[1;33m\u001b[0m\u001b[0m\n",
      "\u001b[1;32mpandas\\_libs\\index.pyx\u001b[0m in \u001b[0;36mpandas._libs.index.IndexEngine.get_loc\u001b[1;34m()\u001b[0m\n",
      "\u001b[1;32mpandas\\_libs\\index.pyx\u001b[0m in \u001b[0;36mpandas._libs.index.IndexEngine.get_loc\u001b[1;34m()\u001b[0m\n",
      "\u001b[1;32mpandas\\_libs\\hashtable_class_helper.pxi\u001b[0m in \u001b[0;36mpandas._libs.hashtable.PyObjectHashTable.get_item\u001b[1;34m()\u001b[0m\n",
      "\u001b[1;32mpandas\\_libs\\hashtable_class_helper.pxi\u001b[0m in \u001b[0;36mpandas._libs.hashtable.PyObjectHashTable.get_item\u001b[1;34m()\u001b[0m\n",
      "\u001b[1;31mKeyError\u001b[0m: 'ct_QSR_0.5mi'",
      "\nDuring handling of the above exception, another exception occurred:\n",
      "\u001b[1;31mKeyError\u001b[0m                                  Traceback (most recent call last)",
      "\u001b[1;32m<ipython-input-87-a1891bdc4114>\u001b[0m in \u001b[0;36m<module>\u001b[1;34m\u001b[0m\n\u001b[0;32m      1\u001b[0m \u001b[1;31m## Criteria was (>=3 QSRs), OR (>=1QSR + >=1BBOX)\u001b[0m\u001b[1;33m\u001b[0m\u001b[1;33m\u001b[0m\u001b[1;33m\u001b[0m\u001b[0m\n\u001b[1;32m----> 2\u001b[1;33m \u001b[0mfinal_seedpoints\u001b[0m \u001b[1;33m=\u001b[0m \u001b[0mraw_seedpts\u001b[0m\u001b[1;33m[\u001b[0m\u001b[1;33m(\u001b[0m\u001b[1;33m(\u001b[0m\u001b[0mraw_seedpts\u001b[0m\u001b[1;33m[\u001b[0m\u001b[1;34m'ct_QSR_0.5mi'\u001b[0m\u001b[1;33m]\u001b[0m\u001b[1;33m>=\u001b[0m\u001b[1;36m3\u001b[0m\u001b[1;33m)\u001b[0m \u001b[1;33m|\u001b[0m \u001b[1;33m(\u001b[0m\u001b[1;33m(\u001b[0m\u001b[0mraw_seedpts\u001b[0m\u001b[1;33m[\u001b[0m\u001b[1;34m'ct_QSR_0.5mi'\u001b[0m\u001b[1;33m]\u001b[0m\u001b[1;33m>=\u001b[0m\u001b[1;36m1\u001b[0m\u001b[1;33m)\u001b[0m\u001b[1;33m&\u001b[0m\u001b[1;33m(\u001b[0m\u001b[0mraw_seedpts\u001b[0m\u001b[1;33m[\u001b[0m\u001b[1;34m'ct_BB_0.5mi'\u001b[0m\u001b[1;33m]\u001b[0m\u001b[1;33m>=\u001b[0m\u001b[1;36m1\u001b[0m\u001b[1;33m)\u001b[0m\u001b[1;33m)\u001b[0m\u001b[1;33m)\u001b[0m\u001b[1;33m]\u001b[0m\u001b[1;33m\u001b[0m\u001b[1;33m\u001b[0m\u001b[0m\n\u001b[0m",
      "\u001b[1;32mc:\\users\\rbijn006\\appdata\\local\\programs\\python\\python38\\lib\\site-packages\\pandas\\core\\frame.py\u001b[0m in \u001b[0;36m__getitem__\u001b[1;34m(self, key)\u001b[0m\n\u001b[0;32m   2798\u001b[0m             \u001b[1;32mif\u001b[0m \u001b[0mself\u001b[0m\u001b[1;33m.\u001b[0m\u001b[0mcolumns\u001b[0m\u001b[1;33m.\u001b[0m\u001b[0mnlevels\u001b[0m \u001b[1;33m>\u001b[0m \u001b[1;36m1\u001b[0m\u001b[1;33m:\u001b[0m\u001b[1;33m\u001b[0m\u001b[1;33m\u001b[0m\u001b[0m\n\u001b[0;32m   2799\u001b[0m                 \u001b[1;32mreturn\u001b[0m \u001b[0mself\u001b[0m\u001b[1;33m.\u001b[0m\u001b[0m_getitem_multilevel\u001b[0m\u001b[1;33m(\u001b[0m\u001b[0mkey\u001b[0m\u001b[1;33m)\u001b[0m\u001b[1;33m\u001b[0m\u001b[1;33m\u001b[0m\u001b[0m\n\u001b[1;32m-> 2800\u001b[1;33m             \u001b[0mindexer\u001b[0m \u001b[1;33m=\u001b[0m \u001b[0mself\u001b[0m\u001b[1;33m.\u001b[0m\u001b[0mcolumns\u001b[0m\u001b[1;33m.\u001b[0m\u001b[0mget_loc\u001b[0m\u001b[1;33m(\u001b[0m\u001b[0mkey\u001b[0m\u001b[1;33m)\u001b[0m\u001b[1;33m\u001b[0m\u001b[1;33m\u001b[0m\u001b[0m\n\u001b[0m\u001b[0;32m   2801\u001b[0m             \u001b[1;32mif\u001b[0m \u001b[0mis_integer\u001b[0m\u001b[1;33m(\u001b[0m\u001b[0mindexer\u001b[0m\u001b[1;33m)\u001b[0m\u001b[1;33m:\u001b[0m\u001b[1;33m\u001b[0m\u001b[1;33m\u001b[0m\u001b[0m\n\u001b[0;32m   2802\u001b[0m                 \u001b[0mindexer\u001b[0m \u001b[1;33m=\u001b[0m \u001b[1;33m[\u001b[0m\u001b[0mindexer\u001b[0m\u001b[1;33m]\u001b[0m\u001b[1;33m\u001b[0m\u001b[1;33m\u001b[0m\u001b[0m\n",
      "\u001b[1;32mc:\\users\\rbijn006\\appdata\\local\\programs\\python\\python38\\lib\\site-packages\\pandas\\core\\indexes\\base.py\u001b[0m in \u001b[0;36mget_loc\u001b[1;34m(self, key, method, tolerance)\u001b[0m\n\u001b[0;32m   2646\u001b[0m                 \u001b[1;32mreturn\u001b[0m \u001b[0mself\u001b[0m\u001b[1;33m.\u001b[0m\u001b[0m_engine\u001b[0m\u001b[1;33m.\u001b[0m\u001b[0mget_loc\u001b[0m\u001b[1;33m(\u001b[0m\u001b[0mkey\u001b[0m\u001b[1;33m)\u001b[0m\u001b[1;33m\u001b[0m\u001b[1;33m\u001b[0m\u001b[0m\n\u001b[0;32m   2647\u001b[0m             \u001b[1;32mexcept\u001b[0m \u001b[0mKeyError\u001b[0m\u001b[1;33m:\u001b[0m\u001b[1;33m\u001b[0m\u001b[1;33m\u001b[0m\u001b[0m\n\u001b[1;32m-> 2648\u001b[1;33m                 \u001b[1;32mreturn\u001b[0m \u001b[0mself\u001b[0m\u001b[1;33m.\u001b[0m\u001b[0m_engine\u001b[0m\u001b[1;33m.\u001b[0m\u001b[0mget_loc\u001b[0m\u001b[1;33m(\u001b[0m\u001b[0mself\u001b[0m\u001b[1;33m.\u001b[0m\u001b[0m_maybe_cast_indexer\u001b[0m\u001b[1;33m(\u001b[0m\u001b[0mkey\u001b[0m\u001b[1;33m)\u001b[0m\u001b[1;33m)\u001b[0m\u001b[1;33m\u001b[0m\u001b[1;33m\u001b[0m\u001b[0m\n\u001b[0m\u001b[0;32m   2649\u001b[0m         \u001b[0mindexer\u001b[0m \u001b[1;33m=\u001b[0m \u001b[0mself\u001b[0m\u001b[1;33m.\u001b[0m\u001b[0mget_indexer\u001b[0m\u001b[1;33m(\u001b[0m\u001b[1;33m[\u001b[0m\u001b[0mkey\u001b[0m\u001b[1;33m]\u001b[0m\u001b[1;33m,\u001b[0m \u001b[0mmethod\u001b[0m\u001b[1;33m=\u001b[0m\u001b[0mmethod\u001b[0m\u001b[1;33m,\u001b[0m \u001b[0mtolerance\u001b[0m\u001b[1;33m=\u001b[0m\u001b[0mtolerance\u001b[0m\u001b[1;33m)\u001b[0m\u001b[1;33m\u001b[0m\u001b[1;33m\u001b[0m\u001b[0m\n\u001b[0;32m   2650\u001b[0m         \u001b[1;32mif\u001b[0m \u001b[0mindexer\u001b[0m\u001b[1;33m.\u001b[0m\u001b[0mndim\u001b[0m \u001b[1;33m>\u001b[0m \u001b[1;36m1\u001b[0m \u001b[1;32mor\u001b[0m \u001b[0mindexer\u001b[0m\u001b[1;33m.\u001b[0m\u001b[0msize\u001b[0m \u001b[1;33m>\u001b[0m \u001b[1;36m1\u001b[0m\u001b[1;33m:\u001b[0m\u001b[1;33m\u001b[0m\u001b[1;33m\u001b[0m\u001b[0m\n",
      "\u001b[1;32mpandas\\_libs\\index.pyx\u001b[0m in \u001b[0;36mpandas._libs.index.IndexEngine.get_loc\u001b[1;34m()\u001b[0m\n",
      "\u001b[1;32mpandas\\_libs\\index.pyx\u001b[0m in \u001b[0;36mpandas._libs.index.IndexEngine.get_loc\u001b[1;34m()\u001b[0m\n",
      "\u001b[1;32mpandas\\_libs\\hashtable_class_helper.pxi\u001b[0m in \u001b[0;36mpandas._libs.hashtable.PyObjectHashTable.get_item\u001b[1;34m()\u001b[0m\n",
      "\u001b[1;32mpandas\\_libs\\hashtable_class_helper.pxi\u001b[0m in \u001b[0;36mpandas._libs.hashtable.PyObjectHashTable.get_item\u001b[1;34m()\u001b[0m\n",
      "\u001b[1;31mKeyError\u001b[0m: 'ct_QSR_0.5mi'"
     ]
    }
   ],
   "source": [
    "## Criteria was (>=3 QSRs), OR (>=1QSR + >=1BBOX)\n",
    "final_seedpoints = raw_seedpts[((raw_seedpts['ct_QSR_0.5mi']>=3) | ((raw_seedpts['ct_QSR_0.5mi']>=1)&(raw_seedpts['ct_BB_0.5mi']>=1)))]"
   ]
  },
  {
   "cell_type": "markdown",
   "metadata": {},
   "source": [
    "# 26,541 make the cut wit hno PLK filter. With halfmi PLK filter, 23,309\n",
    "\n",
    "# Tetrad had ~21,871 or 23,943 make the cut in a file I have"
   ]
  },
  {
   "cell_type": "code",
   "execution_count": 86,
   "metadata": {},
   "outputs": [
    {
     "ename": "NameError",
     "evalue": "name 'final_seedpoints' is not defined",
     "output_type": "error",
     "traceback": [
      "\u001b[1;31m---------------------------------------------------------------------------\u001b[0m",
      "\u001b[1;31mNameError\u001b[0m                                 Traceback (most recent call last)",
      "\u001b[1;32m<ipython-input-86-bf38400eefb9>\u001b[0m in \u001b[0;36m<module>\u001b[1;34m\u001b[0m\n\u001b[1;32m----> 1\u001b[1;33m \u001b[0mfinal_seedpoints\u001b[0m\u001b[1;33m[\u001b[0m\u001b[1;33m(\u001b[0m\u001b[0mfinal_seedpoints\u001b[0m\u001b[1;33m[\u001b[0m\u001b[1;34m\"STATE\"\u001b[0m\u001b[1;33m]\u001b[0m\u001b[1;33m==\u001b[0m\u001b[1;34m\"HI\"\u001b[0m\u001b[1;33m)\u001b[0m\u001b[1;33m]\u001b[0m\u001b[1;33m.\u001b[0m\u001b[0mshape\u001b[0m\u001b[1;33m\u001b[0m\u001b[1;33m\u001b[0m\u001b[0m\n\u001b[0m",
      "\u001b[1;31mNameError\u001b[0m: name 'final_seedpoints' is not defined"
     ]
    }
   ],
   "source": [
    "final_seedpoints[(final_seedpoints[\"STATE\"]==\"HI\")].shape"
   ]
  },
  {
   "cell_type": "code",
   "execution_count": 144,
   "metadata": {},
   "outputs": [
    {
     "data": {
      "text/plain": [
       "(36, 8)"
      ]
     },
     "execution_count": 144,
     "metadata": {},
     "output_type": "execute_result"
    }
   ],
   "source": [
    "final_seedpoints[(final_seedpoints[\"STATE\"]==\"AK\")].shape"
   ]
  },
  {
   "cell_type": "code",
   "execution_count": 148,
   "metadata": {},
   "outputs": [
    {
     "data": {
      "text/plain": [
       "(26445, 8)"
      ]
     },
     "execution_count": 148,
     "metadata": {},
     "output_type": "execute_result"
    }
   ],
   "source": [
    "final_seedpoints[(final_seedpoints[\"STATE\"]==\"CONT_US\")].shape"
   ]
  },
  {
   "cell_type": "markdown",
   "metadata": {},
   "source": [
    "## Add in State & City in loop after!!!! To get that info for all seed points!!!!"
   ]
  },
  {
   "cell_type": "code",
   "execution_count": 195,
   "metadata": {},
   "outputs": [
    {
     "data": {
      "text/html": [
       "<div>\n",
       "<style scoped>\n",
       "    .dataframe tbody tr th:only-of-type {\n",
       "        vertical-align: middle;\n",
       "    }\n",
       "\n",
       "    .dataframe tbody tr th {\n",
       "        vertical-align: top;\n",
       "    }\n",
       "\n",
       "    .dataframe thead th {\n",
       "        text-align: right;\n",
       "    }\n",
       "</style>\n",
       "<table border=\"1\" class=\"dataframe\">\n",
       "  <thead>\n",
       "    <tr style=\"text-align: right;\">\n",
       "      <th></th>\n",
       "      <th>geometry</th>\n",
       "      <th>area</th>\n",
       "      <th>seed_LAT</th>\n",
       "      <th>seed_LON</th>\n",
       "      <th>STATE</th>\n",
       "      <th>ct_QSR_0.5mi</th>\n",
       "      <th>ct_BB_0.5mi</th>\n",
       "      <th>results</th>\n",
       "    </tr>\n",
       "  </thead>\n",
       "  <tbody>\n",
       "    <tr>\n",
       "      <th>0</th>\n",
       "      <td>POLYGON ((-83.94854614356376 38.07321482506316...</td>\n",
       "      <td>199653.082246</td>\n",
       "      <td>38.075029</td>\n",
       "      <td>-83.949671</td>\n",
       "      <td>CONT_US</td>\n",
       "      <td>10</td>\n",
       "      <td>0</td>\n",
       "      <td>(10, 0)</td>\n",
       "    </tr>\n",
       "    <tr>\n",
       "      <th>1</th>\n",
       "      <td>POLYGON ((-111.9693898853349 41.24347261312843...</td>\n",
       "      <td>198739.095562</td>\n",
       "      <td>41.244639</td>\n",
       "      <td>-111.972855</td>\n",
       "      <td>CONT_US</td>\n",
       "      <td>13</td>\n",
       "      <td>1</td>\n",
       "      <td>(13, 1)</td>\n",
       "    </tr>\n",
       "    <tr>\n",
       "      <th>2</th>\n",
       "      <td>POLYGON ((-117.0814745048376 34.84804484478374...</td>\n",
       "      <td>181049.745578</td>\n",
       "      <td>34.850887</td>\n",
       "      <td>-117.082879</td>\n",
       "      <td>CONT_US</td>\n",
       "      <td>10</td>\n",
       "      <td>0</td>\n",
       "      <td>(10, 0)</td>\n",
       "    </tr>\n",
       "    <tr>\n",
       "      <th>3</th>\n",
       "      <td>POLYGON ((-84.53777046800231 33.56778750202658...</td>\n",
       "      <td>180358.265807</td>\n",
       "      <td>33.569272</td>\n",
       "      <td>-84.540125</td>\n",
       "      <td>CONT_US</td>\n",
       "      <td>10</td>\n",
       "      <td>1</td>\n",
       "      <td>(10, 1)</td>\n",
       "    </tr>\n",
       "    <tr>\n",
       "      <th>...</th>\n",
       "      <td>...</td>\n",
       "      <td>...</td>\n",
       "      <td>...</td>\n",
       "      <td>...</td>\n",
       "      <td>...</td>\n",
       "      <td>...</td>\n",
       "      <td>...</td>\n",
       "      <td>...</td>\n",
       "    </tr>\n",
       "    <tr>\n",
       "      <th>43898</th>\n",
       "      <td>POLYGON ((-155.0624683096572 19.69736667675373...</td>\n",
       "      <td>26605.490282</td>\n",
       "      <td>19.697373</td>\n",
       "      <td>-155.063344</td>\n",
       "      <td>HI</td>\n",
       "      <td>3</td>\n",
       "      <td>3</td>\n",
       "      <td>(3, 3)</td>\n",
       "    </tr>\n",
       "    <tr>\n",
       "      <th>43899</th>\n",
       "      <td>POLYGON ((-155.0658403191121 19.69471168779418...</td>\n",
       "      <td>26605.490282</td>\n",
       "      <td>19.694718</td>\n",
       "      <td>-155.066716</td>\n",
       "      <td>HI</td>\n",
       "      <td>5</td>\n",
       "      <td>1</td>\n",
       "      <td>(5, 1)</td>\n",
       "    </tr>\n",
       "    <tr>\n",
       "      <th>43900</th>\n",
       "      <td>POLYGON ((-155.0653773354194 19.69017768633985...</td>\n",
       "      <td>26605.490282</td>\n",
       "      <td>19.690184</td>\n",
       "      <td>-155.066253</td>\n",
       "      <td>HI</td>\n",
       "      <td>3</td>\n",
       "      <td>0</td>\n",
       "      <td>(3, 0)</td>\n",
       "    </tr>\n",
       "    <tr>\n",
       "      <th>43902</th>\n",
       "      <td>POLYGON ((-159.3669130581232 21.98104676977263...</td>\n",
       "      <td>26605.490282</td>\n",
       "      <td>21.981039</td>\n",
       "      <td>-159.367797</td>\n",
       "      <td>HI</td>\n",
       "      <td>2</td>\n",
       "      <td>1</td>\n",
       "      <td>(2, 1)</td>\n",
       "    </tr>\n",
       "  </tbody>\n",
       "</table>\n",
       "<p>26541 rows × 8 columns</p>\n",
       "</div>"
      ],
      "text/plain": [
       "                                                geometry           area  \\\n",
       "0      POLYGON ((-83.94854614356376 38.07321482506316...  199653.082246   \n",
       "1      POLYGON ((-111.9693898853349 41.24347261312843...  198739.095562   \n",
       "2      POLYGON ((-117.0814745048376 34.84804484478374...  181049.745578   \n",
       "3      POLYGON ((-84.53777046800231 33.56778750202658...  180358.265807   \n",
       "...                                                  ...            ...   \n",
       "43898  POLYGON ((-155.0624683096572 19.69736667675373...   26605.490282   \n",
       "43899  POLYGON ((-155.0658403191121 19.69471168779418...   26605.490282   \n",
       "43900  POLYGON ((-155.0653773354194 19.69017768633985...   26605.490282   \n",
       "43902  POLYGON ((-159.3669130581232 21.98104676977263...   26605.490282   \n",
       "\n",
       "        seed_LAT    seed_LON    STATE  ct_QSR_0.5mi  ct_BB_0.5mi  results  \n",
       "0      38.075029  -83.949671  CONT_US            10            0  (10, 0)  \n",
       "1      41.244639 -111.972855  CONT_US            13            1  (13, 1)  \n",
       "2      34.850887 -117.082879  CONT_US            10            0  (10, 0)  \n",
       "3      33.569272  -84.540125  CONT_US            10            1  (10, 1)  \n",
       "...          ...         ...      ...           ...          ...      ...  \n",
       "43898  19.697373 -155.063344       HI             3            3   (3, 3)  \n",
       "43899  19.694718 -155.066716       HI             5            1   (5, 1)  \n",
       "43900  19.690184 -155.066253       HI             3            0   (3, 0)  \n",
       "43902  21.981039 -159.367797       HI             2            1   (2, 1)  \n",
       "\n",
       "[26541 rows x 8 columns]"
      ]
     },
     "execution_count": 195,
     "metadata": {},
     "output_type": "execute_result"
    }
   ],
   "source": [
    "final_seedpoints"
   ]
  },
  {
   "cell_type": "code",
   "execution_count": null,
   "metadata": {},
   "outputs": [],
   "source": []
  },
  {
   "cell_type": "code",
   "execution_count": null,
   "metadata": {},
   "outputs": [],
   "source": []
  },
  {
   "cell_type": "code",
   "execution_count": null,
   "metadata": {},
   "outputs": [],
   "source": []
  },
  {
   "cell_type": "code",
   "execution_count": 221,
   "metadata": {},
   "outputs": [],
   "source": [
    "## Testing point geocoder\n",
    "test = pd.read_excel(\"results/test_excel.xlsx\").drop(\"geometry\", axis=1)"
   ]
  },
  {
   "cell_type": "code",
   "execution_count": 222,
   "metadata": {},
   "outputs": [
    {
     "data": {
      "text/plain": [
       "area            float64\n",
       "seed_LAT        float64\n",
       "seed_LON        float64\n",
       "STATE            object\n",
       "ct_QSR_0.5mi      int64\n",
       "dtype: object"
      ]
     },
     "execution_count": 222,
     "metadata": {},
     "output_type": "execute_result"
    }
   ],
   "source": [
    "test.dtypes"
   ]
  },
  {
   "cell_type": "code",
   "execution_count": 223,
   "metadata": {},
   "outputs": [
    {
     "data": {
      "text/plain": [
       "area             float64\n",
       "seed_LAT         float64\n",
       "seed_LON         float64\n",
       "STATE             object\n",
       "ct_QSR_0.5mi       int64\n",
       "geometry        geometry\n",
       "dtype: object"
      ]
     },
     "execution_count": 223,
     "metadata": {},
     "output_type": "execute_result"
    }
   ],
   "source": [
    "## Convert to GPD\n",
    "test = gpd.GeoDataFrame(test,crs = \"EPSG:4326\" , geometry= gpd.points_from_xy(test.seed_LON, test.seed_LAT))\n",
    "test.dtypes"
   ]
  },
  {
   "cell_type": "code",
   "execution_count": 225,
   "metadata": {},
   "outputs": [
    {
     "data": {
      "text/plain": [
       "0      POINT (-83.94967 38.07503)\n",
       "1     POINT (-111.97286 41.24464)\n",
       "2     POINT (-117.08288 34.85089)\n",
       "3      POINT (-84.54013 33.56927)\n",
       "                 ...             \n",
       "96     POINT (-78.77567 35.59218)\n",
       "97     POINT (-83.75777 31.96115)\n",
       "98     POINT (-97.76035 35.49027)\n",
       "99     POINT (-83.76255 34.59352)\n",
       "Name: geometry, Length: 100, dtype: geometry"
      ]
     },
     "execution_count": 225,
     "metadata": {},
     "output_type": "execute_result"
    }
   ],
   "source": [
    "test[\"geometry\"]"
   ]
  },
  {
   "cell_type": "code",
   "execution_count": null,
   "metadata": {},
   "outputs": [],
   "source": [
    "gpd.tools.reverse_geocode(test[\"geometry\"])"
   ]
  },
  {
   "cell_type": "code",
   "execution_count": null,
   "metadata": {},
   "outputs": [],
   "source": []
  },
  {
   "cell_type": "code",
   "execution_count": null,
   "metadata": {},
   "outputs": [],
   "source": []
  },
  {
   "cell_type": "code",
   "execution_count": null,
   "metadata": {},
   "outputs": [],
   "source": []
  },
  {
   "cell_type": "code",
   "execution_count": null,
   "metadata": {},
   "outputs": [],
   "source": []
  },
  {
   "cell_type": "code",
   "execution_count": null,
   "metadata": {},
   "outputs": [],
   "source": []
  },
  {
   "cell_type": "code",
   "execution_count": null,
   "metadata": {},
   "outputs": [],
   "source": []
  },
  {
   "cell_type": "code",
   "execution_count": 209,
   "metadata": {},
   "outputs": [],
   "source": [
    "## Going from excel to .shp for AY\n",
    "test = pd.read_excel(\"results/test_excel.xlsx\")"
   ]
  },
  {
   "cell_type": "code",
   "execution_count": 210,
   "metadata": {},
   "outputs": [
    {
     "data": {
      "text/plain": [
       "geometry         object\n",
       "area            float64\n",
       "seed_LAT        float64\n",
       "seed_LON        float64\n",
       "STATE            object\n",
       "ct_QSR_0.5mi      int64\n",
       "dtype: object"
      ]
     },
     "execution_count": 210,
     "metadata": {},
     "output_type": "execute_result"
    }
   ],
   "source": [
    "test.dtypes"
   ]
  },
  {
   "cell_type": "code",
   "execution_count": 211,
   "metadata": {},
   "outputs": [],
   "source": [
    "#for gemoetry to be compatible with geopandas\n",
    "from shapely.wkt import loads\n",
    "test[\"geometry\"] = test[\"geometry\"].apply(lambda row: loads(row))"
   ]
  },
  {
   "cell_type": "code",
   "execution_count": 212,
   "metadata": {},
   "outputs": [],
   "source": [
    "test = gpd.GeoDataFrame(test,crs = \"EPSG:4326\" , geometry= test[\"geometry\"])"
   ]
  },
  {
   "cell_type": "code",
   "execution_count": 213,
   "metadata": {},
   "outputs": [
    {
     "data": {
      "text/plain": [
       "geometry        geometry\n",
       "area             float64\n",
       "seed_LAT         float64\n",
       "seed_LON         float64\n",
       "STATE             object\n",
       "ct_QSR_0.5mi       int64\n",
       "dtype: object"
      ]
     },
     "execution_count": 213,
     "metadata": {},
     "output_type": "execute_result"
    }
   ],
   "source": [
    "test.dtypes"
   ]
  },
  {
   "cell_type": "code",
   "execution_count": 190,
   "metadata": {},
   "outputs": [],
   "source": [
    "test.to_file(\"results/test_file.shp\", index=False)"
   ]
  },
  {
   "cell_type": "code",
   "execution_count": 193,
   "metadata": {},
   "outputs": [],
   "source": [
    "test = gpd.read_file(\"results/test_file.shp\")"
   ]
  },
  {
   "cell_type": "code",
   "execution_count": null,
   "metadata": {},
   "outputs": [],
   "source": []
  },
  {
   "cell_type": "code",
   "execution_count": null,
   "metadata": {},
   "outputs": [],
   "source": []
  },
  {
   "cell_type": "code",
   "execution_count": null,
   "metadata": {},
   "outputs": [],
   "source": []
  }
 ],
 "metadata": {
  "kernelspec": {
   "display_name": "Python 3",
   "language": "python",
   "name": "python3"
  },
  "language_info": {
   "codemirror_mode": {
    "name": "ipython",
    "version": 3
   },
   "file_extension": ".py",
   "mimetype": "text/x-python",
   "name": "python",
   "nbconvert_exporter": "python",
   "pygments_lexer": "ipython3",
   "version": "3.8.6rc1"
  }
 },
 "nbformat": 4,
 "nbformat_minor": 4
}
